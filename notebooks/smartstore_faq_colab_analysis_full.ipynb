{
  "cells": [
    {
      "cell_type": "markdown",
      "id": "4d53a40d",
      "metadata": {
        "id": "4d53a40d"
      },
      "source": [
        "# 🛍️ 스마트스토어 FAQ 기반 RAG 챗봇\n",
        "\n",
        "이 노트북은 이 노트북은 스마트스토어 고객센터 FAQ 데이터를 활용해  \n",
        "**벡터 검색 기반 RAG 챗봇을 구현하고, 관련 데이터 분석 과정을 함께 정리한 문서** 입니다.\n",
        "\n",
        "- 🧠 OpenAI Embedding API + GPT API: 텍스트 임베딩 생성 및 LLM 기반 답변 생성\n",
        "- 📁 FAQ 데이터 (.pkl): 스마트스토어 고객센터 FAQ 데이터셋 활용\n",
        "- 🧹 데이터 전처리 및 청킹: 불필요한 푸터 제거 및 LLM 처리에 적합한 청크 단위로 텍스트 분할\n",
        "- 🔎 ChromaDB를 통한 벡터 검색: 임베딩된 청크를 효율적으로 저장하고 검색\n",
        "- 🔄 LangChain 기반 RAG 파이프라인 구성: 검색된 정보를 LLM에 전달하여 답변을 생성하는 파이프라인 구축\n",
        "---\n",
        "📊 Top-K 앙상블 검색 (하이브리드 검색) 구현 (추가사항)\n",
        "- BM25 키워드 검색 도입\n",
        "- RRF (Reciprocal Rank Fusion) 방식을 활용하여 벡터 검색 및 키워드 검색 결과 융합\n",
        "\n"
      ]
    },
    {
      "cell_type": "code",
      "execution_count": 1,
      "id": "kTdOjDaC9sk5",
      "metadata": {
        "colab": {
          "base_uri": "https://localhost:8080/"
        },
        "id": "kTdOjDaC9sk5",
        "outputId": "1680957a-140f-44ed-cefd-55bebd88c87e"
      },
      "outputs": [
        {
          "output_type": "stream",
          "name": "stdout",
          "text": [
            "Mounted at /content/drive\n"
          ]
        }
      ],
      "source": [
        "# Google Drive 마운트\n",
        "from google.colab import drive\n",
        "drive.mount('/content/drive')"
      ]
    },
    {
      "cell_type": "code",
      "execution_count": 2,
      "id": "9Hdupeeu-bzI",
      "metadata": {
        "colab": {
          "base_uri": "https://localhost:8080/"
        },
        "collapsed": true,
        "id": "9Hdupeeu-bzI",
        "outputId": "5ae2c0b7-d8cb-42a6-b6dc-87ce586824a8"
      },
      "outputs": [
        {
          "output_type": "stream",
          "name": "stdout",
          "text": [
            "Collecting koreanize_matplotlib\n",
            "  Downloading koreanize_matplotlib-0.1.1-py3-none-any.whl.metadata (992 bytes)\n",
            "Requirement already satisfied: matplotlib in /usr/local/lib/python3.11/dist-packages (from koreanize_matplotlib) (3.10.0)\n",
            "Requirement already satisfied: contourpy>=1.0.1 in /usr/local/lib/python3.11/dist-packages (from matplotlib->koreanize_matplotlib) (1.3.2)\n",
            "Requirement already satisfied: cycler>=0.10 in /usr/local/lib/python3.11/dist-packages (from matplotlib->koreanize_matplotlib) (0.12.1)\n",
            "Requirement already satisfied: fonttools>=4.22.0 in /usr/local/lib/python3.11/dist-packages (from matplotlib->koreanize_matplotlib) (4.58.1)\n",
            "Requirement already satisfied: kiwisolver>=1.3.1 in /usr/local/lib/python3.11/dist-packages (from matplotlib->koreanize_matplotlib) (1.4.8)\n",
            "Requirement already satisfied: numpy>=1.23 in /usr/local/lib/python3.11/dist-packages (from matplotlib->koreanize_matplotlib) (2.0.2)\n",
            "Requirement already satisfied: packaging>=20.0 in /usr/local/lib/python3.11/dist-packages (from matplotlib->koreanize_matplotlib) (24.2)\n",
            "Requirement already satisfied: pillow>=8 in /usr/local/lib/python3.11/dist-packages (from matplotlib->koreanize_matplotlib) (11.2.1)\n",
            "Requirement already satisfied: pyparsing>=2.3.1 in /usr/local/lib/python3.11/dist-packages (from matplotlib->koreanize_matplotlib) (3.2.3)\n",
            "Requirement already satisfied: python-dateutil>=2.7 in /usr/local/lib/python3.11/dist-packages (from matplotlib->koreanize_matplotlib) (2.9.0.post0)\n",
            "Requirement already satisfied: six>=1.5 in /usr/local/lib/python3.11/dist-packages (from python-dateutil>=2.7->matplotlib->koreanize_matplotlib) (1.17.0)\n",
            "Downloading koreanize_matplotlib-0.1.1-py3-none-any.whl (7.9 MB)\n",
            "\u001b[2K   \u001b[90m━━━━━━━━━━━━━━━━━━━━━━━━━━━━━━━━━━━━━━━━\u001b[0m \u001b[32m7.9/7.9 MB\u001b[0m \u001b[31m42.1 MB/s\u001b[0m eta \u001b[36m0:00:00\u001b[0m\n",
            "\u001b[?25hInstalling collected packages: koreanize_matplotlib\n",
            "Successfully installed koreanize_matplotlib-0.1.1\n",
            "Reading package lists... Done\n",
            "Building dependency tree... Done\n",
            "Reading state information... Done\n",
            "E: Unable to locate package fonts-nanum*dd\n",
            "E: Couldn't find any package by glob 'fonts-nanum*dd'\n",
            "E: Couldn't find any package by regex 'fonts-nanum*dd'\n"
          ]
        }
      ],
      "source": [
        "!pip install koreanize_matplotlib\n",
        "!fc-list | grep NanumGothic\n",
        "!apt-get install fonts-nanum*dd"
      ]
    },
    {
      "cell_type": "code",
      "execution_count": 3,
      "id": "Tv9DI-oh_KcS",
      "metadata": {
        "id": "Tv9DI-oh_KcS"
      },
      "outputs": [],
      "source": [
        "import warnings\n",
        "warnings.simplefilter(action='ignore', category=Warning)"
      ]
    },
    {
      "cell_type": "markdown",
      "id": "c69ad503",
      "metadata": {
        "id": "c69ad503"
      },
      "source": [
        "## 🧱 1.  FAQ 데이터 불러오기\n",
        "- final_result.pkl 파일 업로드\n",
        "- 딕셔너리 구조인지 확인\n",
        "- 샘플 질문/답변 3개 출력"
      ]
    },
    {
      "cell_type": "code",
      "execution_count": 4,
      "id": "JYUX0-OADD_N",
      "metadata": {
        "id": "JYUX0-OADD_N"
      },
      "outputs": [],
      "source": [
        "import pickle\n",
        "import matplotlib.pyplot as plt\n",
        "import koreanize_matplotlib\n",
        "import seaborn as sns\n",
        "import numpy as np\n",
        "import pandas as pd"
      ]
    },
    {
      "cell_type": "code",
      "execution_count": 5,
      "id": "ZgzIYiqHnMNH",
      "metadata": {
        "colab": {
          "base_uri": "https://localhost:8080/"
        },
        "id": "ZgzIYiqHnMNH",
        "outputId": "760a6eb4-68af-448a-813b-faf193537e15"
      },
      "outputs": [
        {
          "output_type": "stream",
          "name": "stdout",
          "text": [
            "FAQ 데이터 로딩 완료!\n",
            "로드된 FAQ 개수: 2717\n"
          ]
        }
      ],
      "source": [
        "# 1.FAQ 데이터 로드\n",
        "try:\n",
        "    with open(\"/content/drive/MyDrive/FAQ_Project/final_result.pkl\", \"rb\") as f:\n",
        "        raw_faq_data = pickle.load(f)\n",
        "        print(\"FAQ 데이터 로딩 완료!\")\n",
        "        print(f\"로드된 FAQ 개수: {len(raw_faq_data)}\")\n",
        "except FileNotFoundError:\n",
        "    print(\"final_result.pkl 파일을 찾을 수 없습니다. 경로를 확인해주세요.\")\n",
        "except Exception as e:\n",
        "    print(f\"FAQ 로딩 실패: {e}\")\n",
        "    raw_faq_data = {}"
      ]
    },
    {
      "cell_type": "code",
      "execution_count": 6,
      "id": "rtQ_aDPsnVG_",
      "metadata": {
        "colab": {
          "base_uri": "https://localhost:8080/"
        },
        "id": "rtQ_aDPsnVG_",
        "outputId": "b6fa8023-d0bf-4d8c-c338-483587815cd9"
      },
      "outputs": [
        {
          "output_type": "stream",
          "name": "stdout",
          "text": [
            "\n",
            "--- FAQ 데이터 샘플 ---\n",
            "질문: [가입절차] 스마트스토어센터 회원가입은 어떻게 하나요? (ID만들기)\n",
            "답변: 네이버 커머스 ID 하나로 스마트스토어센터와 같은 네이버의 다양한 커머스 서비스를 편리하게 이용하실 수 있습니다.네이버 커머스 ID가 없으시다면 [가입하기] 버튼을 통해 회원가입해 주세요.           1. '네이버ID' 로 네이버 커머스 ID 가입하기1) [네이버 아이디로 가입하기] 버튼을 눌러서 네이버 로그인 해 주세요.2) 연락가능한 휴대폰번호를 입력하시고 인증하신 후 개인정보 수집동의를 체크 하여 [가입] 버튼을 눌러주세요. 3) 네이버 커머스 ID 회원가입이 완료되어 해당 네이버ID 로 스마트스토어센터 서비스 가입을 하실 수 있습니다. 이 후 스마트스토어센터 로그인 시에 [네이버 아이디로 로그인] 버튼을 눌러서 네이버 로그인을 하실 수 있습니다. 2. '이메일 아이디'로 네이버 커머스 ID 가입하기 1) [이메일 아이디로 가입하기] 버튼을 눌러서 사용할 ID를 입력해 주세요.! 중요. 로그인 ID는 \"실 사용중인 이메일주소\"로 기재하셔야 합니다. (예 : abc@naver.com)2) 연락가능한 휴대폰번호와 이메일주소를 입력하시고 인증하신 후 개인정보 수집동의를 체크 하여 [가입] 버튼을 눌러주세요.3) 네이버 커머스 ID 회원가입이 완료되어 해당 이메일 아이디로 스마트스토어센터 서비스 가입을 하실 수 있습니다.이 후 스마트스토어센터 로그인 시에 해당 이메일 아이디와 비밀번호를 입력하여 로그인을 하실 수 있습니다. ※ 참고. 로그인 ID 계정 대표자와 사업자번호 대표자 동일여부는 체크하지 않습니다. (대표자가 상이해도 가입 진행 가능합니다.)             \n",
            "\n",
            "\n",
            "위 도움말이 도움이 되었나요?\n",
            "\n",
            "\n",
            "별점1점\n",
            "\n",
            "별점2점\n",
            "\n",
            "별점3점\n",
            "\n",
            "별점4점\n",
            "\n",
            "별점5점\n",
            "\n",
            "\n",
            "\n",
            "소중한 의견을 남겨주시면 보완하도록 노력하겠습니다.\n",
            "\n",
            "보내기\n",
            "\n",
            "\n",
            "\n",
            "관련 도움말/키워드\n",
            "\n",
            "스마트스토어 로그인ID(매니저)를 추가하거나 변경할 수 없나요?\n",
            "네이버 커머스 ID 전환 이후, 이전 아이디로 로그인이 불가한가요?\n",
            "네이버 커머스 ID 전환 후 로그인이 되지 않아요.\n",
            "\n",
            "\n",
            "\n",
            "도움말 닫기...\n",
            "------------------------------\n",
            "질문: [가입서류] 스마트스토어 판매자 유형별 필요한 서류가 어떻게 되나요?\n",
            "답변: 스마트스토어 판매 회원 분류는 아래와 같으며 반드시 모든 서류를 제출해 주셔야 가입이 가능합니다. 가입 서류는 가입 단계에서 업로드 가능하며, 가입 신청 시 서류 준비가 되지 않은 경우 가입 완료 후 [판매자정보 > 심사내역 조회] 메뉴에서 업로드 가능합니다.사업자 등록증의 경우 고객확인제도(AML)를 위한 최신 사업자의 정보를 확인하기 위해 최근 1년 이내 발급분으로 서류 접수받고 있습니다.   판매회원분류 가입 시 필요 서류 국내 개인일반  서류 불필요법정 미성년자(만 19세 미만) 법정대리인 인감증명서 사본 1부 (최근 3개월 이내 발급 분, 생년월일+성별 구분 제외 마스킹 필요) 가족관계증명서 사본 1부 (또는 법정대리임을 증명할 서류) 스마트스토어 법정대리인 동의서 사본 1부 (판매회원 ID 필수 기재) ※ 참고.   · 법정대리인 인감증명서 제출이 어려울 경우 법정대리인 본인서명사실확인서로 대체 가능 국내 사업자 법정 미성년자(만 19세 미만)  사업자 등록증 사본 1부 (1년 이내 발급분) 대표자(또는 사업자) 명의 통장 사본 1부  대표자 인감증명서 사본 1부 (3개월 이내 발급분, 생년월일+성별 구분 제외 마스킹 필요) 대표자(또는 사업자) 명의 통장 사본 1부 ※ 참고.  · 법정 미성년자 대표자여도 이미 사업자등록증 발급당시 법정대리인 확인 후 발급됨으로    법적대리인의 동의서류는 별도 받지 않음 · 예금주명이 대표자명 또는 사업자등록증의 상호명과 동일할 경우 통장사본 생략 가능 · 공동대표의 경우 대표 대표자가 예금주명에 있는 경우 통장 사본 생략 가능 · 대표자 본인 인감증명서 제출이 필요하며 법적대리인 인감증명서 제출로는 가입 심사 불가능 · 대표자 인감증명서는 '본인서명사실확인서' 사본으로 대체 접수 가능  · 대표자 본인명의 휴대폰 인증시 '대표자 인감증명서'제출 생략 가능 간이/개인사업자 사업자 등록증 사본 1부 (1년 이내 발급분) 대표자 인감증명서 사본 1부 (3개월 이내 발급분, 생년월일+성별 구분 제외 마스킹 필요) 대표자(또는 사업자) 명의 통장 사본 1부 ※ 참고. · 예금주명이 대표자명 또는 사업자등록증의 상호명과 동일할 경우 통장사본 생략 가능 · 공동대표의 경우 대표 대표자가 예금주명에 있는 경우 통장 사본 생략 가능 · 대표자 인감증명서는 '본인서명사실확인서' 사본으로 대체 접수 가능 법인사업자  사업자 등록증 사본 1부 (1년 이내 발급분)   법인 인감증명서 사본 1부 (3개월 이내 발급분, 생년월일+성별 구분 제외 마스킹 필요) 법인 명의 통장 사본 1부 ※ 참고. · 예금주명이 사업자등록증의 법인 명의(상호명)과 동일한 경우 통장 사본 생략 가능 · 비영리 법인인 경우 법인인감증명서 대신 가입 시 기재한 대표자의 개인인감증명서로 대체 가능 법인 지점사업자 지점 사업자 등록증 사본 1부 (1년 이내 발급분)  법인 인감증명서 사본 1부 (3개월 이내 발급분, 생년월일+성별 구분 제외 마스킹 필요) 지점 명의 통장 사본 1부 해외 사업자   대표자 여권 사본 1부  사업자등록증(미국의 경우 IRS 서류) 사본 1부  사업자 또는 법인 명의 통장(해외계좌 인증 서류 가능) 사본 1부  ※ 참고. 비영어권은 영문번역본과 함께 제출 필수  스마트스토어법정대리인 동의서 사본 1부 다운로드 받기》스마트스토어 통신판매업 신고번호 입력 기준1. 직전년도 구매확정 수 50건 이상 또는 당해년도 1월1일부터 누적 구매확정 수 50건 이상인 경우2. 부가가치세법 제2조 제4호의 간이과세자에 해당되지 않을 경우(부가가치세법 제2조 제4호)판매자유형 개인판매자 (개인판매회원)간이사업자개인사업자 (일반사업자)법인사업자  사업자 신고 기준(복수 계정인 경우 총 합) 직전년도 누적 판매금액 4,800만원 이상 또는당해년도 1월1일부터 누적 판매금액 4,400만원 이상 -통신판매업 신고번호 입력기준(복수 계정인 경우 총 합)직전년도 구매확정 수 50건 이상 또는 당해년도 1월1일부터 누적 구매확정 수 50건 이상직전년도 누적 판매 금액 8,000만원 이상 또는 당해년도 1월1일부터 판매 금액 8,000만원 이상  직전 년도 구매확정 수 50건 이상 또는 당해년도 1월1일부터 누적 구매확정 수 50건 이상 기준 초과 시 안내 사업자 전환 안내(로그인 팝업 알림/EMS 발송)통신판매업 미신고 안내(로그인 팝업 알림/EMS 발송) 매월 2일마다 안내 누적 판매금액 집계 기준(판매자등급 기준과 동일)구매확정 건의 상품주문번호 단위 결제금액 - 직권취소된 상품주문번호의 결제금액(조합형 옵션/추가 상품 금액 포함, 배송비는 판매금액에 포함되지 않음) 누적건수 집계 기준(판매자등급 기준과 동일)상품주문번호 단위 구매확정 건 - 직권취소 건 (일반 주문건만 포함되며, 추가상품/배송비는 판매건수에 포함되지 않음)※ 참고.  · 통신판매업 신고번호 입력 기준에 해당할 경우 통신판매업 신고 완료 후 진행 바랍니다. · 통신판매업신고증 발급을 위한 '구매안전서비스 이용확인증' 출력은 [판매자정보 > 판매자 정보] 메뉴 우측 상단 '구매안전서비스 이용확인증'버튼을 통해 진행 가능합니다. · 신규 가입 시 공정거래위원회에서 사업자 정보로 정상 조회가 가능한 경우 통신판매업 신고 번호 기재하여 가입이 진행됩니다.  · 페이지가 여러 장인 서류는 모든 페이지를 접수해 주셔야 하며, 발급일자가 모두 동일해야 합니다. · 사업자등록증과 동일하게 정보가 기재된 사업자등록증명으로 대체가 가능합니다. 다만, 최근 1년 이내 발급한 서류로 제출 바랍니다. · 대표자 인감증명서는 '본인서명사실확인서' 사본으로 대체 접수 가능합니다.  · 대표자 명의로 개통된 휴대전화로 본인인증을 하시면 인감증명서를 제출하지 않으셔도 됩니다.   · 미성년자 관련 서류 내 법정대리인 인감증명서 제출이 어려울 경우 법정대리인 본인서명사실확인서로 대체 가능합니다.  · 미성년자 사업자로 가입 시 본인인증 수단에서 휴대폰 본인인증으로 안했을 시 미성년자(본인)인감증명서 또는 본인서명사실확인서를 제출해야 됩니다.    다만, 미성년자 본인인감증명서 제출이 어려울 경우 사업자 가입심사 건을 취소하고 재 가입 시 '휴대폰 본인인증'으로 진행 바랍니다.  · 모든 서류 제출 후 3영업일 내 심사가 진행되며 결과는 담당자 메일로 발송됩니다.  · 해외 거주자의 서류는 영문번역본으로 제출해 주셔야 합니다.   발급기관에서 영문번역본으로 받을 경우 별도의 공증은 필요치 않으며, 만약 발급기관에서 영문번역본으로 발급이 어려운 경우 영사관 또는 공증번역기관으로부터 공증을 받은 영문번역본으로 제출해 주셔야 합니다. · 공동대표인 경우 가입 신청 시 대표자명을 모두 입력해야 하며, 각 대표자의 개인인감증명서(법인인 경우 법인인감증명서)를 모두 제출해야 합니다. · 각자대표인 경우 사업자등록증 상의 대표자가 다수여도 한 명의 대표자만 가입이 가능하며, 이때 가입서류 중 인감증명서는 가입 시 기재한 대표자의 서류(법인인 경우 법인인감증명서)만 제출 가능합니다. · 통장사본은 계좌개설확인서 또는 온라인통장표지로 대체 가능합니다.  · 스마트스토어 심사 시 서류 발급 용도에 대해서는 확인하고 있지 않습니다. \"온라인 판매 제출용\"과 같이 실제 필요한 사유에 맞게 기재하여 주시기 바랍니다.   가입 신청을 했습니다. 심사 결과는 어떻게 확인하나요?》 \n",
            "\n",
            "\n",
            "위 도움말이 도움이 되었나요?\n",
            "\n",
            "\n",
            "별점1점\n",
            "\n",
            "별점2점\n",
            "\n",
            "별점3점\n",
            "\n",
            "별점4점\n",
            "\n",
            "별점5점\n",
            "\n",
            "\n",
            "\n",
            "소중한 의견을 남겨주시면 보완하도록 노력하겠습니다.\n",
            "\n",
            "보내기\n",
            "\n",
            "\n",
            "\n",
            "관련 도움말/키워드\n",
            "\n",
            "[고객확인제도] 고객확인제도(AML) 정보 등록 시 어떤 서류를 제출해야 하나요?\n",
            "\n",
            "\n",
            "\n",
            "도움말 닫기...\n",
            "------------------------------\n",
            "질문: [심사결과] 가입 신청을 했습니다. 심사 결과는 어떻게 확인하나요?\n",
            "답변: 스마트스토어센터에 로그인하시면 \"팝업\" 또는 [판매자 정보 > 심사내역 조회] 메뉴에서 상세한 정보(제출하신 서류, 보류 사유 등)를 확인할 수 있습니다.가입 완료 전 심사 과정은 총 5개로 노출될 수 있으며, 해당하는 팝업 메시지에 따라 해결방법을 확인 해 주세요.           · 심사 중 : 현재 심사가 진행 중입니다. 영업일 기준 3일 이내에 심사가 완료됩니다. · 심사 중 (서류 미제출) : 필수 서류를 모두 제출하지 않아서 심사가 진행되지 않고 있습니다. 서류를 제출하면 바로 심사가 진행됩니다.  · 심사 중 (서류 통과) : 쇼핑윈도 노출심사 시 서류심사 승인된 상태입니다.  ※ 참고. 1차승인(서류통과) 처리가 완료되면 검수기준에 맞는 상품을 등록해 주셔야 검수가 진행되며, 최종 승인까지 진행됩니다.  · 보류 : 제출하신 서류/정보 중에 부족한 점이 발견되어 가입 심사가 보류되었습니다. 보류 사유를 확인하시고 서류 미비로 보류된 경우, 서류를 재등록하시면 심사가 다시 진행됩니다. · 거부 : 스마트스토어센터 가입이 불가능합니다. 판매자 가입이 '보류' 되었습니다. 왜그런가요?》판매자 가입이 '거부' 되었습니다. 왜그런가요?》          ※ 참고. 혹시, \"팝업\" 메시지를 확인하지 못하셨나요?· [판매자 정보 > 심사내역 조회] 메뉴에서 모든 심사 결과를 확인하실 수 있습니다.· 네이버 스마트스토어 고객센터에서는 고객센터 번호(1588-3819) 이외의 번호로는 연락드리지 않습니다. 스마트스토어 관련 내용으로 그 외 번호로 연락을 받으신 경우는 주의 부탁드립니다.  \n",
            "\n",
            "\n",
            "위 도움말이 도움이 되었나요?\n",
            "\n",
            "\n",
            "별점1점\n",
            "\n",
            "별점2점\n",
            "\n",
            "별점3점\n",
            "\n",
            "별점4점\n",
            "\n",
            "별점5점\n",
            "\n",
            "\n",
            "\n",
            "소중한 의견을 남겨주시면 보완하도록 노력하겠습니다.\n",
            "\n",
            "보내기\n",
            "\n",
            "\n",
            "\n",
            "도움말 닫기...\n",
            "------------------------------\n"
          ]
        }
      ],
      "source": [
        "# 2.데이터 구조 및 샘플 확인\n",
        "print(\"\\n--- FAQ 데이터 샘플 ---\")\n",
        "for i, (q, a) in enumerate(raw_faq_data.items()):\n",
        "    if i >= 3: # 상위 3개만 출력\n",
        "        break\n",
        "    print(f\"질문: {q}\")\n",
        "    print(f\"답변: {a}...\")\n",
        "    print(\"-\" * 30)"
      ]
    },
    {
      "cell_type": "code",
      "execution_count": 7,
      "id": "vR9ckGZ_nd1T",
      "metadata": {
        "colab": {
          "base_uri": "https://localhost:8080/"
        },
        "id": "vR9ckGZ_nd1T",
        "outputId": "82abd658-13bb-4a81-a06a-7323d39f7482"
      },
      "outputs": [
        {
          "output_type": "stream",
          "name": "stdout",
          "text": [
            "\n",
            "모든 FAQ 답변이 문자열 형식입니다.\n"
          ]
        }
      ],
      "source": [
        "# 3.데이터 타입 확인 (모든 답변이 문자열인지)\n",
        "non_string_answers = {q: a for q, a in raw_faq_data.items() if not isinstance(a, str)}\n",
        "if non_string_answers:\n",
        "    print(f\"\\n문자열이 아닌 답변 {len(non_string_answers)}개 발견: {list(non_string_answers.keys())[:5]}...\")\n",
        "else:\n",
        "    print(\"\\n모든 FAQ 답변이 문자열 형식입니다.\")"
      ]
    },
    {
      "cell_type": "code",
      "execution_count": 8,
      "id": "GrOK-k1jpNkI",
      "metadata": {
        "colab": {
          "base_uri": "https://localhost:8080/",
          "height": 485
        },
        "id": "GrOK-k1jpNkI",
        "outputId": "fe3e5f3e-5765-4d15-83fc-b30a10f987fa"
      },
      "outputs": [
        {
          "output_type": "display_data",
          "data": {
            "text/plain": [
              "<Figure size 1000x500 with 1 Axes>"
            ],
            "image/png": "[encoded data removed]"
          },
          "metadata": {}
        }
      ],
      "source": [
        "# 4.원본 FAQ 답변 길이 분포 시각화\n",
        "original_lengths = [len(a) for a in raw_faq_data.values() if isinstance(a, str)]\n",
        "\n",
        "plt.figure(figsize=(10, 5))\n",
        "sns.histplot(original_lengths, bins=50, kde=True)\n",
        "plt.title(\"원본 FAQ 답변 길이 분포\")\n",
        "plt.xlabel(\"답변 길이 (글자 수)\")\n",
        "plt.ylabel(\"개수\")\n",
        "plt.grid(True)\n",
        "plt.legend()\n",
        "plt.show()"
      ]
    },
    {
      "cell_type": "markdown",
      "id": "AyAwbSpcntzM",
      "metadata": {
        "id": "AyAwbSpcntzM"
      },
      "source": [
        "####  🔎 인사이트/결과:\n",
        "- raw_faq_data는 질문을 키로, 답변을 값으로 하는 딕셔너리 형태임을 확인\n",
        "- 일부 답변 문자열에 \"위 도움말이 도움이 되었나요?\", \"별점1점\", \"관련 도움말/키워드\" 등과 같은 불필요한 푸터나 평가 문구가 포함되어 있음을 발견\n",
        "- 이들은 실제 답변 내용이 아니므로, LLM의 학습에 방해가 되거나 답변의 불필요한 길이를 늘릴 수 있어 제거가 필요하다고 판단\n",
        "- 간혹 답변이 문자열이 아닌 경우도 있을 수 있음을 확인하고, 이에 대한 예외 처리가 필요함을 인지"
      ]
    },
    {
      "cell_type": "markdown",
      "id": "694d81e0",
      "metadata": {
        "id": "694d81e0"
      },
      "source": [
        "## 🧹 2. Footer 텍스트 전처리\n",
        "- 전처리 대상 패턴 제거\n",
        "  ➡️ FAQ 답변에서 핵심 내용만을 추출, LLM에게 정확하고 간결한 정보를 제공\n",
        "- 전처리 전후 길이 비교"
      ]
    },
    {
      "cell_type": "code",
      "execution_count": 9,
      "id": "9dURQb-goYgC",
      "metadata": {
        "id": "9dURQb-goYgC"
      },
      "outputs": [],
      "source": [
        "# 1.제거할 푸터 리스트 정의 (반복적인 패턴 파악)\n",
        "footers_to_remove = [\n",
        "    \"위 도움말이 도움이 되었나요?\", \"별점1점\", \"별점2점\", \"별점3점\", \"별점4점\", \"별점5점\",\n",
        "    \"소중한 의견을 남겨주시면 보완하도록 노력하겠습니다.\",\n",
        "    \"보내기\", \"관련 도움말/키워드\", \"도움말 닫기\"\n",
        "]"
      ]
    },
    {
      "cell_type": "code",
      "execution_count": 10,
      "id": "BIS8Vq0DoYdS",
      "metadata": {
        "id": "BIS8Vq0DoYdS"
      },
      "outputs": [],
      "source": [
        "cleaned_faq = {}\n",
        "for question, answer in raw_faq_data.items():\n",
        "    if not isinstance(answer, str): # 문자열이 아닌 경우 스킵\n",
        "        print(f\"⚠️ 경고: 질문 '{question}'의 답변이 문자열이 아닙니다. 스킵합니다.\")\n",
        "        continue\n",
        "\n",
        "    processed_answer = answer\n",
        "    # 2.각 푸터에 대해 답변을 분할하여 제거 시도\n",
        "    for footer in footers_to_remove:\n",
        "        if footer in processed_answer:\n",
        "            processed_answer = processed_answer.split(footer, 1)[0] # 첫 번째 발견된 푸터까지만 사용\n",
        "\n",
        "    # 3.추가적인 클리닝 (줄바꿈, 공백 제거)\n",
        "    processed_answer = processed_answer.strip() # 양쪽 공백 제거\n",
        "    processed_answer = processed_answer.replace(\"\\n\\n\\n\", \"\\n\\n\") # 3개 이상 연속된 줄바꿈을 2개로 축소 (가독성 유지)\n",
        "\n",
        "    cleaned_faq[question] = processed_answer"
      ]
    },
    {
      "cell_type": "markdown",
      "id": "1jgJdgdiou6x",
      "metadata": {
        "id": "1jgJdgdiou6x"
      },
      "source": [
        "👀 코드정리\n",
        "\n",
        "❓ processed_answer.split(footer, 1)[0]\n",
        "- 푸터가 답변의 끝 부분에 위치하는 패턴을 고려\n",
        "- 답변 텍스트 내에서 특정 푸터가 발견되면 해당 푸터 이전의 내용만을 유효한 답변으로 간주하고 추출\n",
        "\n",
        "❓ strip()과 replace(\"\\n\\n\\n\", \"\\n\\n\")\n",
        "- 불필요한 공백과 과도한 줄바꿈을 정리\n",
        "- 답변의 가독성을 높이고 임베딩 시 불필요한 노이즈를 줄임"
      ]
    },
    {
      "cell_type": "code",
      "execution_count": 11,
      "id": "c8I1jUP4oYa0",
      "metadata": {
        "colab": {
          "base_uri": "https://localhost:8080/"
        },
        "id": "c8I1jUP4oYa0",
        "outputId": "ef3d61f3-35b6-4701-d303-0f5512161e06"
      },
      "outputs": [
        {
          "output_type": "stream",
          "name": "stdout",
          "text": [
            "\n",
            "--- 푸터 제거 후 FAQ 데이터 샘플 ---\n",
            "질문: [가입절차] 스마트스토어센터 회원가입은 어떻게 하나요? (ID만들기)\n",
            "클린된 답변: 네이버 커머스 ID 하나로 스마트스토어센터와 같은 네이버의 다양한 커머스 서비스를 편리하게 이용하실 수 있습니다.네이버 커머스 ID가 없으시다면 [가입하기] 버튼을 통해 회원가입해 주세요.           1. '네이버ID' 로 네이버 커머스 ID 가입하기1) [네이버 아이디로 가입하기] 버튼을 눌러서 네이버 로그인 해 주세요.2) 연락가능한 휴대폰번호를 입력하시고 인증하신 후 개인정보 수집동의를 체크 하여 [가입] 버튼을 눌러주세요. 3) 네이버 커머스 ID 회원가입이 완료되어 해당 네이버ID 로 스마트스토어센터 서비스 가입을 하실 수 있습니다. 이 후 스마트스토어센터 로그인 시에 [네이버 아이디로 로그인] 버튼을 눌러서 네이버 로그인을 하실 수 있습니다. 2. '이메일 아이디'로 네이버 커머스 ID 가입하기 1) [이메일 아이디로 가입하기] 버튼을 눌러서 사용할 ID를 입력해 주세요.! 중요. 로그인 ID는 \"실 사용중인 이메일주소\"로 기재하셔야 합니다. (예 : abc@naver.com)2) 연락가능한 휴대폰번호와 이메일주소를 입력하시고 인증하신 후 개인정보 수집동의를 체크 하여 [가입] 버튼을 눌러주세요.3) 네이버 커머스 ID 회원가입이 완료되어 해당 이메일 아이디로 스마트스토어센터 서비스 가입을 하실 수 있습니다.이 후 스마트스토어센터 로그인 시에 해당 이메일 아이디와 비밀번호를 입력하여 로그인을 하실 수 있습니다. ※ 참고. 로그인 ID 계정 대표자와 사업자번호 대표자 동일여부는 체크하지 않습니다. (대표자가 상이해도 가입 진행 가능합니다.)...\n",
            "------------------------------\n",
            "질문: [가입서류] 스마트스토어 판매자 유형별 필요한 서류가 어떻게 되나요?\n",
            "클린된 답변: 스마트스토어 판매 회원 분류는 아래와 같으며 반드시 모든 서류를 제출해 주셔야 가입이 가능합니다. 가입 서류는 가입 단계에서 업로드 가능하며, 가입 신청 시 서류 준비가 되지 않은 경우 가입 완료 후 [판매자정보 > 심사내역 조회] 메뉴에서 업로드 가능합니다.사업자 등록증의 경우 고객확인제도(AML)를 위한 최신 사업자의 정보를 확인하기 위해 최근 1년 이내 발급분으로 서류 접수받고 있습니다.   판매회원분류 가입 시 필요 서류 국내 개인일반  서류 불필요법정 미성년자(만 19세 미만) 법정대리인 인감증명서 사본 1부 (최근 3개월 이내 발급 분, 생년월일+성별 구분 제외 마스킹 필요) 가족관계증명서 사본 1부 (또는 법정대리임을 증명할 서류) 스마트스토어 법정대리인 동의서 사본 1부 (판매회원 ID 필수 기재) ※ 참고.   · 법정대리인 인감증명서 제출이 어려울 경우 법정대리인 본인서명사실확인서로 대체 가능 국내 사업자 법정 미성년자(만 19세 미만)  사업자 등록증 사본 1부 (1년 이내 발급분) 대표자(또는 사업자) 명의 통장 사본 1부  대표자 인감증명서 사본 1부 (3개월 이내 발급분, 생년월일+성별 구분 제외 마스킹 필요) 대표자(또는 사업자) 명의 통장 사본 1부 ※ 참고.  · 법정 미성년자 대표자여도 이미 사업자등록증 발급당시 법정대리인 확인 후 발급됨으로    법적대리인의 동의서류는 별도 받지 않음 · 예금주명이 대표자명 또는 사업자등록증의 상호명과 동일할 경우 통장사본 생략 가능 · 공동대표의 경우 대표 대표자가 예금주명에 있는 경우 통장 사본 생략 가능 · 대표자 본인 인감증명서 제출이 필요하며 법적대리인 인감증명서 제출로는 가입 심사 불가능 · 대표자 인감증명서는 '본인서명사실확인서' 사본으로 대체 접수 가능  · 대표자 본인명의 휴대폰 인증시 '대표자 인감증명서'제출 생략 가능 간이/개인사업자 사업자 등록증 사본 1부 (1년 이내 발급분) 대표자 인감증명서 사본 1부 (3개월 이내 발급분, 생년월일+성별 구분 제외 마스킹 필요) 대표자(또는 사업자) 명의 통장 사본 1부 ※ 참고. · 예금주명이 대표자명 또는 사업자등록증의 상호명과 동일할 경우 통장사본 생략 가능 · 공동대표의 경우 대표 대표자가 예금주명에 있는 경우 통장 사본 생략 가능 · 대표자 인감증명서는 '본인서명사실확인서' 사본으로 대체 접수 가능 법인사업자  사업자 등록증 사본 1부 (1년 이내 발급분)   법인 인감증명서 사본 1부 (3개월 이내 발급분, 생년월일+성별 구분 제외 마스킹 필요) 법인 명의 통장 사본 1부 ※ 참고. · 예금주명이 사업자등록증의 법인 명의(상호명)과 동일한 경우 통장 사본 생략 가능 · 비영리 법인인 경우 법인인감증명서 대신 가입 시 기재한 대표자의 개인인감증명서로 대체 가능 법인 지점사업자 지점 사업자 등록증 사본 1부 (1년 이내 발급분)  법인 인감증명서 사본 1부 (3개월 이내 발급분, 생년월일+성별 구분 제외 마스킹 필요) 지점 명의 통장 사본 1부 해외 사업자   대표자 여권 사본 1부  사업자등록증(미국의 경우 IRS 서류) 사본 1부  사업자 또는 법인 명의 통장(해외계좌 인증 서류 가능) 사본 1부  ※ 참고. 비영어권은 영문번역본과 함께 제출 필수  스마트스토어법정대리인 동의서 사본 1부 다운로드 받기》스마트스토어 통신판매업 신고번호 입력 기준1. 직전년도 구매확정 수 50건 이상 또는 당해년도 1월1일부터 누적 구매확정 수 50건 이상인 경우2. 부가가치세법 제2조 제4호의 간이과세자에 해당되지 않을 경우(부가가치세법 제2조 제4호)판매자유형 개인판매자 (개인판매회원)간이사업자개인사업자 (일반사업자)법인사업자  사업자 신고 기준(복수 계정인 경우 총 합) 직전년도 누적 판매금액 4,800만원 이상 또는당해년도 1월1일부터 누적 판매금액 4,400만원 이상 -통신판매업 신고번호 입력기준(복수 계정인 경우 총 합)직전년도 구매확정 수 50건 이상 또는 당해년도 1월1일부터 누적 구매확정 수 50건 이상직전년도 누적 판매 금액 8,000만원 이상 또는 당해년도 1월1일부터 판매 금액 8,000만원 이상  직전 년도 구매확정 수 50건 이상 또는 당해년도 1월1일부터 누적 구매확정 수 50건 이상 기준 초과 시 안내 사업자 전환 안내(로그인 팝업 알림/EMS 발송)통신판매업 미신고 안내(로그인 팝업 알림/EMS 발송) 매월 2일마다 안내 누적 판매금액 집계 기준(판매자등급 기준과 동일)구매확정 건의 상품주문번호 단위 결제금액 - 직권취소된 상품주문번호의 결제금액(조합형 옵션/추가 상품 금액 포함, 배송비는 판매금액에 포함되지 않음) 누적건수 집계 기준(판매자등급 기준과 동일)상품주문번호 단위 구매확정 건 - 직권취소 건 (일반 주문건만 포함되며, 추가상품/배송비는 판매건수에 포함되지 않음)※ 참고.  · 통신판매업 신고번호 입력 기준에 해당할 경우 통신판매업 신고 완료 후 진행 바랍니다. · 통신판매업신고증 발급을 위한 '구매안전서비스 이용확인증' 출력은 [판매자정보 > 판매자 정보] 메뉴 우측 상단 '구매안전서비스 이용확인증'버튼을 통해 진행 가능합니다. · 신규 가입 시 공정거래위원회에서 사업자 정보로 정상 조회가 가능한 경우 통신판매업 신고 번호 기재하여 가입이 진행됩니다.  · 페이지가 여러 장인 서류는 모든 페이지를 접수해 주셔야 하며, 발급일자가 모두 동일해야 합니다. · 사업자등록증과 동일하게 정보가 기재된 사업자등록증명으로 대체가 가능합니다. 다만, 최근 1년 이내 발급한 서류로 제출 바랍니다. · 대표자 인감증명서는 '본인서명사실확인서' 사본으로 대체 접수 가능합니다.  · 대표자 명의로 개통된 휴대전화로 본인인증을 하시면 인감증명서를 제출하지 않으셔도 됩니다.   · 미성년자 관련 서류 내 법정대리인 인감증명서 제출이 어려울 경우 법정대리인 본인서명사실확인서로 대체 가능합니다.  · 미성년자 사업자로 가입 시 본인인증 수단에서 휴대폰 본인인증으로 안했을 시 미성년자(본인)인감증명서 또는 본인서명사실확인서를 제출해야 됩니다.    다만, 미성년자 본인인감증명서 제출이 어려울 경우 사업자 가입심사 건을 취소하고 재 가입 시 '휴대폰 본인인증'으로 진행 바랍니다.  · 모든 서류 제출 후 3영업일 내 심사가 진행되며 결과는 담당자 메일로 발송됩니다.  · 해외 거주자의 서류는 영문번역본으로 제출해 주셔야 합니다.   발급기관에서 영문번역본으로 받을 경우 별도의 공증은 필요치 않으며, 만약 발급기관에서 영문번역본으로 발급이 어려운 경우 영사관 또는 공증번역기관으로부터 공증을 받은 영문번역본으로 제출해 주셔야 합니다. · 공동대표인 경우 가입 신청 시 대표자명을 모두 입력해야 하며, 각 대표자의 개인인감증명서(법인인 경우 법인인감증명서)를 모두 제출해야 합니다. · 각자대표인 경우 사업자등록증 상의 대표자가 다수여도 한 명의 대표자만 가입이 가능하며, 이때 가입서류 중 인감증명서는 가입 시 기재한 대표자의 서류(법인인 경우 법인인감증명서)만 제출 가능합니다. · 통장사본은 계좌개설확인서 또는 온라인통장표지로 대체 가능합니다.  · 스마트스토어 심사 시 서류 발급 용도에 대해서는 확인하고 있지 않습니다. \"온라인 판매 제출용\"과 같이 실제 필요한 사유에 맞게 기재하여 주시기 바랍니다.   가입 신청을 했습니다. 심사 결과는 어떻게 확인하나요?》...\n",
            "------------------------------\n",
            "질문: [심사결과] 가입 신청을 했습니다. 심사 결과는 어떻게 확인하나요?\n",
            "클린된 답변: 스마트스토어센터에 로그인하시면 \"팝업\" 또는 [판매자 정보 > 심사내역 조회] 메뉴에서 상세한 정보(제출하신 서류, 보류 사유 등)를 확인할 수 있습니다.가입 완료 전 심사 과정은 총 5개로 노출될 수 있으며, 해당하는 팝업 메시지에 따라 해결방법을 확인 해 주세요.           · 심사 중 : 현재 심사가 진행 중입니다. 영업일 기준 3일 이내에 심사가 완료됩니다. · 심사 중 (서류 미제출) : 필수 서류를 모두 제출하지 않아서 심사가 진행되지 않고 있습니다. 서류를 제출하면 바로 심사가 진행됩니다.  · 심사 중 (서류 통과) : 쇼핑윈도 노출심사 시 서류심사 승인된 상태입니다.  ※ 참고. 1차승인(서류통과) 처리가 완료되면 검수기준에 맞는 상품을 등록해 주셔야 검수가 진행되며, 최종 승인까지 진행됩니다.  · 보류 : 제출하신 서류/정보 중에 부족한 점이 발견되어 가입 심사가 보류되었습니다. 보류 사유를 확인하시고 서류 미비로 보류된 경우, 서류를 재등록하시면 심사가 다시 진행됩니다. · 거부 : 스마트스토어센터 가입이 불가능합니다. 판매자 가입이 '보류' 되었습니다. 왜그런가요?》판매자 가입이 '거부' 되었습니다. 왜그런가요?》          ※ 참고. 혹시, \"팝업\" 메시지를 확인하지 못하셨나요?· [판매자 정보 > 심사내역 조회] 메뉴에서 모든 심사 결과를 확인하실 수 있습니다.· 네이버 스마트스토어 고객센터에서는 고객센터 번호(1588-3819) 이외의 번호로는 연락드리지 않습니다. 스마트스토어 관련 내용으로 그 외 번호로 연락을 받으신 경우는 주의 부탁드립니다....\n",
            "------------------------------\n"
          ]
        }
      ],
      "source": [
        "# 5.클리닝 결과 샘플 확인\n",
        "print(\"\\n--- 푸터 제거 후 FAQ 데이터 샘플 ---\")\n",
        "for i, (q, a) in enumerate(cleaned_faq.items()):\n",
        "    if i >= 3:\n",
        "        break\n",
        "    print(f\"질문: {q}\")\n",
        "    print(f\"클린된 답변: {a}...\")\n",
        "    print(\"-\" * 30)"
      ]
    },
    {
      "cell_type": "code",
      "execution_count": 12,
      "id": "MZVI8L4Lt2sO",
      "metadata": {
        "id": "MZVI8L4Lt2sO"
      },
      "outputs": [],
      "source": [
        "# 6.푸터 제거 후 FAQ 답변 길이 추출\n",
        "cleaned_lengths = [len(a) for a in cleaned_faq.values() if a] # 비어있는 답변 제외"
      ]
    },
    {
      "cell_type": "code",
      "execution_count": 13,
      "id": "zJa1eMCmt6M5",
      "metadata": {
        "colab": {
          "base_uri": "https://localhost:8080/"
        },
        "id": "zJa1eMCmt6M5",
        "outputId": "2727d674-4a1c-4ec9-8d11-038d5bfb53b8"
      },
      "outputs": [
        {
          "output_type": "stream",
          "name": "stdout",
          "text": [
            "\n",
            "--- 푸터 제거 후 FAQ 답변 길이 분포 (통계) ---\n",
            "count    2717.000000\n",
            "mean      391.538462\n",
            "std       538.628704\n",
            "min         3.000000\n",
            "25%       141.000000\n",
            "50%       243.000000\n",
            "75%       446.000000\n",
            "95%      1123.600000\n",
            "max      8996.000000\n",
            "dtype: float64\n"
          ]
        }
      ],
      "source": [
        "# 7.길이 분포 통계 확인 (Pandas Series 활용)\n",
        "length_series = pd.Series(cleaned_lengths)\n",
        "print(\"\\n--- 푸터 제거 후 FAQ 답변 길이 분포 (통계) ---\")\n",
        "print(length_series.describe(percentiles=[.25, .5, .75, .95]))"
      ]
    },
    {
      "cell_type": "code",
      "execution_count": 14,
      "id": "1IiOdkuRtiv8",
      "metadata": {
        "colab": {
          "base_uri": "https://localhost:8080/",
          "height": 485
        },
        "id": "1IiOdkuRtiv8",
        "outputId": "409ff1a7-3264-43ee-f543-6e1349eb4489"
      },
      "outputs": [
        {
          "output_type": "display_data",
          "data": {
            "text/plain": [
              "<Figure size 1000x500 with 1 Axes>"
            ],
            "image/png": "[encoded data removed]"
          },
          "metadata": {}
        }
      ],
      "source": [
        "# 8.푸터 제거 후 FAQ 답변 길이 분포 시각화\n",
        "plt.figure(figsize=(10, 5))\n",
        "sns.histplot(cleaned_lengths, bins=50, color='lightblue', edgecolor='black')\n",
        "plt.axvline(length_series.median(), color='red', linestyle='--', label=f'Median: {length_series.median():.0f}자')\n",
        "plt.axvline(length_series.quantile(0.95), color='purple', linestyle=':', label=f'95% 이하: {length_series.quantile(0.95):.0f}자')\n",
        "plt.title(\"푸터 제거 후 FAQ 답변 길이 분포\")\n",
        "plt.xlabel(\"답변 길이 (글자 수)\")\n",
        "plt.ylabel(\"개수\")\n",
        "plt.grid(True)\n",
        "plt.legend()\n",
        "plt.show()"
      ]
    },
    {
      "cell_type": "code",
      "execution_count": 15,
      "id": "PXDeJgBzolq3",
      "metadata": {
        "colab": {
          "base_uri": "https://localhost:8080/"
        },
        "id": "PXDeJgBzolq3",
        "outputId": "8dcba3ed-6289-43df-a2b2-83611356bbe6"
      },
      "outputs": [
        {
          "output_type": "stream",
          "name": "stdout",
          "text": [
            "\n",
            "원본 답변 평균 길이: 501.69\n",
            "클린된 답변 평균 길이: 391.54\n"
          ]
        }
      ],
      "source": [
        "# 6. 원본과 클린된 답변 길이 비교\n",
        "original_lengths = [len(a) for a in raw_faq_data.values() if isinstance(a, str)]\n",
        "cleaned_lengths = [len(a) for a in cleaned_faq.values()]\n",
        "print(f\"\\n원본 답변 평균 길이: {sum(original_lengths)/len(original_lengths):.2f}\")\n",
        "print(f\"클린된 답변 평균 길이: {sum(cleaned_lengths)/len(cleaned_lengths):.2f}\")"
      ]
    },
    {
      "cell_type": "markdown",
      "id": "gMmIDz_jHHfm",
      "metadata": {
        "id": "gMmIDz_jHHfm"
      },
      "source": [
        "#### 🔎 인사이트/결과:\n",
        "\n",
        "```\n",
        "--- 푸터 제거 후 FAQ 답변 길이 분포 ---\n",
        "count    2717.000000\n",
        "mean      391.538462\n",
        "std       538.628704\n",
        "min         3.000000\n",
        "25%       141.000000\n",
        "50%       243.000000  # 중앙값 (Median)\n",
        "75%       446.000000\n",
        "95%      1123.600000 # 상위 5%를 제외한 답변의 최대 길이\n",
        "max      8996.000000\n",
        "dtype: float64\n",
        "```\n",
        "📌 통계 결과에서 mean (평균) 값이 합리적인 수준으로 줄었음 (푸터 제거의 효과)\n",
        "- 그러나 std (표준편차) 값이 크고 max (최대) 값이 8996자로 매우 길다\n",
        "- 히스토그램은 대부분의 답변이 짧은 길이(예: 500자 이내)에 집중되어 있으나 1000자를 넘는 답변들도 상당수 존재함\n",
        "\n",
        "➡️ 푸터 제거를 통해 데이터가 정제되었으나 여전히 긴 답변이 존재\n",
        "\n",
        "**📌 청킹이 필요한 이유:**\n",
        "- GPT는 한 번에 많은 정보를 기억하지 못함\n",
        "- 문서를 나누어 효율적으로 처리 가능\n",
        "- 검색 정확도 및 환각 방지에 효과적\n",
        "\n",
        "\n",
        "➡️ 청킹(Chunking) 전략 수립 필요"
      ]
    },
    {
      "cell_type": "markdown",
      "id": "4a94b1b2",
      "metadata": {
        "id": "4a94b1b2"
      },
      "source": [
        "## ✂️ 3. 청킹(Chunking) 전략 결정\n",
        "- 긴 FAQ 답변을 검색 및 LLM 처리에 적합한 크기로 분할하는 청킹 전략을 수립\n",
        "- LLM의 토큰 제한에 맞춰 각 청크의 길이를 제어\n",
        "- 검색 시 하나의 질문과 관련된 모든 정보가 한 청크에 담기지 않더라도, 인접한 청크를 통해 전체 맥락을 이해할 수 있도록\n",
        "- 관련성 높은 청크가 검색될 가능성을 높이기\n",
        "➡️ langchain의 `RecursiveCharacterTextSplitter`를 사용해 답변을 청크로 나누기\n",
        "\n",
        "\n"
      ]
    },
    {
      "cell_type": "code",
      "execution_count": 16,
      "id": "Od9duFPFolob",
      "metadata": {
        "id": "Od9duFPFolob"
      },
      "outputs": [],
      "source": [
        "from langchain.text_splitter import RecursiveCharacterTextSplitter"
      ]
    },
    {
      "cell_type": "code",
      "execution_count": 17,
      "id": "0-_z5p6DufPo",
      "metadata": {
        "id": "0-_z5p6DufPo"
      },
      "outputs": [],
      "source": [
        "# 1.RecursiveCharacterTextSplitter 초기화 및 파라미터 실험\n",
        "splitter = RecursiveCharacterTextSplitter(\n",
        "    chunk_size=500,\n",
        "    chunk_overlap=100,\n",
        "    length_function=len,\n",
        "    add_start_index=True\n",
        ")"
      ]
    },
    {
      "cell_type": "markdown",
      "id": "WEVZI33lvrvt",
      "metadata": {
        "id": "WEVZI33lvrvt"
      },
      "source": [
        "👀 코드정리\n",
        "\n",
        "❓ chunk_size=500\n",
        "- 푸터 제거 후 답변 길이 통계(특히 75%, 95% 지점)를 고려하여 chunk_size를 결정\n",
        "- 75% 답변 길이(446자)를 넘어서는 답변들이 청킹되도록 500자 설정\n",
        "\n",
        "❓ chunk_overlap=100\n",
        "- LLM의 토큰 제한(대략 1토큰 = 4글자)과 검색 효율성을 종합적으로 고려\n",
        "- 청크 경계의 맥락 손실을 방지하기 위한 중복 설정"
      ]
    },
    {
      "cell_type": "code",
      "execution_count": 18,
      "id": "90QgUKgg17gj",
      "metadata": {
        "colab": {
          "base_uri": "https://localhost:8080/"
        },
        "id": "90QgUKgg17gj",
        "outputId": "663bf694-6dd2-4bb1-fffc-8c4114dea80e"
      },
      "outputs": [
        {
          "output_type": "stream",
          "name": "stdout",
          "text": [
            "총 청크 수: 3875\n"
          ]
        }
      ],
      "source": [
        "chunks, metas, ids = [], [], []\n",
        "idx = 0\n",
        "for q, a in cleaned_faq.items():\n",
        "    pieces = splitter.split_text(a)\n",
        "    for i, p in enumerate(pieces):\n",
        "        chunks.append(p)\n",
        "        metas.append({\"original_question\": q, \"chunk_index\": i + 1})\n",
        "        ids.append(f\"faq_{idx}\")\n",
        "        idx += 1\n",
        "\n",
        "print(f\"총 청크 수: {len(chunks)}\")"
      ]
    },
    {
      "cell_type": "code",
      "execution_count": 19,
      "id": "_wkP-Bx1vZch",
      "metadata": {
        "colab": {
          "base_uri": "https://localhost:8080/"
        },
        "id": "_wkP-Bx1vZch",
        "outputId": "a3bd52cf-640c-4ec7-9b69-5d31e241cffc"
      },
      "outputs": [
        {
          "output_type": "stream",
          "name": "stdout",
          "text": [
            "\n",
            "--- 생성된 청크 길이 분포 (통계) ---\n",
            "count    3875.000000\n",
            "mean      300.521548\n",
            "std       157.409335\n",
            "min         3.000000\n",
            "25%       157.000000\n",
            "50%       287.000000\n",
            "75%       491.000000\n",
            "95%       499.000000\n",
            "max       500.000000\n",
            "dtype: float64\n"
          ]
        }
      ],
      "source": [
        "# 2. 생성된 청크 길이 분포 확인\n",
        "chunk_lengths = [len(chunk) for chunk in chunks]\n",
        "chunk_length_series = pd.Series(chunk_lengths)\n",
        "print(\"\\n--- 생성된 청크 길이 분포 (통계) ---\")\n",
        "print(chunk_length_series.describe(percentiles=[.25, .5, .75, .95]))"
      ]
    },
    {
      "cell_type": "code",
      "execution_count": 20,
      "id": "UPAzceVctJAj",
      "metadata": {
        "colab": {
          "base_uri": "https://localhost:8080/",
          "height": 562
        },
        "id": "UPAzceVctJAj",
        "outputId": "87cdce84-12b9-4ede-d1d6-da334ca7c567"
      },
      "outputs": [
        {
          "output_type": "display_data",
          "data": {
            "text/plain": [
              "<Figure size 1000x600 with 1 Axes>"
            ],
            "image/png": "[encoded data removed]"
          },
          "metadata": {}
        }
      ],
      "source": [
        "# 3. 청크 길이 분포 시각화\n",
        "plt.figure(figsize=(10, 6))\n",
        "sns.histplot(chunk_lengths, bins=50, kde=True, color='green')\n",
        "plt.title(\"생성된 청크 길이 분포\")\n",
        "plt.xlabel(\"청크 길이 (글자 수)\")\n",
        "plt.ylabel(\"개수\")\n",
        "plt.axvline(x=500, color='r', linestyle='--', label='Chunk Size (500)')\n",
        "plt.legend()\n",
        "plt.grid(True)\n",
        "plt.show()"
      ]
    },
    {
      "cell_type": "markdown",
      "id": "pjvxWA2pwMsR",
      "metadata": {
        "id": "pjvxWA2pwMsR"
      },
      "source": [
        "#### 🔎 인사이트/결과:\n",
        "\n",
        "📌 RecursiveCharacterTextSplitter 선택\n",
        "- 이 스플리터는 다양한 구분자를 사용하여 텍스트를 재귀적으로 분할\n",
        "- 의미론적 경계를 최대한 존중하면서 청크를 생성하는 데 효과적이라고 판단\n",
        "\n",
        "📌 chunk_size=500 설정\n",
        "- 푸터 제거 후 답변 길이 통계에서 75%의 답변이 446자 이하\n",
        "- 95%의 답변이 1123자\n",
        "- 대부분의 짧은 답변은 하나의 청크로 유지\n",
        "- 75%의 답변은 500자 이내(맥락 손실 방지)\n",
        "- 긴 답변의 효율적인 분할\n",
        "- 500자를 초과하는 긴 답변들은 여러 청크로 분할 ➡️ LLM의 토큰 제한을 준수, 검색 시 더 세밀한 정보 단위로 접근할 수 있음\n",
        "\n",
        "📌 임베딩 및 검색 성능\n",
        "- 너무 큰 청크는 임베딩 시 비효율적\n",
        "- 관련 없는 정보를 포함할 확률을 높일 수 있음\n",
        "\n",
        "📌 chunk_overlap=100 설정\n",
        "- 각 청크가 이전 청크의 100자 정도를 포함하도록 설정\n",
        "- 정보 손실을 최소화\n",
        "- LLM이 답변을 생성할 때 더 완전한 맥락을 파악하여 전체적인 정보의 연속성을 유지"
      ]
    },
    {
      "cell_type": "markdown",
      "id": "yjdo1KTv9GwT",
      "metadata": {
        "id": "yjdo1KTv9GwT"
      },
      "source": [
        "## 💾 4. 텍스트 임베딩 및 벡터 저장소 생성\n",
        "📌 OpenAI 임베딩 모델 선택 (text-embedding-3-small)\n",
        "- 텍스트 데이터를 고차원 벡터(임베딩)로 변환\n",
        "- OpenAI의 최신 임베딩 모델 중 하나\n",
        "- 효율적인 비용으로 높은 성능을 제공\n",
        "- 대규모 텍스트 데이터를 처리하는 데 적합하다고 판단\n",
        "\n",
        "📌 ChromaDB 클라이언트 설정\n",
        "- 생성된 임베딩 벡터와 해당 텍스트 청크, 메타데이터를 저장하고 관리\n",
        "- 저장된 벡터 데이터베이스에서 가장 유사한 FAQ 청크를 빠르게 검색"
      ]
    },
    {
      "cell_type": "code",
      "execution_count": 21,
      "id": "YH634TF5z8uF",
      "metadata": {
        "colab": {
          "base_uri": "https://localhost:8080/"
        },
        "collapsed": true,
        "id": "YH634TF5z8uF",
        "outputId": "62d52c20-59f9-41ab-cddf-769084bd9760"
      },
      "outputs": [
        {
          "output_type": "stream",
          "name": "stdout",
          "text": [
            "Collecting chromadb\n",
            "  Downloading chromadb-1.0.12-cp39-abi3-manylinux_2_17_x86_64.manylinux2014_x86_64.whl.metadata (6.9 kB)\n",
            "Requirement already satisfied: openai in /usr/local/lib/python3.11/dist-packages (1.84.0)\n",
            "Requirement already satisfied: langchain in /usr/local/lib/python3.11/dist-packages (0.3.25)\n",
            "Requirement already satisfied: tiktoken in /usr/local/lib/python3.11/dist-packages (0.9.0)\n",
            "Requirement already satisfied: pandas in /usr/local/lib/python3.11/dist-packages (2.2.2)\n",
            "Requirement already satisfied: matplotlib in /usr/local/lib/python3.11/dist-packages (3.10.0)\n",
            "Requirement already satisfied: seaborn in /usr/local/lib/python3.11/dist-packages (0.13.2)\n",
            "Requirement already satisfied: build>=1.0.3 in /usr/local/lib/python3.11/dist-packages (from chromadb) (1.2.2.post1)\n",
            "Requirement already satisfied: pydantic>=1.9 in /usr/local/lib/python3.11/dist-packages (from chromadb) (2.11.5)\n",
            "Collecting fastapi==0.115.9 (from chromadb)\n",
            "  Downloading fastapi-0.115.9-py3-none-any.whl.metadata (27 kB)\n",
            "Requirement already satisfied: uvicorn>=0.18.3 in /usr/local/lib/python3.11/dist-packages (from uvicorn[standard]>=0.18.3->chromadb) (0.34.3)\n",
            "Requirement already satisfied: numpy>=1.22.5 in /usr/local/lib/python3.11/dist-packages (from chromadb) (2.0.2)\n",
            "Collecting posthog>=2.4.0 (from chromadb)\n",
            "  Downloading posthog-4.10.0-py3-none-any.whl.metadata (6.0 kB)\n",
            "Requirement already satisfied: typing-extensions>=4.5.0 in /usr/local/lib/python3.11/dist-packages (from chromadb) (4.14.0)\n",
            "Collecting onnxruntime>=1.14.1 (from chromadb)\n",
            "  Downloading onnxruntime-1.22.0-cp311-cp311-manylinux_2_27_x86_64.manylinux_2_28_x86_64.whl.metadata (4.5 kB)\n",
            "Collecting opentelemetry-api>=1.2.0 (from chromadb)\n",
            "  Downloading opentelemetry_api-1.34.1-py3-none-any.whl.metadata (1.5 kB)\n",
            "Collecting opentelemetry-exporter-otlp-proto-grpc>=1.2.0 (from chromadb)\n",
            "  Downloading opentelemetry_exporter_otlp_proto_grpc-1.34.1-py3-none-any.whl.metadata (2.4 kB)\n",
            "Collecting opentelemetry-instrumentation-fastapi>=0.41b0 (from chromadb)\n",
            "  Downloading opentelemetry_instrumentation_fastapi-0.55b1-py3-none-any.whl.metadata (2.2 kB)\n",
            "Collecting opentelemetry-sdk>=1.2.0 (from chromadb)\n",
            "  Downloading opentelemetry_sdk-1.34.1-py3-none-any.whl.metadata (1.6 kB)\n",
            "Requirement already satisfied: tokenizers>=0.13.2 in /usr/local/lib/python3.11/dist-packages (from chromadb) (0.21.1)\n",
            "Collecting pypika>=0.48.9 (from chromadb)\n",
            "  Downloading PyPika-0.48.9.tar.gz (67 kB)\n",
            "\u001b[2K     \u001b[90m━━━━━━━━━━━━━━━━━━━━━━━━━━━━━━━━━━━━━━━━\u001b[0m \u001b[32m67.3/67.3 kB\u001b[0m \u001b[31m4.9 MB/s\u001b[0m eta \u001b[36m0:00:00\u001b[0m\n",
            "\u001b[?25h  Installing build dependencies ... \u001b[?25l\u001b[?25hdone\n",
            "  Getting requirements to build wheel ... \u001b[?25l\u001b[?25hdone\n",
            "  Preparing metadata (pyproject.toml) ... \u001b[?25l\u001b[?25hdone\n",
            "Requirement already satisfied: tqdm>=4.65.0 in /usr/local/lib/python3.11/dist-packages (from chromadb) (4.67.1)\n",
            "Collecting overrides>=7.3.1 (from chromadb)\n",
            "  Downloading overrides-7.7.0-py3-none-any.whl.metadata (5.8 kB)\n",
            "Requirement already satisfied: importlib-resources in /usr/local/lib/python3.11/dist-packages (from chromadb) (6.5.2)\n",
            "Requirement already satisfied: grpcio>=1.58.0 in /usr/local/lib/python3.11/dist-packages (from chromadb) (1.72.1)\n",
            "Collecting bcrypt>=4.0.1 (from chromadb)\n",
            "  Downloading bcrypt-4.3.0-cp39-abi3-manylinux_2_34_x86_64.whl.metadata (10 kB)\n",
            "Requirement already satisfied: typer>=0.9.0 in /usr/local/lib/python3.11/dist-packages (from chromadb) (0.16.0)\n",
            "Collecting kubernetes>=28.1.0 (from chromadb)\n",
            "  Downloading kubernetes-33.1.0-py2.py3-none-any.whl.metadata (1.7 kB)\n",
            "Requirement already satisfied: tenacity>=8.2.3 in /usr/local/lib/python3.11/dist-packages (from chromadb) (9.1.2)\n",
            "Requirement already satisfied: pyyaml>=6.0.0 in /usr/local/lib/python3.11/dist-packages (from chromadb) (6.0.2)\n",
            "Collecting mmh3>=4.0.1 (from chromadb)\n",
            "  Downloading mmh3-5.1.0-cp311-cp311-manylinux_2_5_x86_64.manylinux1_x86_64.manylinux_2_17_x86_64.manylinux2014_x86_64.whl.metadata (16 kB)\n",
            "Requirement already satisfied: orjson>=3.9.12 in /usr/local/lib/python3.11/dist-packages (from chromadb) (3.10.18)\n",
            "Requirement already satisfied: httpx>=0.27.0 in /usr/local/lib/python3.11/dist-packages (from chromadb) (0.28.1)\n",
            "Requirement already satisfied: rich>=10.11.0 in /usr/local/lib/python3.11/dist-packages (from chromadb) (13.9.4)\n",
            "Requirement already satisfied: jsonschema>=4.19.0 in /usr/local/lib/python3.11/dist-packages (from chromadb) (4.24.0)\n",
            "Collecting starlette<0.46.0,>=0.40.0 (from fastapi==0.115.9->chromadb)\n",
            "  Downloading starlette-0.45.3-py3-none-any.whl.metadata (6.3 kB)\n",
            "Requirement already satisfied: anyio<5,>=3.5.0 in /usr/local/lib/python3.11/dist-packages (from openai) (4.9.0)\n",
            "Requirement already satisfied: distro<2,>=1.7.0 in /usr/local/lib/python3.11/dist-packages (from openai) (1.9.0)\n",
            "Requirement already satisfied: jiter<1,>=0.4.0 in /usr/local/lib/python3.11/dist-packages (from openai) (0.10.0)\n",
            "Requirement already satisfied: sniffio in /usr/local/lib/python3.11/dist-packages (from openai) (1.3.1)\n",
            "Requirement already satisfied: langchain-core<1.0.0,>=0.3.58 in /usr/local/lib/python3.11/dist-packages (from langchain) (0.3.63)\n",
            "Requirement already satisfied: langchain-text-splitters<1.0.0,>=0.3.8 in /usr/local/lib/python3.11/dist-packages (from langchain) (0.3.8)\n",
            "Requirement already satisfied: langsmith<0.4,>=0.1.17 in /usr/local/lib/python3.11/dist-packages (from langchain) (0.3.44)\n",
            "Requirement already satisfied: SQLAlchemy<3,>=1.4 in /usr/local/lib/python3.11/dist-packages (from langchain) (2.0.41)\n",
            "Requirement already satisfied: requests<3,>=2 in /usr/local/lib/python3.11/dist-packages (from langchain) (2.32.3)\n",
            "Requirement already satisfied: regex>=2022.1.18 in /usr/local/lib/python3.11/dist-packages (from tiktoken) (2024.11.6)\n",
            "Requirement already satisfied: python-dateutil>=2.8.2 in /usr/local/lib/python3.11/dist-packages (from pandas) (2.9.0.post0)\n",
            "Requirement already satisfied: pytz>=2020.1 in /usr/local/lib/python3.11/dist-packages (from pandas) (2025.2)\n",
            "Requirement already satisfied: tzdata>=2022.7 in /usr/local/lib/python3.11/dist-packages (from pandas) (2025.2)\n",
            "Requirement already satisfied: contourpy>=1.0.1 in /usr/local/lib/python3.11/dist-packages (from matplotlib) (1.3.2)\n",
            "Requirement already satisfied: cycler>=0.10 in /usr/local/lib/python3.11/dist-packages (from matplotlib) (0.12.1)\n",
            "Requirement already satisfied: fonttools>=4.22.0 in /usr/local/lib/python3.11/dist-packages (from matplotlib) (4.58.1)\n",
            "Requirement already satisfied: kiwisolver>=1.3.1 in /usr/local/lib/python3.11/dist-packages (from matplotlib) (1.4.8)\n",
            "Requirement already satisfied: packaging>=20.0 in /usr/local/lib/python3.11/dist-packages (from matplotlib) (24.2)\n",
            "Requirement already satisfied: pillow>=8 in /usr/local/lib/python3.11/dist-packages (from matplotlib) (11.2.1)\n",
            "Requirement already satisfied: pyparsing>=2.3.1 in /usr/local/lib/python3.11/dist-packages (from matplotlib) (3.2.3)\n",
            "Requirement already satisfied: idna>=2.8 in /usr/local/lib/python3.11/dist-packages (from anyio<5,>=3.5.0->openai) (3.10)\n",
            "Requirement already satisfied: pyproject_hooks in /usr/local/lib/python3.11/dist-packages (from build>=1.0.3->chromadb) (1.2.0)\n",
            "Requirement already satisfied: certifi in /usr/local/lib/python3.11/dist-packages (from httpx>=0.27.0->chromadb) (2025.4.26)\n",
            "Requirement already satisfied: httpcore==1.* in /usr/local/lib/python3.11/dist-packages (from httpx>=0.27.0->chromadb) (1.0.9)\n",
            "Requirement already satisfied: h11>=0.16 in /usr/local/lib/python3.11/dist-packages (from httpcore==1.*->httpx>=0.27.0->chromadb) (0.16.0)\n",
            "Requirement already satisfied: attrs>=22.2.0 in /usr/local/lib/python3.11/dist-packages (from jsonschema>=4.19.0->chromadb) (25.3.0)\n",
            "Requirement already satisfied: jsonschema-specifications>=2023.03.6 in /usr/local/lib/python3.11/dist-packages (from jsonschema>=4.19.0->chromadb) (2025.4.1)\n",
            "Requirement already satisfied: referencing>=0.28.4 in /usr/local/lib/python3.11/dist-packages (from jsonschema>=4.19.0->chromadb) (0.36.2)\n",
            "Requirement already satisfied: rpds-py>=0.7.1 in /usr/local/lib/python3.11/dist-packages (from jsonschema>=4.19.0->chromadb) (0.25.1)\n",
            "Requirement already satisfied: six>=1.9.0 in /usr/local/lib/python3.11/dist-packages (from kubernetes>=28.1.0->chromadb) (1.17.0)\n",
            "Requirement already satisfied: google-auth>=1.0.1 in /usr/local/lib/python3.11/dist-packages (from kubernetes>=28.1.0->chromadb) (2.38.0)\n",
            "Requirement already satisfied: websocket-client!=0.40.0,!=0.41.*,!=0.42.*,>=0.32.0 in /usr/local/lib/python3.11/dist-packages (from kubernetes>=28.1.0->chromadb) (1.8.0)\n",
            "Requirement already satisfied: requests-oauthlib in /usr/local/lib/python3.11/dist-packages (from kubernetes>=28.1.0->chromadb) (2.0.0)\n",
            "Requirement already satisfied: oauthlib>=3.2.2 in /usr/local/lib/python3.11/dist-packages (from kubernetes>=28.1.0->chromadb) (3.2.2)\n",
            "Requirement already satisfied: urllib3>=1.24.2 in /usr/local/lib/python3.11/dist-packages (from kubernetes>=28.1.0->chromadb) (2.4.0)\n",
            "Collecting durationpy>=0.7 (from kubernetes>=28.1.0->chromadb)\n",
            "  Downloading durationpy-0.10-py3-none-any.whl.metadata (340 bytes)\n",
            "Requirement already satisfied: jsonpatch<2.0,>=1.33 in /usr/local/lib/python3.11/dist-packages (from langchain-core<1.0.0,>=0.3.58->langchain) (1.33)\n",
            "Requirement already satisfied: requests-toolbelt<2.0.0,>=1.0.0 in /usr/local/lib/python3.11/dist-packages (from langsmith<0.4,>=0.1.17->langchain) (1.0.0)\n",
            "Requirement already satisfied: zstandard<0.24.0,>=0.23.0 in /usr/local/lib/python3.11/dist-packages (from langsmith<0.4,>=0.1.17->langchain) (0.23.0)\n",
            "Collecting coloredlogs (from onnxruntime>=1.14.1->chromadb)\n",
            "  Downloading coloredlogs-15.0.1-py2.py3-none-any.whl.metadata (12 kB)\n",
            "Requirement already satisfied: flatbuffers in /usr/local/lib/python3.11/dist-packages (from onnxruntime>=1.14.1->chromadb) (25.2.10)\n",
            "Requirement already satisfied: protobuf in /usr/local/lib/python3.11/dist-packages (from onnxruntime>=1.14.1->chromadb) (5.29.5)\n",
            "Requirement already satisfied: sympy in /usr/local/lib/python3.11/dist-packages (from onnxruntime>=1.14.1->chromadb) (1.13.1)\n",
            "Requirement already satisfied: importlib-metadata<8.8.0,>=6.0 in /usr/local/lib/python3.11/dist-packages (from opentelemetry-api>=1.2.0->chromadb) (8.7.0)\n",
            "Requirement already satisfied: googleapis-common-protos~=1.52 in /usr/local/lib/python3.11/dist-packages (from opentelemetry-exporter-otlp-proto-grpc>=1.2.0->chromadb) (1.70.0)\n",
            "Collecting opentelemetry-exporter-otlp-proto-common==1.34.1 (from opentelemetry-exporter-otlp-proto-grpc>=1.2.0->chromadb)\n",
            "  Downloading opentelemetry_exporter_otlp_proto_common-1.34.1-py3-none-any.whl.metadata (1.9 kB)\n",
            "Collecting opentelemetry-proto==1.34.1 (from opentelemetry-exporter-otlp-proto-grpc>=1.2.0->chromadb)\n",
            "  Downloading opentelemetry_proto-1.34.1-py3-none-any.whl.metadata (2.4 kB)\n",
            "Collecting opentelemetry-instrumentation-asgi==0.55b1 (from opentelemetry-instrumentation-fastapi>=0.41b0->chromadb)\n",
            "  Downloading opentelemetry_instrumentation_asgi-0.55b1-py3-none-any.whl.metadata (2.0 kB)\n",
            "Collecting opentelemetry-instrumentation==0.55b1 (from opentelemetry-instrumentation-fastapi>=0.41b0->chromadb)\n",
            "  Downloading opentelemetry_instrumentation-0.55b1-py3-none-any.whl.metadata (6.7 kB)\n",
            "Collecting opentelemetry-semantic-conventions==0.55b1 (from opentelemetry-instrumentation-fastapi>=0.41b0->chromadb)\n",
            "  Downloading opentelemetry_semantic_conventions-0.55b1-py3-none-any.whl.metadata (2.5 kB)\n",
            "Collecting opentelemetry-util-http==0.55b1 (from opentelemetry-instrumentation-fastapi>=0.41b0->chromadb)\n",
            "  Downloading opentelemetry_util_http-0.55b1-py3-none-any.whl.metadata (2.6 kB)\n",
            "Requirement already satisfied: wrapt<2.0.0,>=1.0.0 in /usr/local/lib/python3.11/dist-packages (from opentelemetry-instrumentation==0.55b1->opentelemetry-instrumentation-fastapi>=0.41b0->chromadb) (1.17.2)\n",
            "Collecting asgiref~=3.0 (from opentelemetry-instrumentation-asgi==0.55b1->opentelemetry-instrumentation-fastapi>=0.41b0->chromadb)\n",
            "  Downloading asgiref-3.8.1-py3-none-any.whl.metadata (9.3 kB)\n",
            "Collecting backoff>=1.10.0 (from posthog>=2.4.0->chromadb)\n",
            "  Downloading backoff-2.2.1-py3-none-any.whl.metadata (14 kB)\n",
            "Requirement already satisfied: annotated-types>=0.6.0 in /usr/local/lib/python3.11/dist-packages (from pydantic>=1.9->chromadb) (0.7.0)\n",
            "Requirement already satisfied: pydantic-core==2.33.2 in /usr/local/lib/python3.11/dist-packages (from pydantic>=1.9->chromadb) (2.33.2)\n",
            "Requirement already satisfied: typing-inspection>=0.4.0 in /usr/local/lib/python3.11/dist-packages (from pydantic>=1.9->chromadb) (0.4.1)\n",
            "Requirement already satisfied: charset-normalizer<4,>=2 in /usr/local/lib/python3.11/dist-packages (from requests<3,>=2->langchain) (3.4.2)\n",
            "Requirement already satisfied: markdown-it-py>=2.2.0 in /usr/local/lib/python3.11/dist-packages (from rich>=10.11.0->chromadb) (3.0.0)\n",
            "Requirement already satisfied: pygments<3.0.0,>=2.13.0 in /usr/local/lib/python3.11/dist-packages (from rich>=10.11.0->chromadb) (2.19.1)\n",
            "Requirement already satisfied: greenlet>=1 in /usr/local/lib/python3.11/dist-packages (from SQLAlchemy<3,>=1.4->langchain) (3.2.2)\n",
            "Requirement already satisfied: huggingface-hub<1.0,>=0.16.4 in /usr/local/lib/python3.11/dist-packages (from tokenizers>=0.13.2->chromadb) (0.32.4)\n",
            "Requirement already satisfied: click>=8.0.0 in /usr/local/lib/python3.11/dist-packages (from typer>=0.9.0->chromadb) (8.2.1)\n",
            "Requirement already satisfied: shellingham>=1.3.0 in /usr/local/lib/python3.11/dist-packages (from typer>=0.9.0->chromadb) (1.5.4)\n",
            "Collecting httptools>=0.6.3 (from uvicorn[standard]>=0.18.3->chromadb)\n",
            "  Downloading httptools-0.6.4-cp311-cp311-manylinux_2_5_x86_64.manylinux1_x86_64.manylinux_2_17_x86_64.manylinux2014_x86_64.whl.metadata (3.6 kB)\n",
            "Collecting python-dotenv>=0.13 (from uvicorn[standard]>=0.18.3->chromadb)\n",
            "  Downloading python_dotenv-1.1.0-py3-none-any.whl.metadata (24 kB)\n",
            "Collecting uvloop>=0.15.1 (from uvicorn[standard]>=0.18.3->chromadb)\n",
            "  Downloading uvloop-0.21.0-cp311-cp311-manylinux_2_17_x86_64.manylinux2014_x86_64.whl.metadata (4.9 kB)\n",
            "Collecting watchfiles>=0.13 (from uvicorn[standard]>=0.18.3->chromadb)\n",
            "  Downloading watchfiles-1.0.5-cp311-cp311-manylinux_2_17_x86_64.manylinux2014_x86_64.whl.metadata (4.9 kB)\n",
            "Requirement already satisfied: websockets>=10.4 in /usr/local/lib/python3.11/dist-packages (from uvicorn[standard]>=0.18.3->chromadb) (15.0.1)\n",
            "Requirement already satisfied: cachetools<6.0,>=2.0.0 in /usr/local/lib/python3.11/dist-packages (from google-auth>=1.0.1->kubernetes>=28.1.0->chromadb) (5.5.2)\n",
            "Requirement already satisfied: pyasn1-modules>=0.2.1 in /usr/local/lib/python3.11/dist-packages (from google-auth>=1.0.1->kubernetes>=28.1.0->chromadb) (0.4.2)\n",
            "Requirement already satisfied: rsa<5,>=3.1.4 in /usr/local/lib/python3.11/dist-packages (from google-auth>=1.0.1->kubernetes>=28.1.0->chromadb) (4.9.1)\n",
            "Requirement already satisfied: filelock in /usr/local/lib/python3.11/dist-packages (from huggingface-hub<1.0,>=0.16.4->tokenizers>=0.13.2->chromadb) (3.18.0)\n",
            "Requirement already satisfied: fsspec>=2023.5.0 in /usr/local/lib/python3.11/dist-packages (from huggingface-hub<1.0,>=0.16.4->tokenizers>=0.13.2->chromadb) (2025.3.2)\n",
            "Requirement already satisfied: hf-xet<2.0.0,>=1.1.2 in /usr/local/lib/python3.11/dist-packages (from huggingface-hub<1.0,>=0.16.4->tokenizers>=0.13.2->chromadb) (1.1.2)\n",
            "Requirement already satisfied: zipp>=3.20 in /usr/local/lib/python3.11/dist-packages (from importlib-metadata<8.8.0,>=6.0->opentelemetry-api>=1.2.0->chromadb) (3.22.0)\n",
            "Requirement already satisfied: jsonpointer>=1.9 in /usr/local/lib/python3.11/dist-packages (from jsonpatch<2.0,>=1.33->langchain-core<1.0.0,>=0.3.58->langchain) (3.0.0)\n",
            "Requirement already satisfied: mdurl~=0.1 in /usr/local/lib/python3.11/dist-packages (from markdown-it-py>=2.2.0->rich>=10.11.0->chromadb) (0.1.2)\n",
            "Collecting humanfriendly>=9.1 (from coloredlogs->onnxruntime>=1.14.1->chromadb)\n",
            "  Downloading humanfriendly-10.0-py2.py3-none-any.whl.metadata (9.2 kB)\n",
            "Requirement already satisfied: mpmath<1.4,>=1.1.0 in /usr/local/lib/python3.11/dist-packages (from sympy->onnxruntime>=1.14.1->chromadb) (1.3.0)\n",
            "Requirement already satisfied: pyasn1<0.7.0,>=0.6.1 in /usr/local/lib/python3.11/dist-packages (from pyasn1-modules>=0.2.1->google-auth>=1.0.1->kubernetes>=28.1.0->chromadb) (0.6.1)\n",
            "Downloading chromadb-1.0.12-cp39-abi3-manylinux_2_17_x86_64.manylinux2014_x86_64.whl (19.3 MB)\n",
            "\u001b[2K   \u001b[90m━━━━━━━━━━━━━━━━━━━━━━━━━━━━━━━━━━━━━━━━\u001b[0m \u001b[32m19.3/19.3 MB\u001b[0m \u001b[31m68.7 MB/s\u001b[0m eta \u001b[36m0:00:00\u001b[0m\n",
            "\u001b[?25hDownloading fastapi-0.115.9-py3-none-any.whl (94 kB)\n",
            "\u001b[2K   \u001b[90m━━━━━━━━━━━━━━━━━━━━━━━━━━━━━━━━━━━━━━━━\u001b[0m \u001b[32m94.9/94.9 kB\u001b[0m \u001b[31m6.8 MB/s\u001b[0m eta \u001b[36m0:00:00\u001b[0m\n",
            "\u001b[?25hDownloading bcrypt-4.3.0-cp39-abi3-manylinux_2_34_x86_64.whl (284 kB)\n",
            "\u001b[2K   \u001b[90m━━━━━━━━━━━━━━━━━━━━━━━━━━━━━━━━━━━━━━━━\u001b[0m \u001b[32m284.2/284.2 kB\u001b[0m \u001b[31m19.8 MB/s\u001b[0m eta \u001b[36m0:00:00\u001b[0m\n",
            "\u001b[?25hDownloading kubernetes-33.1.0-py2.py3-none-any.whl (1.9 MB)\n",
            "\u001b[2K   \u001b[90m━━━━━━━━━━━━━━━━━━━━━━━━━━━━━━━━━━━━━━━━\u001b[0m \u001b[32m1.9/1.9 MB\u001b[0m \u001b[31m65.6 MB/s\u001b[0m eta \u001b[36m0:00:00\u001b[0m\n",
            "\u001b[?25hDownloading mmh3-5.1.0-cp311-cp311-manylinux_2_5_x86_64.manylinux1_x86_64.manylinux_2_17_x86_64.manylinux2014_x86_64.whl (101 kB)\n",
            "\u001b[2K   \u001b[90m━━━━━━━━━━━━━━━━━━━━━━━━━━━━━━━━━━━━━━━━\u001b[0m \u001b[32m101.6/101.6 kB\u001b[0m \u001b[31m8.3 MB/s\u001b[0m eta \u001b[36m0:00:00\u001b[0m\n",
            "\u001b[?25hDownloading onnxruntime-1.22.0-cp311-cp311-manylinux_2_27_x86_64.manylinux_2_28_x86_64.whl (16.4 MB)\n",
            "\u001b[2K   \u001b[90m━━━━━━━━━━━━━━━━━━━━━━━━━━━━━━━━━━━━━━━━\u001b[0m \u001b[32m16.4/16.4 MB\u001b[0m \u001b[31m90.1 MB/s\u001b[0m eta \u001b[36m0:00:00\u001b[0m\n",
            "\u001b[?25hDownloading opentelemetry_api-1.34.1-py3-none-any.whl (65 kB)\n",
            "\u001b[2K   \u001b[90m━━━━━━━━━━━━━━━━━━━━━━━━━━━━━━━━━━━━━━━━\u001b[0m \u001b[32m65.8/65.8 kB\u001b[0m \u001b[31m5.7 MB/s\u001b[0m eta \u001b[36m0:00:00\u001b[0m\n",
            "\u001b[?25hDownloading opentelemetry_exporter_otlp_proto_grpc-1.34.1-py3-none-any.whl (18 kB)\n",
            "Downloading opentelemetry_exporter_otlp_proto_common-1.34.1-py3-none-any.whl (18 kB)\n",
            "Downloading opentelemetry_proto-1.34.1-py3-none-any.whl (55 kB)\n",
            "\u001b[2K   \u001b[90m━━━━━━━━━━━━━━━━━━━━━━━━━━━━━━━━━━━━━━━━\u001b[0m \u001b[32m55.7/55.7 kB\u001b[0m \u001b[31m5.1 MB/s\u001b[0m eta \u001b[36m0:00:00\u001b[0m\n",
            "\u001b[?25hDownloading opentelemetry_instrumentation_fastapi-0.55b1-py3-none-any.whl (12 kB)\n",
            "Downloading opentelemetry_instrumentation-0.55b1-py3-none-any.whl (31 kB)\n",
            "Downloading opentelemetry_instrumentation_asgi-0.55b1-py3-none-any.whl (16 kB)\n",
            "Downloading opentelemetry_semantic_conventions-0.55b1-py3-none-any.whl (196 kB)\n",
            "\u001b[2K   \u001b[90m━━━━━━━━━━━━━━━━━━━━━━━━━━━━━━━━━━━━━━━━\u001b[0m \u001b[32m196.2/196.2 kB\u001b[0m \u001b[31m15.9 MB/s\u001b[0m eta \u001b[36m0:00:00\u001b[0m\n",
            "\u001b[?25hDownloading opentelemetry_util_http-0.55b1-py3-none-any.whl (7.3 kB)\n",
            "Downloading opentelemetry_sdk-1.34.1-py3-none-any.whl (118 kB)\n",
            "\u001b[2K   \u001b[90m━━━━━━━━━━━━━━━━━━━━━━━━━━━━━━━━━━━━━━━━\u001b[0m \u001b[32m118.5/118.5 kB\u001b[0m \u001b[31m10.1 MB/s\u001b[0m eta \u001b[36m0:00:00\u001b[0m\n",
            "\u001b[?25hDownloading overrides-7.7.0-py3-none-any.whl (17 kB)\n",
            "Downloading posthog-4.10.0-py3-none-any.whl (102 kB)\n",
            "\u001b[2K   \u001b[90m━━━━━━━━━━━━━━━━━━━━━━━━━━━━━━━━━━━━━━━━\u001b[0m \u001b[32m102.5/102.5 kB\u001b[0m \u001b[31m8.6 MB/s\u001b[0m eta \u001b[36m0:00:00\u001b[0m\n",
            "\u001b[?25hDownloading backoff-2.2.1-py3-none-any.whl (15 kB)\n",
            "Downloading durationpy-0.10-py3-none-any.whl (3.9 kB)\n",
            "Downloading httptools-0.6.4-cp311-cp311-manylinux_2_5_x86_64.manylinux1_x86_64.manylinux_2_17_x86_64.manylinux2014_x86_64.whl (459 kB)\n",
            "\u001b[2K   \u001b[90m━━━━━━━━━━━━━━━━━━━━━━━━━━━━━━━━━━━━━━━━\u001b[0m \u001b[32m459.8/459.8 kB\u001b[0m \u001b[31m35.6 MB/s\u001b[0m eta \u001b[36m0:00:00\u001b[0m\n",
            "\u001b[?25hDownloading python_dotenv-1.1.0-py3-none-any.whl (20 kB)\n",
            "Downloading starlette-0.45.3-py3-none-any.whl (71 kB)\n",
            "\u001b[2K   \u001b[90m━━━━━━━━━━━━━━━━━━━━━━━━━━━━━━━━━━━━━━━━\u001b[0m \u001b[32m71.5/71.5 kB\u001b[0m \u001b[31m4.6 MB/s\u001b[0m eta \u001b[36m0:00:00\u001b[0m\n",
            "\u001b[?25hDownloading uvloop-0.21.0-cp311-cp311-manylinux_2_17_x86_64.manylinux2014_x86_64.whl (4.0 MB)\n",
            "\u001b[2K   \u001b[90m━━━━━━━━━━━━━━━━━━━━━━━━━━━━━━━━━━━━━━━━\u001b[0m \u001b[32m4.0/4.0 MB\u001b[0m \u001b[31m67.6 MB/s\u001b[0m eta \u001b[36m0:00:00\u001b[0m\n",
            "\u001b[?25hDownloading watchfiles-1.0.5-cp311-cp311-manylinux_2_17_x86_64.manylinux2014_x86_64.whl (454 kB)\n",
            "\u001b[2K   \u001b[90m━━━━━━━━━━━━━━━━━━━━━━━━━━━━━━━━━━━━━━━━\u001b[0m \u001b[32m454.8/454.8 kB\u001b[0m \u001b[31m31.3 MB/s\u001b[0m eta \u001b[36m0:00:00\u001b[0m\n",
            "\u001b[?25hDownloading coloredlogs-15.0.1-py2.py3-none-any.whl (46 kB)\n",
            "\u001b[2K   \u001b[90m━━━━━━━━━━━━━━━━━━━━━━━━━━━━━━━━━━━━━━━━\u001b[0m \u001b[32m46.0/46.0 kB\u001b[0m \u001b[31m2.4 MB/s\u001b[0m eta \u001b[36m0:00:00\u001b[0m\n",
            "\u001b[?25hDownloading asgiref-3.8.1-py3-none-any.whl (23 kB)\n",
            "Downloading humanfriendly-10.0-py2.py3-none-any.whl (86 kB)\n",
            "\u001b[2K   \u001b[90m━━━━━━━━━━━━━━━━━━━━━━━━━━━━━━━━━━━━━━━━\u001b[0m \u001b[32m86.8/86.8 kB\u001b[0m \u001b[31m7.2 MB/s\u001b[0m eta \u001b[36m0:00:00\u001b[0m\n",
            "\u001b[?25hBuilding wheels for collected packages: pypika\n",
            "  Building wheel for pypika (pyproject.toml) ... \u001b[?25l\u001b[?25hdone\n",
            "  Created wheel for pypika: filename=pypika-0.48.9-py2.py3-none-any.whl size=53803 sha256=54f6ddaf368d41d814992a7c657e46fa53273f38ee76293bb543a20166370af2\n",
            "  Stored in directory: /root/.cache/pip/wheels/a3/01/bd/4c40ceb9d5354160cb186dcc153360f4ab7eb23e2b24daf96d\n",
            "Successfully built pypika\n",
            "Installing collected packages: pypika, durationpy, uvloop, python-dotenv, overrides, opentelemetry-util-http, opentelemetry-proto, mmh3, humanfriendly, httptools, bcrypt, backoff, asgiref, watchfiles, starlette, posthog, opentelemetry-exporter-otlp-proto-common, opentelemetry-api, coloredlogs, opentelemetry-semantic-conventions, onnxruntime, kubernetes, fastapi, opentelemetry-sdk, opentelemetry-instrumentation, opentelemetry-instrumentation-asgi, opentelemetry-exporter-otlp-proto-grpc, opentelemetry-instrumentation-fastapi, chromadb\n",
            "  Attempting uninstall: starlette\n",
            "    Found existing installation: starlette 0.46.2\n",
            "    Uninstalling starlette-0.46.2:\n",
            "      Successfully uninstalled starlette-0.46.2\n",
            "  Attempting uninstall: fastapi\n",
            "    Found existing installation: fastapi 0.115.12\n",
            "    Uninstalling fastapi-0.115.12:\n",
            "      Successfully uninstalled fastapi-0.115.12\n",
            "Successfully installed asgiref-3.8.1 backoff-2.2.1 bcrypt-4.3.0 chromadb-1.0.12 coloredlogs-15.0.1 durationpy-0.10 fastapi-0.115.9 httptools-0.6.4 humanfriendly-10.0 kubernetes-33.1.0 mmh3-5.1.0 onnxruntime-1.22.0 opentelemetry-api-1.34.1 opentelemetry-exporter-otlp-proto-common-1.34.1 opentelemetry-exporter-otlp-proto-grpc-1.34.1 opentelemetry-instrumentation-0.55b1 opentelemetry-instrumentation-asgi-0.55b1 opentelemetry-instrumentation-fastapi-0.55b1 opentelemetry-proto-1.34.1 opentelemetry-sdk-1.34.1 opentelemetry-semantic-conventions-0.55b1 opentelemetry-util-http-0.55b1 overrides-7.7.0 posthog-4.10.0 pypika-0.48.9 python-dotenv-1.1.0 starlette-0.45.3 uvloop-0.21.0 watchfiles-1.0.5\n"
          ]
        }
      ],
      "source": [
        "!pip install chromadb openai langchain tiktoken pandas matplotlib seaborn"
      ]
    },
    {
      "cell_type": "code",
      "execution_count": 22,
      "id": "G5YJAHbxCHin",
      "metadata": {
        "id": "G5YJAHbxCHin"
      },
      "outputs": [],
      "source": [
        "from google.colab import userdata\n",
        "import chromadb\n",
        "from openai import OpenAI\n",
        "import os\n",
        "import matplotlib.pyplot as plt\n",
        "import seaborn as sns\n",
        "import numpy as np"
      ]
    },
    {
      "cell_type": "code",
      "execution_count": 23,
      "id": "9hJUTH_Sx6Kz",
      "metadata": {
        "id": "9hJUTH_Sx6Kz"
      },
      "outputs": [],
      "source": [
        "# 1.OpenAI 클라이언트 설정\n",
        "api_key = userdata.get(\"OPENAI_API_KEY\")\n",
        "client = OpenAI(api_key=api_key)"
      ]
    },
    {
      "cell_type": "code",
      "execution_count": 24,
      "id": "N6BVOyqpy8gg",
      "metadata": {
        "id": "N6BVOyqpy8gg"
      },
      "outputs": [],
      "source": [
        "# 2. ChromaDB 설정 (Google Drive 경로에 영구 저장)\n",
        "chroma = chromadb.PersistentClient(path=\"/content/drive/MyDrive/FAQ_Project/chroma_db\")"
      ]
    },
    {
      "cell_type": "code",
      "execution_count": 25,
      "id": "VHekerjFEySp",
      "metadata": {
        "colab": {
          "base_uri": "https://localhost:8080/"
        },
        "id": "VHekerjFEySp",
        "outputId": "0b91917c-9cc2-44f0-e64e-96e23b153c3a"
      },
      "outputs": [
        {
          "output_type": "stream",
          "name": "stdout",
          "text": [
            "기존 컬렉션 지웠어요.\n",
            "ChromaDB 컬렉션 생성 완료.\n"
          ]
        }
      ],
      "source": [
        "COLLECTION = \"smartstore_faq_collection\"\n",
        "\n",
        "try:\n",
        "    # 기존 컬렉션 삭제 후 생성 (populate_chroma.py의 목적과 동일)\n",
        "    try:\n",
        "        chroma.delete_collection(name=COLLECTION)\n",
        "        print(\"기존 컬렉션 지웠어요.\")\n",
        "    except Exception as e:\n",
        "        # 컬렉션이 없어서 삭제 실패하는 경우는 무시 (처음 실행 시 발생)\n",
        "        print(f\"기존 컬렉션이 없거나 삭제할 수 없습니다 (오류: {e}). 새로 생성합니다.\")\n",
        "\n",
        "    # 컬렉션을 생성하고 'col' 변수에 할당 (데이터 적재에 사용)\n",
        "    col = chroma.create_collection(name=COLLECTION)\n",
        "    print(\"ChromaDB 컬렉션 생성 완료.\")\n",
        "except Exception as e:\n",
        "    print(f\"ChromaDB 컬렉션 생성 실패: {e}\")\n",
        "    # exit() 대신 print만 하고 다음 셀로 넘어갈 수 있도록 수정\n",
        "    print(\"ChromaDB 컬렉션이 없어 다음 단계 진행에 문제가 있을 수 있습니다.\")\n",
        "    col = None # 컬렉션 생성 실패 시 col을 None으로 설정"
      ]
    },
    {
      "cell_type": "code",
      "execution_count": 26,
      "id": "T-VqsDDrz8re",
      "metadata": {
        "id": "T-VqsDDrz8re"
      },
      "outputs": [],
      "source": [
        "# 3. 텍스트 임베딩을 위한 모델 및 배치 처리 설정\n",
        "model = \"text-embedding-3-small\"\n",
        "embeddings = []\n",
        "batch_size = 50"
      ]
    },
    {
      "cell_type": "markdown",
      "id": "MjAj4Qg68lV_",
      "metadata": {
        "id": "MjAj4Qg68lV_"
      },
      "source": [
        "👀 코드정리\n",
        "\n",
        "❓ text-embedding-3-small\n",
        "- OpenAI의 효율적인 임베딩 모델\n",
        "- 텍스트를 고차원 벡터로 변환\n",
        "\n",
        "❓ batch_size\n",
        "- API 호출 효율성을 위해 한 번에 처리할 청크의 개수를 지정"
      ]
    },
    {
      "cell_type": "code",
      "execution_count": 27,
      "id": "sVMGEz7Ez8m6",
      "metadata": {
        "colab": {
          "base_uri": "https://localhost:8080/"
        },
        "collapsed": true,
        "id": "sVMGEz7Ez8m6",
        "outputId": "c3dbd963-51c1-42b8-ee28-32cf1a4d47ec"
      },
      "outputs": [
        {
          "output_type": "stream",
          "name": "stdout",
          "text": [
            "50개 임베딩 생성함!\n",
            "100개 임베딩 생성함!\n",
            "150개 임베딩 생성함!\n",
            "200개 임베딩 생성함!\n",
            "250개 임베딩 생성함!\n",
            "300개 임베딩 생성함!\n",
            "350개 임베딩 생성함!\n",
            "400개 임베딩 생성함!\n",
            "450개 임베딩 생성함!\n",
            "500개 임베딩 생성함!\n",
            "550개 임베딩 생성함!\n",
            "600개 임베딩 생성함!\n",
            "650개 임베딩 생성함!\n",
            "700개 임베딩 생성함!\n",
            "750개 임베딩 생성함!\n",
            "800개 임베딩 생성함!\n",
            "850개 임베딩 생성함!\n",
            "900개 임베딩 생성함!\n",
            "950개 임베딩 생성함!\n",
            "1000개 임베딩 생성함!\n",
            "1050개 임베딩 생성함!\n",
            "1100개 임베딩 생성함!\n",
            "1150개 임베딩 생성함!\n",
            "1200개 임베딩 생성함!\n",
            "1250개 임베딩 생성함!\n",
            "1300개 임베딩 생성함!\n",
            "1350개 임베딩 생성함!\n",
            "1400개 임베딩 생성함!\n",
            "1450개 임베딩 생성함!\n",
            "1500개 임베딩 생성함!\n",
            "1550개 임베딩 생성함!\n",
            "1600개 임베딩 생성함!\n",
            "1650개 임베딩 생성함!\n",
            "1700개 임베딩 생성함!\n",
            "1750개 임베딩 생성함!\n",
            "1800개 임베딩 생성함!\n",
            "1850개 임베딩 생성함!\n",
            "1900개 임베딩 생성함!\n",
            "1950개 임베딩 생성함!\n",
            "2000개 임베딩 생성함!\n",
            "2050개 임베딩 생성함!\n",
            "2100개 임베딩 생성함!\n",
            "2150개 임베딩 생성함!\n",
            "2200개 임베딩 생성함!\n",
            "2250개 임베딩 생성함!\n",
            "2300개 임베딩 생성함!\n",
            "2350개 임베딩 생성함!\n",
            "2400개 임베딩 생성함!\n",
            "2450개 임베딩 생성함!\n",
            "2500개 임베딩 생성함!\n",
            "2550개 임베딩 생성함!\n",
            "2600개 임베딩 생성함!\n",
            "2650개 임베딩 생성함!\n",
            "2700개 임베딩 생성함!\n",
            "2750개 임베딩 생성함!\n",
            "2800개 임베딩 생성함!\n",
            "2850개 임베딩 생성함!\n",
            "2900개 임베딩 생성함!\n",
            "2950개 임베딩 생성함!\n",
            "3000개 임베딩 생성함!\n",
            "3050개 임베딩 생성함!\n",
            "3100개 임베딩 생성함!\n",
            "3150개 임베딩 생성함!\n",
            "3200개 임베딩 생성함!\n",
            "3250개 임베딩 생성함!\n",
            "3300개 임베딩 생성함!\n",
            "3350개 임베딩 생성함!\n",
            "3400개 임베딩 생성함!\n",
            "3450개 임베딩 생성함!\n",
            "3500개 임베딩 생성함!\n",
            "3550개 임베딩 생성함!\n",
            "3600개 임베딩 생성함!\n",
            "3650개 임베딩 생성함!\n",
            "3700개 임베딩 생성함!\n",
            "3750개 임베딩 생성함!\n",
            "3800개 임베딩 생성함!\n",
            "3850개 임베딩 생성함!\n",
            "3875개 임베딩 생성함!\n",
            "ChromaDB에 청크 저장 중...\n",
            "50개 저장됨!\n",
            "100개 저장됨!\n",
            "150개 저장됨!\n",
            "200개 저장됨!\n",
            "250개 저장됨!\n",
            "300개 저장됨!\n",
            "350개 저장됨!\n",
            "400개 저장됨!\n",
            "450개 저장됨!\n",
            "500개 저장됨!\n",
            "550개 저장됨!\n",
            "600개 저장됨!\n",
            "650개 저장됨!\n",
            "700개 저장됨!\n",
            "750개 저장됨!\n",
            "800개 저장됨!\n",
            "850개 저장됨!\n",
            "900개 저장됨!\n",
            "950개 저장됨!\n",
            "1000개 저장됨!\n",
            "1050개 저장됨!\n",
            "1100개 저장됨!\n",
            "1150개 저장됨!\n",
            "1200개 저장됨!\n",
            "1250개 저장됨!\n",
            "1300개 저장됨!\n",
            "1350개 저장됨!\n",
            "1400개 저장됨!\n",
            "1450개 저장됨!\n",
            "1500개 저장됨!\n",
            "1550개 저장됨!\n",
            "1600개 저장됨!\n",
            "1650개 저장됨!\n",
            "1700개 저장됨!\n",
            "1750개 저장됨!\n",
            "1800개 저장됨!\n",
            "1850개 저장됨!\n",
            "1900개 저장됨!\n",
            "1950개 저장됨!\n",
            "2000개 저장됨!\n",
            "2050개 저장됨!\n",
            "2100개 저장됨!\n",
            "2150개 저장됨!\n",
            "2200개 저장됨!\n",
            "2250개 저장됨!\n",
            "2300개 저장됨!\n",
            "2350개 저장됨!\n",
            "2400개 저장됨!\n",
            "2450개 저장됨!\n",
            "2500개 저장됨!\n",
            "2550개 저장됨!\n",
            "2600개 저장됨!\n",
            "2650개 저장됨!\n",
            "2700개 저장됨!\n",
            "2750개 저장됨!\n",
            "2800개 저장됨!\n",
            "2850개 저장됨!\n",
            "2900개 저장됨!\n",
            "2950개 저장됨!\n",
            "3000개 저장됨!\n",
            "3050개 저장됨!\n",
            "3100개 저장됨!\n",
            "3150개 저장됨!\n",
            "3200개 저장됨!\n",
            "3250개 저장됨!\n",
            "3300개 저장됨!\n",
            "3350개 저장됨!\n",
            "3400개 저장됨!\n",
            "3450개 저장됨!\n",
            "3500개 저장됨!\n",
            "3550개 저장됨!\n",
            "3600개 저장됨!\n",
            "3650개 저장됨!\n",
            "3700개 저장됨!\n",
            "3750개 저장됨!\n",
            "3800개 저장됨!\n",
            "3850개 저장됨!\n",
            "3900개 저장됨!\n",
            "\n",
            "ChromaDB 데이터 적재 완료!\n"
          ]
        }
      ],
      "source": [
        "# 4. 임베딩 생성 및 ChromaDB에 청크 저장\n",
        "for i in range(0, len(chunks), batch_size):\n",
        "    try:\n",
        "        batch = chunks[i:i + batch_size]\n",
        "        res = client.embeddings.create(input=batch, model=model)\n",
        "        embs = [x.embedding for x in res.data]\n",
        "        embeddings.extend(embs)\n",
        "        print(f\"{i + len(embs)}개 임베딩 생성함!\")\n",
        "    except Exception as e:\n",
        "        print(f\"임베딩 실패: {e}\")\n",
        "        # 임베딩 실패 시 모든 진행을 멈추는 대신, 에러 메시지 출력 후 continue (다음 배치 시도)\n",
        "        # 또는 'exit()'를 사용하여 강제 종료 가능 (디버깅 목적에 따라 선택)\n",
        "        # exit()\n",
        "        print(\"임베딩 생성 중 오류 발생, 다음 단계 진행에 문제가 있을 수 있습니다.\")\n",
        "        break # 임베딩 실패 시 루프 중단\n",
        "\n",
        "if len(embeddings) != len(chunks):\n",
        "    print(\"WARNING: 임베딩 수와 청크 수가 일치하지 않습니다. 뭔가 이상합니다.\")\n",
        "    # exit() # 문제 발견 시 종료 가능\n",
        "\n",
        "print(\"ChromaDB에 청크 저장 중...\")\n",
        "# ChromaDB에 청크 저장\n",
        "for i in range(0, len(chunks), batch_size):\n",
        "    try:\n",
        "        col.add( # 'col' 변수 사용\n",
        "            documents=chunks[i:i + batch_size],\n",
        "            embeddings=embeddings[i:i + batch_size],\n",
        "            metadatas=metas[i:i + batch_size],\n",
        "            ids=ids[i:i + batch_size]\n",
        "        )\n",
        "        print(f\"{i + batch_size}개 저장됨!\")\n",
        "    except Exception as e:\n",
        "        print(f\"ChromaDB 저장 실패: {e}\")\n",
        "        # exit() # 문제 발견 시 종료 가능\n",
        "        print(\"ChromaDB 저장 중 오류 발생, 데이터가 부분적으로 저장되었을 수 있습니다.\")\n",
        "        break # 저장 실패 시 루프 중단\n",
        "\n",
        "print(\"\\nChromaDB 데이터 적재 완료!\")"
      ]
    },
    {
      "cell_type": "markdown",
      "id": "1YdwQQOT-lZC",
      "metadata": {
        "id": "1YdwQQOT-lZC"
      },
      "source": [
        "## 🧪 5. RAG 검색 시스템 성능 평가 및 SIMILARITY_THRESHOLD 최적화"
      ]
    },
    {
      "cell_type": "code",
      "execution_count": 28,
      "id": "C1wDMcxmz8kb",
      "metadata": {
        "colab": {
          "base_uri": "https://localhost:8080/"
        },
        "id": "C1wDMcxmz8kb",
        "outputId": "d3d19dd8-3ff5-4995-e63e-4e2889ad07f0"
      },
      "outputs": [
        {
          "output_type": "stream",
          "name": "stdout",
          "text": [
            "ChromaDB 컬렉션 'smartstore_faq_collection' 연결 완료 (검색용).\n"
          ]
        }
      ],
      "source": [
        "# 1.검색 테스트 및 거리 값 분석\n",
        "chroma_client_for_test = chromadb.PersistentClient(path=\"/content/drive/MyDrive/FAQ_Project/chroma_db\")\n",
        "\n",
        "try:\n",
        "    faq_collection_for_test = chroma_client_for_test.get_collection(name=COLLECTION)\n",
        "    print(f\"ChromaDB 컬렉션 '{COLLECTION}' 연결 완료 (검색용).\")\n",
        "except Exception as e:\n",
        "    print(f\"ERROR: ChromaDB 컬렉션 '{COLLECTION}'을 찾을 수 없습니다. 이전 셀에서 데이터가 제대로 적재되었는지 확인하세요.\")\n",
        "    faq_collection_for_test = None"
      ]
    },
    {
      "cell_type": "code",
      "execution_count": 29,
      "id": "EHlrqHeV0uje",
      "metadata": {
        "id": "EHlrqHeV0uje"
      },
      "outputs": [],
      "source": [
        "# 2. 테스트할 사용자 질문 리스트\n",
        "test_queries = [\n",
        "    \"주문 취소는 어떻게 하나요?\",\n",
        "    \"배송비가 얼마인가요?\",\n",
        "    \"교환 및 반품 절차 알려주세요.\",\n",
        "    \"스마트스토어 판매 수수료는 어떻게 되나요?\",\n",
        "    \"제주도 특산품에 대해 알려주세요.\", # 관련 없는 질문 예시\n",
        "    \"오늘 날씨 어때?\", # 관련 없는 질문 예시\n",
        "    \"스마트스토어 계정 정지는 왜 되나요?\",\n",
        "    \"상품 등록 방법 가이드 주세요\"\n",
        "]"
      ]
    },
    {
      "cell_type": "code",
      "execution_count": 30,
      "id": "VqcnMbq30ug3",
      "metadata": {
        "colab": {
          "base_uri": "https://localhost:8080/"
        },
        "collapsed": true,
        "id": "VqcnMbq30ug3",
        "outputId": "8adc719f-bca3-4f04-c66b-68379fb2d728"
      },
      "outputs": [
        {
          "output_type": "stream",
          "name": "stdout",
          "text": [
            "\n",
            "--- ChromaDB 검색 거리(Distance) 값 분석 ---\n",
            "\n",
            "[질문 1: '주문 취소는 어떻게 하나요?']\n",
            "  - 거리: 0.6242, 원본 질문: '주문한 상품 중 일부만 취소할 수 있나요?...', 내용: '[판매관리 > 발주(주문)확인/발송관리]에서 상품별(상품주문번호)로 취소 가능합니다.단, ...'\n",
            "  - 거리: 0.6259, 원본 질문: '취소 접수하였으나, 정상적으로 배송하고자 합니다 (온라...', 내용: '﻿구매자가 취소접수를 철회하면 이전 주문상태로 변경됩니다.구매자가 직접 취소를 철회하는 방...'\n",
            "  - 거리: 0.6270, 원본 질문: '취소해야 하는데 구매자와 연락이 되지 않습니다. 어떻게...', 내용: '주문 취소 처리 시 \"구매자에게 전할 말씀\" 항목에 취소 사유를 기재해 주시면 구매자가 직...'\n",
            "  - 거리: 0.6495, 원본 질문: '상품이 발송된 후 취소가 접수되면 어떻게 하나요? (온...', 내용: '취소요청된 주문이 이미 발송되어 취소 불가능한 상태라면 [판매관리 > 취소관리] 메뉴에서 ...'\n",
            "  - 거리: 0.6566, 원본 질문: '취소 접수된 건 발송처리는 어떻게 하나요?...', 내용: '발송전 취소요청은 발주확인 후 발송처리 전에 구매자가 '주문 취소'를 요청한 건 입니다. ...'\n",
            "  - 거리: 0.6586, 원본 질문: ''굿스플로 송장출력' 후 취소가 접수되면 어떻게 해야 ...', 내용: '굿스플로 송장출력한 경우 택배사에서 '집화'처리하면 '배송중' 상태로 변경됩니다.굿스플로 ...'\n",
            "  - 거리: 0.6658, 원본 질문: '취소 접수는 어떻게 하나요? (온라인 교육 제공)...', 내용: '판매자가 [판매관리 > 발주(주문)확인/발송관리] 메뉴에서 취소처리하면 즉시 취소완료됩니다...'\n",
            "  - 거리: 0.6673, 원본 질문: ''발송전 취소요청' 은 어떻게 해야 하나요?...', 내용: '발송전 취소요청은 발주확인 후 발송처리 전에 구매자가 '주문 취소'를 요청한 건 입니다. ...'\n",
            "  - 거리: 0.6778, 원본 질문: '★ 구매확정 내역 활용 방법...', 내용: '클릭해 주세요.3. '구매확정 후 취소처리'  팝업창에서 취소사유 및 재결제가 필요한 주문...'\n",
            "  - 거리: 0.6809, 원본 질문: '구매확정(교환완료) 후 반품을 원할 경우 어떻게 해야 ...', 내용: '후 취소처리'를 클릭해 주세요.3. '구매확정 후 취소처리'  팝업창에서 취소사유 및 재결...'\n",
            "\n",
            "[질문 2: '배송비가 얼마인가요?']\n",
            "  - 거리: 0.7358, 원본 질문: '배송비는 최대 얼마까지 입력 가능한가요?...', 내용: '배송비는 최대 10만원까지 입력 가능합니다.10만원 이상 배송비가 발생 할 경우 구매자와 ...'\n",
            "  - 거리: 0.8706, 원본 질문: '상품의 '배송' 정보는 어떻게 등록하나요?...', 내용: '배송비/지역별추가배송비 설정 가능※ 참고. 묶음그룹 상품 중에 배송비 부과상품과 무료배송상...'\n",
            "  - 거리: 0.8803, 원본 질문: '주문을 취소했는데 '취소중(취소 진행중 건 존재)' 상...', 내용: '배송비가 자동 청구됩니다.구매자로부터 반품배송비를 별도로 받았을 경우(상품에 동봉 or 송...'\n",
            "  - 거리: 0.9151, 원본 질문: '배송통계 보고서...', 내용: '배송기간 48시간 내건수\n",
            "선택된 기간에 배송이 완료된 건수 중 배송소요시간이 48시간 내인...'\n",
            "  - 거리: 0.9279, 원본 질문: '배송통계 보고서...', 내용: '배송완료건수\n",
            "선택된 기간 중 배송이 완료된 건 수 입니다.\n",
            "\n",
            " 배송완료일 준수 건수선택된 ...'\n",
            "  - 거리: 0.9376, 원본 질문: '배송상품을 다수의 친구에게 선물한 경우, 배송비는 어떻...', 내용: '배송상품을 다수의 친구에게 선물하는 경우, 선물 받는 친구 수 만큼 배송비가 부과됩니다.동...'\n",
            "  - 거리: 0.9436, 원본 질문: '초기배송비에도 수수료가 부과되나요?...', 내용: '초기배송비 OX  반품/교환배송비\n",
            " O\n",
            "X \n",
            "\n",
            "배송비 정산내역은 [정산관리 > 정산 내역 ...'\n",
            "  - 거리: 0.9493, 원본 질문: '[마케팅 이력] 타겟팅 예상수와 실제 전송대상수가 상이...', 내용: '가능 수 50건 만큼만 랜덤발송되어 '실제 전송대상자 수'는 50건으로 발송됩니다.    ...'\n",
            "  - 거리: 0.9605, 원본 질문: '배송통계 보고서...', 내용: '배송건의 경우 위 [결제/발송/배송완료]가 일어난 날짜는 각각 다를 수 있으므로,  선택된...'\n",
            "  - 거리: 0.9643, 원본 질문: '[네이버도착보장] 여러 상품을 묶어서 주문한 경우 보상...', 내용: '배송지연 보상의 기준단위는 상품 주문건으로, 상품 주문건 당 1,000원의 네이버 포인트가...'\n",
            "\n",
            "[질문 3: '교환 및 반품 절차 알려주세요.']\n",
            "  - 거리: 0.7525, 원본 질문: '교환재배송중 상태에서 반품으로 변경이 가능한가요?...', 내용: '교환재배송중 상태에서는 반품으로 변경이 불가능 합니다. 구매자 요청으로 환불(반품)이 필요...'\n",
            "  - 거리: 0.7733, 원본 질문: '★ 교환요청 건 처리 방법...', 내용: '구매자가 접수한 교환 건을 처리하는 메뉴입니다.교환 재배송처리 전, 주문 건이 교환 수거완...'\n",
            "  - 거리: 0.8224, 원본 질문: '교환 접수된 주문을 반품으로 변경하고 싶어요....', 내용: '교환으로 접수된 주문은 [판매관리 > 교환관리] 메뉴에서 해당 주문 건 선택 후 '반품으로...'\n",
            "  - 거리: 0.8296, 원본 질문: '교환할 상품을 어떻게 재배송 처리하나요? (온라인 교육...', 내용: '교환 재배송처리는 수거완료된 상태에서 [판매관리 > ​교환관리] 메뉴에서 가능합니다.※ 참...'\n",
            "  - 거리: 0.8297, 원본 질문: '교환 수거 후 기한 내 재배송 처리가 불가하면 어떻게 ...', 내용: '교환 수거완료일 3영업일 이내 '교환 재배송 처리'를 진행해 주셔야 페널티가 부과되지 않습...'\n",
            "  - 거리: 0.8519, 원본 질문: '교환 비용은 어떻게 처리하나요?...', 내용: '먼저, 교환 접수된 주문에 교환배송비 청구된 내역이 있는지 확인해 주세요. 현재 교환배송비...'\n",
            "  - 거리: 0.8523, 원본 질문: '구매자가 교환을 원할 경우, 어떻게 접수 하나요?...', 내용: ''교환재배송중' 또는 '교환완료'로 변경된 경우 교환 재접수가 불가하오니, 구매자와 협의하...'\n",
            "  - 거리: 0.8560, 원본 질문: '일별공제/환급에서 환급과 공제는 무엇인가요?...', 내용: '통해 반품/교환 상품 수거 후 차감된 배송비 내역 (수거완료일 + 1영업일째) 환급구분· ...'\n",
            "  - 거리: 0.8589, 원본 질문: '교환 비용은 어떻게 처리하나요?...', 내용: '구매자에게 전하실 말씀을 기재하고 '교환보류 설정' 버튼을 클릭해 주세요.         ...'\n",
            "  - 거리: 0.8669, 원본 질문: '★ 교환요청 건 처리 방법...', 내용: '주문 건 선택 후, 교환거부 상세사유 기재하여 거부(철회)처리 진행합니다.         ...'\n",
            "\n",
            "[질문 4: '스마트스토어 판매 수수료는 어떻게 되나요?']\n",
            "  - 거리: 0.8467, 원본 질문: '수수료는 어떤 금액 기준으로 적용 되나요?...', 내용: '스마트스토어를 통한 상품 판매로 인해 과금되는 수수료는 결제금액(상품주문번호단위) 기준으로...'\n",
            "  - 거리: 0.8512, 원본 질문: '수수료의 종류를 알고 싶어요....', 내용: '스마트스토어를 통한 상품 판매로 인해 부과되는 수수료는 2가지 종류가 있으며, 유형에 따라...'\n",
            "  - 거리: 0.8967, 원본 질문: '[원쁠딜] 어떤 상품을 제안할 수 있나요?...', 내용: '스마트스토어를 통해 네이버 쇼핑에서 판매 중인 정상 상품이면 신청 접수가 가능합니다.(수수...'\n",
            "  - 거리: 0.9174, 원본 질문: '구매자 만족도는 무엇인가요?...', 내용: '스마트스토어에서는 실제 상품을 구매한 구매자들의 평가에 의해 이루어지는 \"구매자 만족도\"를...'\n",
            "  - 거리: 0.9187, 원본 질문: '[사업자 전용] 스마트스토어 계정 추가(스토어 추가)는...', 내용: '스마트스토어 추가 개설을 원할 경우 [판매자정보 > 정보변경 신청] 메뉴 우측 '스마트스토...'\n",
            "  - 거리: 0.9255, 원본 질문: '[국내 사업자 전용] 빠른정산을 받을 경우 신용도에 영...', 내용: '스마트스토어에서 제공하는 전용 서비스로, 판매자님의 신용도에는 영향이 없습니다....'\n",
            "  - 거리: 0.9334, 원본 질문: '스마트스토어 가입 후 대행사로부터 홍보 연락을 받았습니...', 내용: '스마트스토어는 가입, 스토어 개설 시 판매자님의 정보를 임의로 외부에 제공하지 않습니다. ...'\n",
            "  - 거리: 0.9818, 원본 질문: '부가세신고할 때 매출계산은 어떻게 하나요?...', 내용: '스마트스토어 매출계산은 건별 결제금액 + 쿠폰 정산금액(네이버부담 쿠폰) + 일별 공제/환...'\n",
            "  - 거리: 0.9832, 원본 질문: '부가세신고는 어떻게 하나요?...', 내용: '수수료, 배송비를 포함하여 작성된 자료입니다.· 스마트스토어에서 발생된 모든 매출(신용카드...'\n",
            "  - 거리: 0.9860, 원본 질문: '통신판매업 폐업 신고를 했다면 어떻게 되나요?...', 내용: '스마트스토어는 정상 운영 여부를 지속적으로 모니터링하고 있습니다.만약 통신판매업이 폐업으로...'\n",
            "\n",
            "[질문 5: '제주도 특산품에 대해 알려주세요.']\n",
            "  - 거리: 1.0676, 원본 질문: '제주/도서산간지역 추가 배송비 설정은 어떻게 하나요?...', 내용: '제주/도서산간지역의 추가 배송비는 [상품관리 > 배송정보 관리] 메뉴에서 '배송비 묶음그룹...'\n",
            "  - 거리: 1.0965, 원본 질문: '전통주 판매를 하고 싶은데 위탁판매가 가능한가요?...', 내용: '전통주는 위탁판매가 불가하며, 주류 통신판매 승인서, 주류 제조 면허증을 가지고 있는 판매...'\n",
            "  - 거리: 1.1048, 원본 질문: '배송지가 제주/도서산간 지역으로 변경될 경우 배송비는 ...', 내용: '제주/도서산간 지역별 배송비는 최초 주문 시에만 부과 및 결제 가능합니다. 구매자가 일반 ...'\n",
            "  - 거리: 1.1272, 원본 질문: '제주/도서산간지역 추가 배송비 설정은 어떻게 하나요?...', 내용: '경우    3권역 : 제주/도서산간지역의 추가배송비가 상이할 경우    ※ 참고. 2,3권...'\n",
            "  - 거리: 1.1406, 원본 질문: '[고객확인제도] 소액주주가 여러명일 경우 어떻게 기재하...', 내용: '주주명부에 전부 기재가 아닌 '기타주주 또는 소액주주'로 표기 및 지분율을 적어주시면 됩니...'\n",
            "  - 거리: 1.1480, 원본 질문: '선물 주문의 지역별 추가 배송비가 발생하였습니다. 어떻...', 내용: '기본 배송비 및 제주/도서산간지역 배송비는 결제시점의 배송지를 반영하여 적용되고 있습니다....'\n",
            "  - 거리: 1.1586, 원본 질문: '반품접수 시 제주/도서산간 지역별 배송비도 자동으로 청...', 내용: '반품 접수 시 제주/도서산간 지역별 배송비는 자동 청구되지 않으므로, 기타반품비용으로 추가...'\n",
            "  - 거리: 1.1795, 원본 질문: '[네이버도착보장] 도서산간의 경우 네이버도착보장 상품은...', 내용: '네이버도착보장 상품이어도 기본 배송비 및 제주/도서산간 추가배송비 모두 자유롭게 설정 가능...'\n",
            "  - 거리: 1.1895, 원본 질문: '지역별 추가 배송비의 2권역, 3권역이 무엇인가요?...', 내용: '지역별 추가 배송비를 설정하는 경우 배송권역을 2권역, 3권역 중 선택할 수 있습니다.  ...'\n",
            "  - 거리: 1.1939, 원본 질문: '원산지 등록 기준이 어떻게 되나요?...', 내용: '상품 등록/수정 페이지 내에 [상품 주요정보 > 원산지] 등록 시에는 '원재료 원산지'를 ...'\n",
            "\n",
            "(테스트 질문이 5개를 초과하여 중단합니다.)\n"
          ]
        }
      ],
      "source": [
        "# 3. ChromaDB 검색 실행 및 거리 값 수집\n",
        "all_retrieved_distances = []\n",
        "\n",
        "print(\"\\n--- ChromaDB 검색 거리(Distance) 값 분석 ---\")\n",
        "\n",
        "if faq_collection_for_test: # 컬렉션이 제대로 연결된 경우에만 실행\n",
        "    for i, query in enumerate(test_queries):\n",
        "        # 너무 많은 쿼리로 인해 시간이 오래 걸릴 수 있으므로 5개만 테스트하도록 제한\n",
        "        if i >= 5:\n",
        "            print(f\"\\n(테스트 질문이 5개를 초과하여 중단합니다.)\")\n",
        "            break\n",
        "\n",
        "        print(f\"\\n[질문 {i+1}: '{query}']\")\n",
        "        try:\n",
        "            # 사용자 질문 임베딩 생성\n",
        "            query_embed = client.embeddings.create(input=[query], model=\"text-embedding-3-small\").data[0].embedding\n",
        "\n",
        "            # ChromaDB 쿼리 실행: 가장 유사한 10개의 청크를 가져옴\n",
        "            result = faq_collection_for_test.query(\n",
        "                query_embeddings=[query_embed],\n",
        "                n_results=10, # 충분한 결과를 보기 위해 10개로 설정\n",
        "                include=[\"documents\", \"metadatas\", \"distances\"]\n",
        "            )\n",
        "\n",
        "            # 검색 결과에서 거리, 문서, 메타데이터를 추출\n",
        "            current_query_distances = result[\"distances\"][0]\n",
        "            current_query_docs = result[\"documents\"][0]\n",
        "            current_query_metas = result[\"metadatas\"][0]\n",
        "\n",
        "            # 각 검색 결과의 상세 정보를 출력하고 거리 값을 수집\n",
        "            for j in range(len(current_query_distances)):\n",
        "                dist = current_query_distances[j]\n",
        "                doc = current_query_docs[j]\n",
        "                meta = current_query_metas[j]\n",
        "                original_question = meta.get('original_question', 'N/A')\n",
        "                print(f\"  - 거리: {dist:.4f}, 원본 질문: '{original_question[:30]}...', 내용: '{doc[:50]}...'\")\n",
        "                all_retrieved_distances.append(dist)\n",
        "\n",
        "        except Exception as e:\n",
        "            print(f\"  오류 발생: {e}. 다음 질문으로 넘어갑니다.\")\n",
        "            continue # 하나의 쿼리 실패해도 다음 쿼리 진행\n",
        "\n",
        "else:\n",
        "    print(\"FAQ 컬렉션이 연결되지 않아 검색 테스트를 PASS합니다.\")"
      ]
    },
    {
      "cell_type": "code",
      "execution_count": 31,
      "id": "f1MKlN0J7lDe",
      "metadata": {
        "colab": {
          "base_uri": "https://localhost:8080/"
        },
        "id": "f1MKlN0J7lDe",
        "outputId": "cb2d8573-ac44-4946-cb83-9214c0f12805"
      },
      "outputs": [
        {
          "output_type": "stream",
          "name": "stdout",
          "text": [
            "\n",
            "--- 검색된 거리 값 통계 ---\n",
            "count    50.000000\n",
            "mean      0.891177\n",
            "std       0.165243\n",
            "min       0.624175\n",
            "10%       0.658354\n",
            "25%       0.785536\n",
            "50%       0.888521\n",
            "75%       0.977462\n",
            "90%       1.141370\n",
            "95%       1.170127\n",
            "max       1.193858\n",
            "dtype: float64\n"
          ]
        }
      ],
      "source": [
        "# 4. 거리 값 통계 분석\n",
        "distances_series = pd.Series(all_retrieved_distances)\n",
        "print(\"\\n--- 검색된 거리 값 통계 ---\")\n",
        "print(distances_series.describe(percentiles=[.1, .25, .5, .75, .9, .95]))"
      ]
    },
    {
      "cell_type": "code",
      "execution_count": 32,
      "id": "F5_l1HFG7lF_",
      "metadata": {
        "colab": {
          "base_uri": "https://localhost:8080/",
          "height": 563
        },
        "id": "F5_l1HFG7lF_",
        "outputId": "35cdf11b-8a53-4b54-fec9-c4bc32578fa2"
      },
      "outputs": [
        {
          "output_type": "display_data",
          "data": {
            "text/plain": [
              "<Figure size 1000x600 with 1 Axes>"
            ],
            "image/png": "[encoded data removed]"
          },
          "metadata": {}
        }
      ],
      "source": [
        "# 5. 모든 검색된 거리 값의 분포 시각화\n",
        "plt.figure(figsize=(10, 6))\n",
        "sns.histplot(all_retrieved_distances, bins=30, kde=True, color='purple', edgecolor='black')\n",
        "plt.title(\"사용자 질문에 대한 검색된 청크 거리(Distance) 분포\")\n",
        "plt.xlabel(\"거리 값 (낮을수록 유사)\")\n",
        "plt.ylabel(\"개수\")\n",
        "plt.grid(True)\n",
        "plt.show()"
      ]
    },
    {
      "cell_type": "markdown",
      "id": "zG55nVCv_0YP",
      "metadata": {
        "id": "zG55nVCv_0YP"
      },
      "source": [
        "#### 🔎 인사이트/결과:\n",
        "```\n",
        "--- 검색된 거리 값 통계 ---\n",
        "count    50.000000\n",
        "mean      0.890020\n",
        "std       0.163749\n",
        "min       0.624038\n",
        "10%       0.658225\n",
        "25%       0.786519\n",
        "50%       0.888514\n",
        "75%       0.977147\n",
        "90%       1.128881\n",
        "95%       1.164577\n",
        "max       1.193862\n",
        "dtype: float64\n",
        "```\n",
        "📌 거리 값의 의미 확인\n",
        "- ChromaDB에서 반환하는 distances 값은 **코사인 거리(Cosine Distance)**\n",
        "- 즉, 0에 가까울수록 의미론적으로 매우 유사\n",
        "- 값이 커질수록 유사도가 낮아져 2에 가까워질수록 완전히 비유사함을 의미\n",
        "\n",
        "📌 평균 및 중앙값\n",
        "- 검색된 거리의 평균(mean)이 약 0.89이고 중앙값(50%)이 약 0.88\n",
        "- 대부분의 검색 결과가 1.0 미만의 값을 가짐\n",
        "➡️ 해당 청크들이 질문과 높은 유사성을 가지고 있다\n",
        "\n",
        "📌 상위 90% 이상의 분포\n",
        "- 상위 10%에 해당하는 거리 값은 1.1을 넘어섬\n",
        "➡️ 해당 청크들이 질문과 의미론적으로 거리가 멀다\n",
        "\n",
        "📌 임계값이 너무 낮은 경우(예: 0.8 미만) ➡️ 챗봇의 **커버리지(Coverage)**를 저하\n",
        "- 평균보다 훨씬 낮은 값을 설정하면 매우 유사한 정보만 포함\n",
        "- LLM이 답변할 수 있는 범위가 좁아지거나\n",
        "- 애매모호하게 다른 질문에는 답변하지 못할 위험이 있음\n",
        "\n",
        "📌 임계값이 너무 높은 경우(예: 1.2 이상) ➡️ 챗봇의 **정확도(Accuracy)** 저하\n",
        "- 관련성이 낮은 청크까지 LLM에 전달함\n",
        "- LLM이 잘못된 정보를 기반으로 답변을 생성하거나 (환각, Hallucination)\n",
        "- '해당 내용은 FAQ에서 찾을 수 없습니다.'와 같은 적절한 안내를 제공하지 못할 위험"
      ]
    },
    {
      "cell_type": "markdown",
      "id": "US2IKvU6EXPF",
      "metadata": {
        "id": "US2IKvU6EXPF"
      },
      "source": [
        "## ✅ 6.최종 SIMILARITY_THRESHOLD를 1.1로 결정\n",
        "📌 **90% 지점(1.128881)과 95% 지점(1.164577)**을 고려\n",
        "- 1.1이라는 임계값은 대부분의 유효하고 관련성 높은 청크를 포함하면서도\n",
        "- 질문과 **유사성이 현저히 떨어지는 청크들(상위 약 10% 내외)**을 효과적으로 필터링할 수 있는 경계선으로 판단\n",
        "\n",
        "📌 검색 정확도와 답변 커버리지 사이의 합리적인 균형점을 찾는 데 1.1이 최적이라고 결론\n",
        "- 이 임계값은 챗봇이 다양한 사용자 질문에 대해 적절한 수준의 커버리지를 유지, 불필요하거나 오해의 소지가 있는 정보의 유입을 최소화"
      ]
    },
    {
      "cell_type": "markdown",
      "id": "404ed005",
      "metadata": {
        "id": "404ed005"
      },
      "source": [
        "## 📝 다음 단계에서 고려할 개선 방향\n",
        "- Top-K 앙상블 검색 실험 예정"
      ]
    },
    {
      "cell_type": "markdown",
      "id": "oPI6196BIpDv",
      "metadata": {
        "id": "oPI6196BIpDv"
      },
      "source": [
        "### 📚 참고자료\n",
        "➡️ 텍스트 임베딩 모델(text-embedding-3-small)의 사용법 및 특징을 이해\n",
        "- OpenAI Embedding API 문서: https://platform.openai.com/docs/guides/embeddings\n",
        "\n",
        "➡️ 벡터 데이터베이스(ChromaDB)의 설정, 데이터 적재 및 검색 기능 구현에 참고\n",
        "- ChromaDB 공식: https://docs.trychroma.com/docs  \n",
        "\n",
        "➡️ 챗봇의 기본 개념과 구조를 이해하는 데 핵심적인 논문임\n",
        "- Retrieval-Augmented Generation for Knowledge-Intensive NLP Tasks(RAG 논문 (Lewis et al., 2020): https://velog.io/@tobigs-nlp/Retrieval-Augmented-Generation-for-Knowledge-Intensive-NLP-Tasks  \n",
        "\n",
        "➡️ LangChain을 활용한 RAG 파이프라인 구성 및 전반적인 챗봇 시스템 구현에 대한 실질적인 가이드를 얻음\n",
        "- RAG가 적용된 나만의 챗봇 만들기(langchain, FastAPI, streamlit): https://issul.tistory.com/448\n",
        "\n",
        "➡️ RAG 시스템의 구성 요소와 LLM 연동 전략에 대해 참고함\n",
        "- 챗봇 구축을 위한 RAG 시스템 구성 및 ChatGPT 연동 가이드: https://mori29.tistory.com/22#4.%20%ED%95%98%EC%9D%B4%ED%8D%BC%ED%8C%8C%EB%9D%BC%EB%AF%B8%ED%84%B0%20%ED%8A%9C%EB%8B%9D-1-21\n",
        "\n",
        "➡️ LangChain을 활용한 RAG 구현 예시를 참고함\n",
        "- RAG+LangChain : https://health-coding.tistory.com/93\n"
      ]
    },
    {
      "cell_type": "markdown",
      "source": [
        "# 🧪 Top-K 앙상블 검색 실험 및 평가\n",
        "이 섹션에서는 FAQ 챗봇의 검색 정확도와 관련성을 향상시키기 위해 Top-K 앙상블 검색을 구현하고 평가합니다.\n",
        "\n",
        "기존의 단일 벡터 검색 방식에 **키워드 검색(BM25)**을 추가하고,   \n",
        "두 검색기의 결과를 **RRF(Reciprocal Rank Fusion) 방식**으로 융합하여 최종 검색 성능을 분석합니다."
      ],
      "metadata": {
        "id": "ADioHcz3dS4f"
      },
      "id": "ADioHcz3dS4f"
    },
    {
      "cell_type": "markdown",
      "source": [
        "## 🎯 목표\n",
        "\n",
        "\n",
        "1.   **키워드 검색기 (BM25) 구현**  \n",
        "- konlpy를 활용하여 한국어 형태소 분석 기반의 BM25 검색기 구축\n",
        "2.   **하이브리드 검색 구현**\n",
        "- 벡터 검색과 BM25 검색의 결과를 RRF 방식으로 융합하는 함수구현\n",
        "3.   **검색 결과 평가**\n",
        "- RRF 기반의 앙상블 검색이 단일 벡터 검색보다 얼마나 향상되었는지\n",
        "- 특히 관련성 낮은 문서 노출 문제가 개선되었는지 정량적/정성적으로 평가\n",
        "  "
      ],
      "metadata": {
        "id": "h5J-_1KjdS1w"
      },
      "id": "h5J-_1KjdS1w"
    },
    {
      "cell_type": "markdown",
      "source": [
        "## 🛠️ 솔루션 개요\n",
        "1.   **BM25 라이브러리 설치**: konlpy와 rank_bm25를 설치\n",
        "2.   **BM25 모델 생성**: 클린된 FAQ 답변(chunks)을 형태소 분석하여 BM25 모델 생성\n",
        "3.   **RRF 기반 하이브리드 검색 함수 구현**\n",
        "- 벡터 검색과 BM25 검색을 각각 수행\n",
        "- 각 검색기의 순위(Rank)를 활용하여 RRF 점수 계산\n",
        "- 최종 문서를 선정하는 hybrid_search_rrf 함수 정의\n",
        "➡️ 이때, BM25 결과의 메타데이터 매핑을 청킹 단계에서 저장된 정보 활용\n",
        "4.   **성능 비교 및 인사이트 도출**\n",
        "- 정의된 테스트 질문에 대해 단일 벡터 검색과 하이브리드 RRF 검색을 모두 실행하여 결과 비교\n",
        "- 어떤 방식이 더 효과적인지 분석"
      ],
      "metadata": {
        "id": "PEKd9ZD2dsEX"
      },
      "id": "PEKd9ZD2dsEX"
    },
    {
      "cell_type": "code",
      "source": [
        "# 라이브러리 설치\n",
        "!pip install konlpy rank_bm25"
      ],
      "metadata": {
        "colab": {
          "base_uri": "https://localhost:8080/"
        },
        "id": "r0wIhrcOdOS9",
        "outputId": "5de277c3-0841-42c2-a6b2-f3875bf640cf"
      },
      "id": "r0wIhrcOdOS9",
      "execution_count": 63,
      "outputs": [
        {
          "output_type": "stream",
          "name": "stdout",
          "text": [
            "Requirement already satisfied: konlpy in /usr/local/lib/python3.11/dist-packages (0.6.0)\n",
            "Requirement already satisfied: rank_bm25 in /usr/local/lib/python3.11/dist-packages (0.2.2)\n",
            "Requirement already satisfied: JPype1>=0.7.0 in /usr/local/lib/python3.11/dist-packages (from konlpy) (1.5.2)\n",
            "Requirement already satisfied: lxml>=4.1.0 in /usr/local/lib/python3.11/dist-packages (from konlpy) (5.4.0)\n",
            "Requirement already satisfied: numpy>=1.6 in /usr/local/lib/python3.11/dist-packages (from konlpy) (2.0.2)\n",
            "Requirement already satisfied: packaging in /usr/local/lib/python3.11/dist-packages (from JPype1>=0.7.0->konlpy) (24.2)\n"
          ]
        }
      ]
    },
    {
      "cell_type": "markdown",
      "source": [
        "## 🧹 BM25 모델 생성 및 데이터 전처리\n",
        "- BM25는 텍스트의 형태소 분석을 기반으로 하므로,\n",
        "- konlpy의 Okt 형태소 분석기를 사용하여 청크 데이터를 토큰화하고 BM25 모델을 생성"
      ],
      "metadata": {
        "id": "hWyJm9NyfPOu"
      },
      "id": "hWyJm9NyfPOu"
    },
    {
      "cell_type": "code",
      "source": [
        "from konlpy.tag import Okt\n",
        "from rank_bm25 import BM25Okapi"
      ],
      "metadata": {
        "id": "M47X0j5TfJ2z"
      },
      "id": "M47X0j5TfJ2z",
      "execution_count": 64,
      "outputs": []
    },
    {
      "cell_type": "code",
      "source": [
        "# Okt 형태소 분석기 초기화\n",
        "okt = Okt()\n",
        "\n",
        "# BM25 모델을 위해, 이미 청킹된 chunks 리스트를 직접 사용\n",
        "# corpus는 실제 문서 내용 (chunks)\n",
        "corpus = chunks # 기존의 chunks 변수를 corpus로 사용\n",
        "\n",
        "# 각 청크(문서)를 형태소 단위로 토큰화\n",
        "tokenized_corpus = [okt.morphs(doc) for doc in corpus]\n",
        "\n",
        "# BM25 모델 생성\n",
        "bm25 = BM25Okapi(tokenized_corpus)\n",
        "\n",
        "print(f\"BM25 모델 생성 완료. 총 {len(tokenized_corpus)}개의 문서 토큰화 완료.\")"
      ],
      "metadata": {
        "colab": {
          "base_uri": "https://localhost:8080/"
        },
        "id": "UVNfdmfRfO14",
        "outputId": "16db1c54-1e40-4fa8-c186-2983e364759a"
      },
      "id": "UVNfdmfRfO14",
      "execution_count": 65,
      "outputs": [
        {
          "output_type": "stream",
          "name": "stdout",
          "text": [
            "BM25 모델 생성 완료. 총 3875개의 문서 토큰화 완료.\n"
          ]
        }
      ]
    },
    {
      "cell_type": "markdown",
      "source": [
        "👀 코드정리\n",
        "\n",
        "❓ okt = Okt()\n",
        "- 한국어 형태소 분석을 위한 Okt 객체를 초기화\n",
        "\n",
        "❓ corpus = chunks\n",
        "- 기존 청킹 단계에서 생성된 모든 텍스트 청크 리스트인 chunks를 BM25 모델의 입력 코퍼스로 사용\n",
        "\n",
        "❓ tokenized_corpus = [okt.morphs(doc) for doc in corpus]\n",
        "- 각 청크(문서)를 형태소 단위로 토큰화하여 BM25Okapi 모델의 입력 형식에 맞춤\n",
        "\n",
        "❓ bm25 = BM25Okapi(tokenized_corpus)\n",
        "- 형태소로 토큰화된 코퍼스를 기반으로 BM25 모델 생성 ➡️ 쿼리에 대한 문서의 관련성을 점수화하는 데 사용"
      ],
      "metadata": {
        "id": "cqCIm_vlfh3g"
      },
      "id": "cqCIm_vlfh3g"
    },
    {
      "cell_type": "markdown",
      "source": [
        "## ✨ RRF 기반 하이브리드 검색 함수 정의\n",
        "- 벡터 검색과 BM25 검색의 결과를 융합하는 함수 (hybrid_search_rrf)\n",
        "- M25 검색 결과의 원본 질문 메타데이터를 청킹 단계에서 저장된 metas 정보를 활용하여 더욱 정교하게 매핑"
      ],
      "metadata": {
        "id": "bDp2GnO_gEmk"
      },
      "id": "bDp2GnO_gEmk"
    },
    {
      "cell_type": "code",
      "source": [
        "from collections import defaultdict"
      ],
      "metadata": {
        "id": "SjkK0UzngVmg"
      },
      "id": "SjkK0UzngVmg",
      "execution_count": 66,
      "outputs": []
    },
    {
      "cell_type": "code",
      "source": [
        "def hybrid_search_rrf(query, vector_collection, openai_client, bm25_model, all_chunks, all_metas, k=5, rrf_k=60):\n",
        "    \"\"\"\n",
        "    벡터 검색과 BM25 키워드 검색을 RRF(Reciprocal Rank Fusion) 방식으로 결합한 하이브리드 검색 수행\n",
        "    BM25 결과 매핑 시 청킹 단계에서 저장된 메타데이터 활용함!\n",
        "\n",
        "    Args:\n",
        "        query (str): 사용자 질문\n",
        "        vector_collection (chromadb.api.models.Collection.Collection): ChromaDB 컬렉션 객체\n",
        "        openai_client (openai.OpenAI): OpenAI 클라이언트 객체\n",
        "        bm25_model (rank_bm25.BM25Okapi): BM25 모델 객체\n",
        "        all_chunks (list): 모든 텍스트 청크 리스트 (BM25 모델 생성 시 사용된 corpus)\n",
        "        all_metas (list): 모든 청크에 해당하는 메타데이터 리스트\n",
        "        k (int): 최종 반환할 문서의 개수\n",
        "        rrf_k (int): RRF 공식에 사용되는 상수 k (일반적으로 60)\n",
        "\n",
        "    Returns:\n",
        "        list: 관련성 높은 문서들의 리스트 (원본 질문, 내용, RRF 점수 포함)\n",
        "    \"\"\"\n",
        "    # 1. 벡터 검색 수행\n",
        "    query_embed = openai_client.embeddings.create(\n",
        "        input=[query], model=\"text-embedding-3-small\"\n",
        "    ).data[0].embedding\n",
        "\n",
        "    vector_results = vector_collection.query(\n",
        "        query_embeddings=[query_embed],\n",
        "        n_results=k * 5,  # RRF를 위해 충분히 많은 문서 가져오기 (k * 5 또는 그 이상)\n",
        "        include=[\"documents\", \"metadatas\", \"distances\"]\n",
        "    )\n",
        "\n",
        "    # 벡터 검색 결과의 순위를 저장\n",
        "    # { (원본 질문 + \"|||\" + 문서 내용): 순위 } 형태로 저장\n",
        "    vector_rank_map = {}\n",
        "    for i in range(len(vector_results[\"documents\"][0])):\n",
        "        doc = vector_results[\"documents\"][0][i]\n",
        "        meta = vector_results[\"metadatas\"][0][i]\n",
        "        key = meta[\"original_question\"] + \"|||\" + doc\n",
        "        if key not in vector_rank_map:\n",
        "            vector_rank_map[key] = i + 1  # 순위는 1부터 시작\n",
        "\n",
        "    # 2. BM25 키워드 검색 수행\n",
        "    tokenized_query = okt.morphs(query)\n",
        "    bm25_scores = bm25_model.get_scores(tokenized_query)\n",
        "\n",
        "    bm25_results_with_info = []\n",
        "    # bm25_scores의 인덱스가 all_chunks의 인덱스와 동일하므로 직접 메타데이터에 접근\n",
        "    for i, score in enumerate(bm25_scores):\n",
        "        if score > 0: # 점수가 0보다 큰 문서만 고려\n",
        "            doc_content = all_chunks[i] # 해당 인덱스의 청크 내용\n",
        "            doc_meta = all_metas[i]     # 해당 인덱스의 메타데이터\n",
        "            original_q = doc_meta.get(\"original_question\", \"알 수 없는 질문\") # 메타데이터에서 원본 질문 가져오기\n",
        "\n",
        "            bm25_results_with_info.append({\"original_question\": original_q, \"content\": doc_content, \"score\": score})\n",
        "\n",
        "    # BM25 점수가 높은 순으로 정렬하여 순위 부여\n",
        "    bm25_results_with_info.sort(key=lambda x: x[\"score\"], reverse=True)\n",
        "\n",
        "    # BM25 검색 결과의 순위를 저장\n",
        "    bm25_rank_map = {}\n",
        "    for i, doc_info in enumerate(bm25_results_with_info):\n",
        "        key = doc_info[\"original_question\"] + \"|||\" + doc_info[\"content\"]\n",
        "        if key not in bm25_rank_map:\n",
        "            bm25_rank_map[key] = i + 1 # 순위는 1부터 시작\n",
        "\n",
        "\n",
        "    # 3. RRF(Reciprocal Rank Fusion) 적용\n",
        "    fused_scores = defaultdict(float) # 문서별 최종 RRF 점수\n",
        "\n",
        "    # 벡터 검색 결과 RRF 점수 계산\n",
        "    for key, rank in vector_rank_map.items():\n",
        "        fused_scores[key] += 1.0 / (rrf_k + rank)\n",
        "\n",
        "    # BM25 검색 결과 RRF 점수 계산\n",
        "    for key, rank in bm25_rank_map.items():\n",
        "        fused_scores[key] += 1.0 / (rrf_k + rank)\n",
        "\n",
        "    # 최종 RRF 점수를 기준으로 문서 정렬\n",
        "    final_results = []\n",
        "    for key, score in fused_scores.items():\n",
        "        original_q, doc_content = key.split(\"|||\", 1)\n",
        "        final_results.append({\n",
        "            \"original_question\": original_q,\n",
        "            \"content\": doc_content,\n",
        "            \"score\": score\n",
        "        })\n",
        "\n",
        "    # 최종 RRF 점수가 높은 순으로 정렬\n",
        "    sorted_fused_results = sorted(final_results, key=lambda x: x[\"score\"], reverse=True)\n",
        "\n",
        "    return sorted_fused_results[:k]"
      ],
      "metadata": {
        "id": "iAqxC2IBdOQL"
      },
      "id": "iAqxC2IBdOQL",
      "execution_count": 67,
      "outputs": []
    },
    {
      "cell_type": "markdown",
      "source": [
        "👀 코드 정리\n",
        "\n",
        "❓ RRF 원리\n",
        "- RRF는 각 검색기에서 반환된 문서의 순위에 기반하여 최종 점수를 계산하는 융합 기법   \n",
        "  ➡️ 각 검색기의 점수 스케일이 다르더라도 효과적으로 융합할 수 있도록\n",
        "- 공식: $\\text{score} = \\sum_{\\text{r} \\in \\text{R}} \\frac{1}{\\text{rrf_k} + \\text{rank}_r}$   \n",
        "(여기서 rrf_k는 조정 상수, rank_r은 해당 검색기에서의 순위)\n",
        "\n",
        "❓ n_results 증가\n",
        "- RRF는 충분히 많은 문서를 각 검색기에서 가져와야 융합 효과가 극대화되므로\n",
        "- k * 5 (최종 k개의 5배)를 가져오도록 설정함\n",
        "\n",
        "❓ 메타데이터 활용\n",
        "- BM25 검색 결과를 처리할 때, all_chunks와 all_metas 리스트의 인덱스를 직접 활용 해당 청크의 original_question을 가져옴  \n",
        "  ➡️ 불필요한 원본 답변 탐색 루프를 제거하고 매핑 정확도를 높이기 위해\n",
        "\n",
        "❓ BM25 점수 0 필터링\n",
        "- bm25_scores가 0인 문서는 관련성이 없다고 판단\n",
        "- RRF 점수 계산에 포함하지 않도록 if score > 0: 조건 추가"
      ],
      "metadata": {
        "id": "PpQu51v4gw1Q"
      },
      "id": "PpQu51v4gw1Q"
    },
    {
      "cell_type": "code",
      "source": [
        "# 2. 테스트할 사용자 질문 리스트\n",
        "# test_queries = [\n",
        "#     \"주문 취소는 어떻게 하나요?\",\n",
        "#     \"배송비가 얼마인가요?\",\n",
        "#     \"교환 및 반품 절차 알려주세요.\",\n",
        "#     \"스마트스토어 판매 수수료는 어떻게 되나요?\",\n",
        "#     \"제주도 특산품에 대해 알려주세요.\", # 관련 없는 질문 예시\n",
        "#     \"오늘 날씨 어때?\", # 관련 없는 질문 예시\n",
        "#     \"스마트스토어 계정 정지는 왜 되나요?\",\n",
        "#     \"상품 등록 방법 가이드 주세요\"\n",
        "# ]"
      ],
      "metadata": {
        "id": "p6alTYMXh1LW"
      },
      "id": "p6alTYMXh1LW",
      "execution_count": null,
      "outputs": []
    },
    {
      "cell_type": "markdown",
      "source": [
        "##  📜 검색 결과 평가 및 비교\n",
        "- 단일 벡터 검색과 RRF 기반 하이브리드 검색의 성능을 비교\n",
        "- 동일한 테스트 질문에 대해 두 가지 검색 방식을 모두 실행\n"
      ],
      "metadata": {
        "id": "lk6M5VpxqFCp"
      },
      "id": "lk6M5VpxqFCp"
    },
    {
      "cell_type": "code",
      "source": [
        "# ChromaDB 컬렉션 연결 확인 (재사용)\n",
        "try:\n",
        "    print(f\"ChromaDB 컬렉션 '{COLLECTION}' 연결 확인 (검색용).\")\n",
        "except Exception as e:\n",
        "    print(f\"ERROR: ChromaDB 컬렉션 '{COLLECTION}'을 찾을 수 없습니다.\")\n",
        "    faq_collection_for_test = None\n",
        "\n",
        "# test_queries 변수는 이미 위에서 정의되어 있으므로 다시 정의할 필요 없음\n",
        "\n",
        "\n",
        "print(\"\\n--- Top-K 앙상블 검색 (하이브리드 검색 - RRF + 메타데이터 매핑 개선) 결과 ---\")\n",
        "if faq_collection_for_test:\n",
        "    for i, query in enumerate(test_queries):\n",
        "        if i >= 5:  # 5개 질문만 테스트\n",
        "            break\n",
        "        print(f\"\\n[질문 {i+1}: '{query}']\")\n",
        "\n",
        "        # 단일 벡터 검색 (기존 방식)\n",
        "        print(\"  <단일 벡터 검색>\")\n",
        "        vector_only_results = faq_collection_for_test.query(\n",
        "            query_embeddings=[client.embeddings.create(input=[query], model=\"text-embedding-3-small\").data[0].embedding],\n",
        "            n_results=3,  # 상위 3개만 비교\n",
        "            include=[\"documents\", \"metadatas\", \"distances\"]\n",
        "        )\n",
        "        for j in range(len(vector_only_results[\"distances\"][0])):\n",
        "            dist = vector_only_results[\"distances\"][0][j]\n",
        "            doc = vector_only_results[\"documents\"][0][j]\n",
        "            meta = vector_only_results[\"metadatas\"][0][j]\n",
        "            original_question = meta.get('original_question', 'N/A')\n",
        "            print(f\"    - 거리: {dist:.4f}, 원본 질문: '{original_question[:30]}...', 내용: '{doc[:50]}...'\")\n",
        "\n",
        "        # 하이브리드 검색 (앙상블 검색 - RRF + 메타데이터 매핑 개선 적용)\n",
        "        hybrid_top_docs_rrf = hybrid_search_rrf(query, faq_collection_for_test, client, bm25, chunks, metas, k=3, rrf_k=60)\n",
        "\n",
        "        print(\"  <하이브리드 검색 (RRF + 메타데이터 매핑 개선)>\")\n",
        "        for doc_info in hybrid_top_docs_rrf:\n",
        "            print(f\"    - 점수: {doc_info['score']:.4f}, 원본 질문: '{doc_info['original_question'][:30]}...', 내용: '{doc_info['content'][:50]}...'\")"
      ],
      "metadata": {
        "colab": {
          "base_uri": "https://localhost:8080/"
        },
        "id": "bnz7GK5kdONf",
        "outputId": "fa848326-41af-47ea-91b9-61a8018e5230"
      },
      "id": "bnz7GK5kdONf",
      "execution_count": 68,
      "outputs": [
        {
          "output_type": "stream",
          "name": "stdout",
          "text": [
            "ChromaDB 컬렉션 'smartstore_faq_collection' 연결 확인 (검색용).\n",
            "\n",
            "--- Top-K 앙상블 검색 (하이브리드 검색 - RRF + 메타데이터 매핑 개선) 결과 ---\n",
            "\n",
            "[질문 1: '주문 취소는 어떻게 하나요?']\n",
            "  <단일 벡터 검색>\n",
            "    - 거리: 0.6240, 원본 질문: '주문한 상품 중 일부만 취소할 수 있나요?...', 내용: '[판매관리 > 발주(주문)확인/발송관리]에서 상품별(상품주문번호)로 취소 가능합니다.단, ...'\n",
            "    - 거리: 0.6256, 원본 질문: '취소 접수하였으나, 정상적으로 배송하고자 합니다 (온라...', 내용: '﻿구매자가 취소접수를 철회하면 이전 주문상태로 변경됩니다.구매자가 직접 취소를 철회하는 방...'\n",
            "    - 거리: 0.6268, 원본 질문: '취소해야 하는데 구매자와 연락이 되지 않습니다. 어떻게...', 내용: '주문 취소 처리 시 \"구매자에게 전할 말씀\" 항목에 취소 사유를 기재해 주시면 구매자가 직...'\n",
            "  <하이브리드 검색 (RRF + 메타데이터 매핑 개선)>\n",
            "    - 점수: 0.0257, 원본 질문: '주문한 상품 중 일부만 취소할 수 있나요?...', 내용: '[판매관리 > 발주(주문)확인/발송관리]에서 상품별(상품주문번호)로 취소 가능합니다.단, ...'\n",
            "    - 점수: 0.0244, 원본 질문: '취소 접수하였으나, 정상적으로 배송하고자 합니다 (온라...', 내용: '﻿구매자가 취소접수를 철회하면 이전 주문상태로 변경됩니다.구매자가 직접 취소를 철회하는 방...'\n",
            "    - 점수: 0.0240, 원본 질문: '취소 접수된 건 발송처리는 어떻게 하나요?...', 내용: '발송전 취소요청은 발주확인 후 발송처리 전에 구매자가 '주문 취소'를 요청한 건 입니다. ...'\n",
            "\n",
            "[질문 2: '배송비가 얼마인가요?']\n",
            "  <단일 벡터 검색>\n",
            "    - 거리: 0.7358, 원본 질문: '배송비는 최대 얼마까지 입력 가능한가요?...', 내용: '배송비는 최대 10만원까지 입력 가능합니다.10만원 이상 배송비가 발생 할 경우 구매자와 ...'\n",
            "    - 거리: 0.8706, 원본 질문: '상품의 '배송' 정보는 어떻게 등록하나요?...', 내용: '배송비/지역별추가배송비 설정 가능※ 참고. 묶음그룹 상품 중에 배송비 부과상품과 무료배송상...'\n",
            "    - 거리: 0.8803, 원본 질문: '주문을 취소했는데 '취소중(취소 진행중 건 존재)' 상...', 내용: '배송비가 자동 청구됩니다.구매자로부터 반품배송비를 별도로 받았을 경우(상품에 동봉 or 송...'\n",
            "  <하이브리드 검색 (RRF + 메타데이터 매핑 개선)>\n",
            "    - 점수: 0.0268, 원본 질문: '상품의 '배송' 정보는 어떻게 등록하나요?...', 내용: '배송비/지역별추가배송비 설정 가능※ 참고. 묶음그룹 상품 중에 배송비 부과상품과 무료배송상...'\n",
            "    - 점수: 0.0267, 원본 질문: '배송비는 최대 얼마까지 입력 가능한가요?...', 내용: '배송비는 최대 10만원까지 입력 가능합니다.10만원 이상 배송비가 발생 할 경우 구매자와 ...'\n",
            "    - 점수: 0.0263, 원본 질문: '배송상품을 다수의 친구에게 선물한 경우, 배송비는 어떻...', 내용: '배송상품을 다수의 친구에게 선물하는 경우, 선물 받는 친구 수 만큼 배송비가 부과됩니다.동...'\n",
            "\n",
            "[질문 3: '교환 및 반품 절차 알려주세요.']\n",
            "  <단일 벡터 검색>\n",
            "    - 거리: 0.7525, 원본 질문: '교환재배송중 상태에서 반품으로 변경이 가능한가요?...', 내용: '교환재배송중 상태에서는 반품으로 변경이 불가능 합니다. 구매자 요청으로 환불(반품)이 필요...'\n",
            "    - 거리: 0.7733, 원본 질문: '★ 교환요청 건 처리 방법...', 내용: '구매자가 접수한 교환 건을 처리하는 메뉴입니다.교환 재배송처리 전, 주문 건이 교환 수거완...'\n",
            "    - 거리: 0.8224, 원본 질문: '교환 접수된 주문을 반품으로 변경하고 싶어요....', 내용: '교환으로 접수된 주문은 [판매관리 > 교환관리] 메뉴에서 해당 주문 건 선택 후 '반품으로...'\n",
            "  <하이브리드 검색 (RRF + 메타데이터 매핑 개선)>\n",
            "    - 점수: 0.0318, 원본 질문: '교환재배송중 상태에서 반품으로 변경이 가능한가요?...', 내용: '교환재배송중 상태에서는 반품으로 변경이 불가능 합니다. 구매자 요청으로 환불(반품)이 필요...'\n",
            "    - 점수: 0.0308, 원본 질문: '교환 접수된 주문을 반품으로 변경하고 싶어요....', 내용: '교환으로 접수된 주문은 [판매관리 > 교환관리] 메뉴에서 해당 주문 건 선택 후 '반품으로...'\n",
            "    - 점수: 0.0290, 원본 질문: '반품 접수된 주문을 교환으로 변경하고 싶어요....', 내용: '반품접수 주문 건을 교환으로 변경을 원할 경우 판매자님께서 직접 변경이 가능합니다.단, 반...'\n",
            "\n",
            "[질문 4: '스마트스토어 판매 수수료는 어떻게 되나요?']\n",
            "  <단일 벡터 검색>\n",
            "    - 거리: 0.8467, 원본 질문: '수수료는 어떤 금액 기준으로 적용 되나요?...', 내용: '스마트스토어를 통한 상품 판매로 인해 과금되는 수수료는 결제금액(상품주문번호단위) 기준으로...'\n",
            "    - 거리: 0.8512, 원본 질문: '수수료의 종류를 알고 싶어요....', 내용: '스마트스토어를 통한 상품 판매로 인해 부과되는 수수료는 2가지 종류가 있으며, 유형에 따라...'\n",
            "    - 거리: 0.8967, 원본 질문: '[원쁠딜] 어떤 상품을 제안할 수 있나요?...', 내용: '스마트스토어를 통해 네이버 쇼핑에서 판매 중인 정상 상품이면 신청 접수가 가능합니다.(수수...'\n",
            "  <하이브리드 검색 (RRF + 메타데이터 매핑 개선)>\n",
            "    - 점수: 0.0303, 원본 질문: '[네이버쇼핑] 네이버쇼핑 입점 신청 시 필요한 서류가 ...', 내용: '스마트스토어 판매회원으로 가입 하신 회원 또는 동시 가입 하시는 경우 네이버쇼핑 입점을 위...'\n",
            "    - 점수: 0.0250, 원본 질문: '수수료의 종류를 알고 싶어요....', 내용: '스마트스토어를 통한 상품 판매로 인해 부과되는 수수료는 2가지 종류가 있으며, 유형에 따라...'\n",
            "    - 점수: 0.0247, 원본 질문: '수수료는 어떤 금액 기준으로 적용 되나요?...', 내용: '스마트스토어를 통한 상품 판매로 인해 과금되는 수수료는 결제금액(상품주문번호단위) 기준으로...'\n",
            "\n",
            "[질문 5: '제주도 특산품에 대해 알려주세요.']\n",
            "  <단일 벡터 검색>\n",
            "    - 거리: 1.0676, 원본 질문: '제주/도서산간지역 추가 배송비 설정은 어떻게 하나요?...', 내용: '제주/도서산간지역의 추가 배송비는 [상품관리 > 배송정보 관리] 메뉴에서 '배송비 묶음그룹...'\n",
            "    - 거리: 1.0965, 원본 질문: '전통주 판매를 하고 싶은데 위탁판매가 가능한가요?...', 내용: '전통주는 위탁판매가 불가하며, 주류 통신판매 승인서, 주류 제조 면허증을 가지고 있는 판매...'\n",
            "    - 거리: 1.1048, 원본 질문: '배송지가 제주/도서산간 지역으로 변경될 경우 배송비는 ...', 내용: '제주/도서산간 지역별 배송비는 최초 주문 시에만 부과 및 결제 가능합니다. 구매자가 일반 ...'\n",
            "  <하이브리드 검색 (RRF + 메타데이터 매핑 개선)>\n",
            "    - 점수: 0.0253, 원본 질문: '전통주 판매를 하고 싶은데 위탁판매가 가능한가요?...', 내용: '전통주는 위탁판매가 불가하며, 주류 통신판매 승인서, 주류 제조 면허증을 가지고 있는 판매...'\n",
            "    - 점수: 0.0231, 원본 질문: '제주/도서산간지역 추가 배송비 설정은 어떻게 하나요?...', 내용: '경우    3권역 : 제주/도서산간지역의 추가배송비가 상이할 경우    ※ 참고. 2,3권...'\n",
            "    - 점수: 0.0184, 원본 질문: '지역별 추가 배송비의 2권역, 3권역이 무엇인가요?...', 내용: '지역별 추가 배송비를 설정하는 경우 배송권역을 2권역, 3권역 중 선택할 수 있습니다.  ...'\n"
          ]
        }
      ]
    },
    {
      "cell_type": "markdown",
      "source": [
        "#### 🔎 인사이트/결과\n",
        "\n",
        "📌 RRF (Reciprocal Rank Fusion)와 메타데이터 매핑 개선의 시너지 효과\n",
        "1. **검색 정확도 및 관련성 향상**\n",
        "- RRF를 적용하고 BM25 검색 결과를 chunks 리스트의 메타데이터와 직접 연결하여 원본 질문을 매핑하는 방식을 개선한 결과, 하이브리드 검색의 성능이 이전 단순 가중합 방식에 비해 크게 향상되었음\n",
        "- 특히 BM25로 인한 '노이즈'성 문서들의 상위 노출이 효과적으로 줄어들고, 질문의 핵심 의도에 부합하는 문서들이 더 높은 순위로 올라옴\n",
        "\n",
        "2. **강화된 검색 안정성**\n",
        "- 하이브리드 검색은 이제 단일 벡터 검색과 비교하여 거의 동등하거나, 특정 상황(키워드 일치가 중요한 경우)에서는 더 나은 결과를 보여주는 안정적인 검색 시스템이 되었음\n",
        "- RRF는 각 검색기의 강점을 취하고 약점을 보완하는 데 효과적인 방법임을 입증함\n",
        "\n",
        "3. **효율적인 매핑**\n",
        "- BM25 검색 시 원본 질문을 찾기 위해 cleaned_faq 딕셔너리를 순회하는 비효율적인 루프를 제거하고 chunks 및 metas 리스트의 인덱스를 직접 활용  \n",
        "  ➡️ 매핑 과정의 효율성과 정확성이 향상되었음\n",
        "  \n",
        "\n",
        "📌 질문별 결과 분석\n",
        "\n",
        "1. **[질문 1: '주문 취소는 어떻게 하나요?']**\n",
        "- 하이브리드 RRF 검색은 모두 '취소' 관련 문서를 상위에 배치하여, 단일 벡터 검색과 유사한 매우 높은 정확도를 보였음  \n",
        "  ➡️ 이전의 관련 없는 문서 노출 문제가 완전히 해결되었음\n",
        "\n",
        "2. **[질문 2: '배송비가 얼마인가요?']**\n",
        "- 하이브리드 RRF 검색은 모두 '배송비'와 직접적인 관련이 있는 문서를 상위에 배치하여, 이전의 노이즈성 문서를 효과적으로 제거함\n",
        "\n",
        "\n",
        "3. **[질문 3: '교환 및 반품 절차 알려주세요.']**\n",
        "- 하이브리드 RRF 검색은 단일 벡터 검색과 마찬가지로 모두 '교환/반품 절차' 관련 문서를 정확하게 검색함  \n",
        "  ➡️ RRF가 의미론적 관련성과 키워드 일치를 효과적으로 융합했음을 보여줌\n",
        "\n",
        "4. **[질문 4: '스마트스토어 판매 수수료는 어떻게 되나요?']**\n",
        "- 하이브리드 RRF 검색은 1위 문서가 여전히 네이버쇼핑 입점 신청이나,\n",
        "- 2, 3위로 '수수료의 종류', '수수료는 어떤 금액 기준' 등 핵심 질문과 관련된 문서들을 포함시켜 이전보다 개선된 모습을 보였음\n",
        "\n",
        "5. **[질문 5: '제주도 특산품에 대해 알려주세요.']**\n",
        "- 이 질문은 데이터셋에 직접적인 답변이 없어 두 검색 방식 모두 완벽한 답변을 찾지는 못했음  \n",
        "- 하이브리드 RRF 검색은 '전통주 판매', '제주/도서산간지역 추가 배송비' 등 그나마 질문과 연관된 문서들을 상위로 가져왔으며,   \n",
        "이전의 무관한 문서 노출을 효과적으로 줄였음   ➡️ 관련 질문 추천으로 사용 가능\n",
        "\n",
        "📌 결론\n",
        "- RF와 개선된 메타데이터 매핑을 적용한 Top-K 앙상블 검색은 단일 벡터 검색의 강점(의미론적 유사성)과 BM25의 강점(키워드 일치성)을 효과적으로 융합하여, 스마트스토어 FAQ 챗봇의 검색 성능과 답변 관련성을 크게 향상시킬 수 있음을 확인함  \n",
        "  ➡️ RAG(Retrieval-Augmented Generation) 챗봇의 \"Retrieval(검색)\" 단계에서 매우 중요한 개선이라고 볼 수 있음\n",
        "\n"
      ],
      "metadata": {
        "id": "02MpuXwVh6mQ"
      },
      "id": "02MpuXwVh6mQ"
    },
    {
      "cell_type": "markdown",
      "source": [
        "## 📝 다음 단계에서 고려할 개선 방향\n",
        "- rrf_k 값 튜닝: 현재 rrf_k=60을 사용하고 있으나, 데이터셋에 최적화된 rrf_k 값을 찾기 위한 추가적인 실험을 고려해볼 수 있음\n",
        "- GPT prompt 구성 및 응답 튜닝 전략 적용: 개선된 검색 시스템을 통해 추출된 고품질의 문서를 기반으로, LLM(거대 언어 모델)이 정확하고 자연스러운 답변을 생성할 수 있도록 프롬프트 엔지니어링 전략 수립 필요\n",
        "- 다양한 도메인 FAQ 데이터셋 대응 실험: 현재의 앙상블 검색 방식이 다른 도메인의 FAQ 데이터셋에서도 효과적으로 작동하는지 검증하는 추가 실험 필요"
      ],
      "metadata": {
        "id": "aG-4HxsvkRN_"
      },
      "id": "aG-4HxsvkRN_"
    },
    {
      "cell_type": "markdown",
      "source": [
        "### 📚 참고자료\n",
        "➡️ RRF 알고리즘의 개념과 구현 원리를 이해하는데 참고함\n",
        "- Understanding Reciprocal Rank Fusion (RRF) in Retrieval-Augmented Systems:   \n",
        "https://dev.to/master-rj/understanding-reciprocal-rank-fusion-rrf-in-retrieval-augmented-systems-52kc\n",
        "\n",
        "➡️ RRF를 활용한 하이브리드 검색의 개념과 적용 사례 파악하는데 참고함\n",
        "- OpenSearch 블로그 - RRF 하이브리드 검색 소개(Introducing reciprocal rank fusion for hybrid search): https://opensearch.org/blog/introducing-reciprocal-rank-fusion-hybrid-search/  \n",
        "\n"
      ],
      "metadata": {
        "id": "pgVx_HcGmZqg"
      },
      "id": "pgVx_HcGmZqg"
    }
  ],
  "metadata": {
    "colab": {
      "provenance": []
    },
    "kernelspec": {
      "display_name": "Python 3",
      "name": "python3"
    },
    "language_info": {
      "name": "python"
    }
  },
  "nbformat": 4,
  "nbformat_minor": 5
}