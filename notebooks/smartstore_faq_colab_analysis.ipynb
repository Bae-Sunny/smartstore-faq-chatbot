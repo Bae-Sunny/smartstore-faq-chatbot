{
  "cells": [
    {
      "cell_type": "markdown",
      "id": "4d53a40d",
      "metadata": {
        "id": "4d53a40d"
      },
      "source": [
        "# 🛍️ 스마트스토어 FAQ 기반 RAG 챗봇\n",
        "\n",
        "이 노트북은 이 노트북은 스마트스토어 고객센터 FAQ 데이터를 활용해  \n",
        "**벡터 검색 기반 RAG 챗봇을 구현하고, 관련 데이터 분석 과정을 함께 정리한 문서** 입니다.\n",
        "\n",
        "- 🧠 OpenAI Embedding API + GPT API\n",
        "- 📁 FAQ 데이터 (.pkl)\n",
        "- 🔎 ChromaDB를 통한 벡터 검색\n",
        "- 🔄 LangChain 기반 RAG 파이프라인 구성"
      ]
    },
    {
      "cell_type": "code",
      "execution_count": 1,
      "id": "kTdOjDaC9sk5",
      "metadata": {
        "colab": {
          "base_uri": "https://localhost:8080/"
        },
        "id": "kTdOjDaC9sk5",
        "outputId": "2584505f-2837-4274-9839-be85d9e55bd4"
      },
      "outputs": [
        {
          "output_type": "stream",
          "name": "stdout",
          "text": [
            "Drive already mounted at /content/drive; to attempt to forcibly remount, call drive.mount(\"/content/drive\", force_remount=True).\n"
          ]
        }
      ],
      "source": [
        "# Google Drive 마운트\n",
        "from google.colab import drive\n",
        "drive.mount('/content/drive')"
      ]
    },
    {
      "cell_type": "code",
      "execution_count": 2,
      "id": "9Hdupeeu-bzI",
      "metadata": {
        "colab": {
          "base_uri": "https://localhost:8080/"
        },
        "collapsed": true,
        "id": "9Hdupeeu-bzI",
        "outputId": "90dec21f-7edf-4c98-f2fe-d6a546b63e9c"
      },
      "outputs": [
        {
          "output_type": "stream",
          "name": "stdout",
          "text": [
            "Requirement already satisfied: koreanize_matplotlib in /usr/local/lib/python3.11/dist-packages (0.1.1)\n",
            "Requirement already satisfied: matplotlib in /usr/local/lib/python3.11/dist-packages (from koreanize_matplotlib) (3.10.0)\n",
            "Requirement already satisfied: contourpy>=1.0.1 in /usr/local/lib/python3.11/dist-packages (from matplotlib->koreanize_matplotlib) (1.3.2)\n",
            "Requirement already satisfied: cycler>=0.10 in /usr/local/lib/python3.11/dist-packages (from matplotlib->koreanize_matplotlib) (0.12.1)\n",
            "Requirement already satisfied: fonttools>=4.22.0 in /usr/local/lib/python3.11/dist-packages (from matplotlib->koreanize_matplotlib) (4.58.1)\n",
            "Requirement already satisfied: kiwisolver>=1.3.1 in /usr/local/lib/python3.11/dist-packages (from matplotlib->koreanize_matplotlib) (1.4.8)\n",
            "Requirement already satisfied: numpy>=1.23 in /usr/local/lib/python3.11/dist-packages (from matplotlib->koreanize_matplotlib) (2.0.2)\n",
            "Requirement already satisfied: packaging>=20.0 in /usr/local/lib/python3.11/dist-packages (from matplotlib->koreanize_matplotlib) (24.2)\n",
            "Requirement already satisfied: pillow>=8 in /usr/local/lib/python3.11/dist-packages (from matplotlib->koreanize_matplotlib) (11.2.1)\n",
            "Requirement already satisfied: pyparsing>=2.3.1 in /usr/local/lib/python3.11/dist-packages (from matplotlib->koreanize_matplotlib) (3.2.3)\n",
            "Requirement already satisfied: python-dateutil>=2.7 in /usr/local/lib/python3.11/dist-packages (from matplotlib->koreanize_matplotlib) (2.9.0.post0)\n",
            "Requirement already satisfied: six>=1.5 in /usr/local/lib/python3.11/dist-packages (from python-dateutil>=2.7->matplotlib->koreanize_matplotlib) (1.17.0)\n",
            "Reading package lists... Done\n",
            "Building dependency tree... Done\n",
            "Reading state information... Done\n",
            "E: Unable to locate package fonts-nanum*dd\n",
            "E: Couldn't find any package by glob 'fonts-nanum*dd'\n",
            "E: Couldn't find any package by regex 'fonts-nanum*dd'\n"
          ]
        }
      ],
      "source": [
        "!pip install koreanize_matplotlib\n",
        "!fc-list | grep NanumGothic\n",
        "!apt-get install fonts-nanum*dd"
      ]
    },
    {
      "cell_type": "code",
      "execution_count": 3,
      "id": "Tv9DI-oh_KcS",
      "metadata": {
        "id": "Tv9DI-oh_KcS"
      },
      "outputs": [],
      "source": [
        "import warnings\n",
        "warnings.simplefilter(action='ignore', category=Warning)"
      ]
    },
    {
      "cell_type": "markdown",
      "id": "c69ad503",
      "metadata": {
        "id": "c69ad503"
      },
      "source": [
        "## 🧱 1.  FAQ 데이터 불러오기\n",
        "- final_result.pkl 파일 업로드\n",
        "- 딕셔너리 구조인지 확인\n",
        "- 샘플 질문/답변 3개 출력"
      ]
    },
    {
      "cell_type": "code",
      "execution_count": 4,
      "id": "JYUX0-OADD_N",
      "metadata": {
        "id": "JYUX0-OADD_N"
      },
      "outputs": [],
      "source": [
        "import pickle\n",
        "import matplotlib.pyplot as plt\n",
        "import koreanize_matplotlib\n",
        "import seaborn as sns\n",
        "import numpy as np\n",
        "import pandas as pd"
      ]
    },
    {
      "cell_type": "code",
      "execution_count": 5,
      "id": "ZgzIYiqHnMNH",
      "metadata": {
        "colab": {
          "base_uri": "https://localhost:8080/"
        },
        "id": "ZgzIYiqHnMNH",
        "outputId": "4dddfdee-198d-4da3-a74d-e2e2e15d0c8f"
      },
      "outputs": [
        {
          "output_type": "stream",
          "name": "stdout",
          "text": [
            "FAQ 데이터 로딩 완료!\n",
            "로드된 FAQ 개수: 2717\n"
          ]
        }
      ],
      "source": [
        "# 1.FAQ 데이터 로드\n",
        "try:\n",
        "    with open(\"/content/drive/MyDrive/FAQ_Project/final_result.pkl\", \"rb\") as f:\n",
        "        raw_faq_data = pickle.load(f)\n",
        "        print(\"FAQ 데이터 로딩 완료!\")\n",
        "        print(f\"로드된 FAQ 개수: {len(raw_faq_data)}\")\n",
        "except FileNotFoundError:\n",
        "    print(\"final_result.pkl 파일을 찾을 수 없습니다. 경로를 확인해주세요.\")\n",
        "except Exception as e:\n",
        "    print(f\"FAQ 로딩 실패: {e}\")\n",
        "    raw_faq_data = {}"
      ]
    },
    {
      "cell_type": "code",
      "execution_count": 6,
      "id": "rtQ_aDPsnVG_",
      "metadata": {
        "colab": {
          "base_uri": "https://localhost:8080/"
        },
        "id": "rtQ_aDPsnVG_",
        "outputId": "120d3b2c-de47-4417-8a10-30d1f8968b48"
      },
      "outputs": [
        {
          "output_type": "stream",
          "name": "stdout",
          "text": [
            "\n",
            "--- FAQ 데이터 샘플 ---\n",
            "질문: [가입절차] 스마트스토어센터 회원가입은 어떻게 하나요? (ID만들기)\n",
            "답변: 네이버 커머스 ID 하나로 스마트스토어센터와 같은 네이버의 다양한 커머스 서비스를 편리하게 이용하실 수 있습니다.네이버 커머스 ID가 없으시다면 [가입하기] 버튼을 통해 회원가입해 주세요.           1. '네이버ID' 로 네이버 커머스 ID 가입하기1) [네이버 아이디로 가입하기] 버튼을 눌러서 네이버 로그인 해 주세요.2) 연락가능한 휴대폰번호를 입력하시고 인증하신 후 개인정보 수집동의를 체크 하여 [가입] 버튼을 눌러주세요. 3) 네이버 커머스 ID 회원가입이 완료되어 해당 네이버ID 로 스마트스토어센터 서비스 가입을 하실 수 있습니다. 이 후 스마트스토어센터 로그인 시에 [네이버 아이디로 로그인] 버튼을 눌러서 네이버 로그인을 하실 수 있습니다. 2. '이메일 아이디'로 네이버 커머스 ID 가입하기 1) [이메일 아이디로 가입하기] 버튼을 눌러서 사용할 ID를 입력해 주세요.! 중요. 로그인 ID는 \"실 사용중인 이메일주소\"로 기재하셔야 합니다. (예 : abc@naver.com)2) 연락가능한 휴대폰번호와 이메일주소를 입력하시고 인증하신 후 개인정보 수집동의를 체크 하여 [가입] 버튼을 눌러주세요.3) 네이버 커머스 ID 회원가입이 완료되어 해당 이메일 아이디로 스마트스토어센터 서비스 가입을 하실 수 있습니다.이 후 스마트스토어센터 로그인 시에 해당 이메일 아이디와 비밀번호를 입력하여 로그인을 하실 수 있습니다. ※ 참고. 로그인 ID 계정 대표자와 사업자번호 대표자 동일여부는 체크하지 않습니다. (대표자가 상이해도 가입 진행 가능합니다.)             \n",
            "\n",
            "\n",
            "위 도움말이 도움이 되었나요?\n",
            "\n",
            "\n",
            "별점1점\n",
            "\n",
            "별점2점\n",
            "\n",
            "별점3점\n",
            "\n",
            "별점4점\n",
            "\n",
            "별점5점\n",
            "\n",
            "\n",
            "\n",
            "소중한 의견을 남겨주시면 보완하도록 노력하겠습니다.\n",
            "\n",
            "보내기\n",
            "\n",
            "\n",
            "\n",
            "관련 도움말/키워드\n",
            "\n",
            "스마트스토어 로그인ID(매니저)를 추가하거나 변경할 수 없나요?\n",
            "네이버 커머스 ID 전환 이후, 이전 아이디로 로그인이 불가한가요?\n",
            "네이버 커머스 ID 전환 후 로그인이 되지 않아요.\n",
            "\n",
            "\n",
            "\n",
            "도움말 닫기...\n",
            "------------------------------\n",
            "질문: [가입서류] 스마트스토어 판매자 유형별 필요한 서류가 어떻게 되나요?\n",
            "답변: 스마트스토어 판매 회원 분류는 아래와 같으며 반드시 모든 서류를 제출해 주셔야 가입이 가능합니다. 가입 서류는 가입 단계에서 업로드 가능하며, 가입 신청 시 서류 준비가 되지 않은 경우 가입 완료 후 [판매자정보 > 심사내역 조회] 메뉴에서 업로드 가능합니다.사업자 등록증의 경우 고객확인제도(AML)를 위한 최신 사업자의 정보를 확인하기 위해 최근 1년 이내 발급분으로 서류 접수받고 있습니다.   판매회원분류 가입 시 필요 서류 국내 개인일반  서류 불필요법정 미성년자(만 19세 미만) 법정대리인 인감증명서 사본 1부 (최근 3개월 이내 발급 분, 생년월일+성별 구분 제외 마스킹 필요) 가족관계증명서 사본 1부 (또는 법정대리임을 증명할 서류) 스마트스토어 법정대리인 동의서 사본 1부 (판매회원 ID 필수 기재) ※ 참고.   · 법정대리인 인감증명서 제출이 어려울 경우 법정대리인 본인서명사실확인서로 대체 가능 국내 사업자 법정 미성년자(만 19세 미만)  사업자 등록증 사본 1부 (1년 이내 발급분) 대표자(또는 사업자) 명의 통장 사본 1부  대표자 인감증명서 사본 1부 (3개월 이내 발급분, 생년월일+성별 구분 제외 마스킹 필요) 대표자(또는 사업자) 명의 통장 사본 1부 ※ 참고.  · 법정 미성년자 대표자여도 이미 사업자등록증 발급당시 법정대리인 확인 후 발급됨으로    법적대리인의 동의서류는 별도 받지 않음 · 예금주명이 대표자명 또는 사업자등록증의 상호명과 동일할 경우 통장사본 생략 가능 · 공동대표의 경우 대표 대표자가 예금주명에 있는 경우 통장 사본 생략 가능 · 대표자 본인 인감증명서 제출이 필요하며 법적대리인 인감증명서 제출로는 가입 심사 불가능 · 대표자 인감증명서는 '본인서명사실확인서' 사본으로 대체 접수 가능  · 대표자 본인명의 휴대폰 인증시 '대표자 인감증명서'제출 생략 가능 간이/개인사업자 사업자 등록증 사본 1부 (1년 이내 발급분) 대표자 인감증명서 사본 1부 (3개월 이내 발급분, 생년월일+성별 구분 제외 마스킹 필요) 대표자(또는 사업자) 명의 통장 사본 1부 ※ 참고. · 예금주명이 대표자명 또는 사업자등록증의 상호명과 동일할 경우 통장사본 생략 가능 · 공동대표의 경우 대표 대표자가 예금주명에 있는 경우 통장 사본 생략 가능 · 대표자 인감증명서는 '본인서명사실확인서' 사본으로 대체 접수 가능 법인사업자  사업자 등록증 사본 1부 (1년 이내 발급분)   법인 인감증명서 사본 1부 (3개월 이내 발급분, 생년월일+성별 구분 제외 마스킹 필요) 법인 명의 통장 사본 1부 ※ 참고. · 예금주명이 사업자등록증의 법인 명의(상호명)과 동일한 경우 통장 사본 생략 가능 · 비영리 법인인 경우 법인인감증명서 대신 가입 시 기재한 대표자의 개인인감증명서로 대체 가능 법인 지점사업자 지점 사업자 등록증 사본 1부 (1년 이내 발급분)  법인 인감증명서 사본 1부 (3개월 이내 발급분, 생년월일+성별 구분 제외 마스킹 필요) 지점 명의 통장 사본 1부 해외 사업자   대표자 여권 사본 1부  사업자등록증(미국의 경우 IRS 서류) 사본 1부  사업자 또는 법인 명의 통장(해외계좌 인증 서류 가능) 사본 1부  ※ 참고. 비영어권은 영문번역본과 함께 제출 필수  스마트스토어법정대리인 동의서 사본 1부 다운로드 받기》스마트스토어 통신판매업 신고번호 입력 기준1. 직전년도 구매확정 수 50건 이상 또는 당해년도 1월1일부터 누적 구매확정 수 50건 이상인 경우2. 부가가치세법 제2조 제4호의 간이과세자에 해당되지 않을 경우(부가가치세법 제2조 제4호)판매자유형 개인판매자 (개인판매회원)간이사업자개인사업자 (일반사업자)법인사업자  사업자 신고 기준(복수 계정인 경우 총 합) 직전년도 누적 판매금액 4,800만원 이상 또는당해년도 1월1일부터 누적 판매금액 4,400만원 이상 -통신판매업 신고번호 입력기준(복수 계정인 경우 총 합)직전년도 구매확정 수 50건 이상 또는 당해년도 1월1일부터 누적 구매확정 수 50건 이상직전년도 누적 판매 금액 8,000만원 이상 또는 당해년도 1월1일부터 판매 금액 8,000만원 이상  직전 년도 구매확정 수 50건 이상 또는 당해년도 1월1일부터 누적 구매확정 수 50건 이상 기준 초과 시 안내 사업자 전환 안내(로그인 팝업 알림/EMS 발송)통신판매업 미신고 안내(로그인 팝업 알림/EMS 발송) 매월 2일마다 안내 누적 판매금액 집계 기준(판매자등급 기준과 동일)구매확정 건의 상품주문번호 단위 결제금액 - 직권취소된 상품주문번호의 결제금액(조합형 옵션/추가 상품 금액 포함, 배송비는 판매금액에 포함되지 않음) 누적건수 집계 기준(판매자등급 기준과 동일)상품주문번호 단위 구매확정 건 - 직권취소 건 (일반 주문건만 포함되며, 추가상품/배송비는 판매건수에 포함되지 않음)※ 참고.  · 통신판매업 신고번호 입력 기준에 해당할 경우 통신판매업 신고 완료 후 진행 바랍니다. · 통신판매업신고증 발급을 위한 '구매안전서비스 이용확인증' 출력은 [판매자정보 > 판매자 정보] 메뉴 우측 상단 '구매안전서비스 이용확인증'버튼을 통해 진행 가능합니다. · 신규 가입 시 공정거래위원회에서 사업자 정보로 정상 조회가 가능한 경우 통신판매업 신고 번호 기재하여 가입이 진행됩니다.  · 페이지가 여러 장인 서류는 모든 페이지를 접수해 주셔야 하며, 발급일자가 모두 동일해야 합니다. · 사업자등록증과 동일하게 정보가 기재된 사업자등록증명으로 대체가 가능합니다. 다만, 최근 1년 이내 발급한 서류로 제출 바랍니다. · 대표자 인감증명서는 '본인서명사실확인서' 사본으로 대체 접수 가능합니다.  · 대표자 명의로 개통된 휴대전화로 본인인증을 하시면 인감증명서를 제출하지 않으셔도 됩니다.   · 미성년자 관련 서류 내 법정대리인 인감증명서 제출이 어려울 경우 법정대리인 본인서명사실확인서로 대체 가능합니다.  · 미성년자 사업자로 가입 시 본인인증 수단에서 휴대폰 본인인증으로 안했을 시 미성년자(본인)인감증명서 또는 본인서명사실확인서를 제출해야 됩니다.    다만, 미성년자 본인인감증명서 제출이 어려울 경우 사업자 가입심사 건을 취소하고 재 가입 시 '휴대폰 본인인증'으로 진행 바랍니다.  · 모든 서류 제출 후 3영업일 내 심사가 진행되며 결과는 담당자 메일로 발송됩니다.  · 해외 거주자의 서류는 영문번역본으로 제출해 주셔야 합니다.   발급기관에서 영문번역본으로 받을 경우 별도의 공증은 필요치 않으며, 만약 발급기관에서 영문번역본으로 발급이 어려운 경우 영사관 또는 공증번역기관으로부터 공증을 받은 영문번역본으로 제출해 주셔야 합니다. · 공동대표인 경우 가입 신청 시 대표자명을 모두 입력해야 하며, 각 대표자의 개인인감증명서(법인인 경우 법인인감증명서)를 모두 제출해야 합니다. · 각자대표인 경우 사업자등록증 상의 대표자가 다수여도 한 명의 대표자만 가입이 가능하며, 이때 가입서류 중 인감증명서는 가입 시 기재한 대표자의 서류(법인인 경우 법인인감증명서)만 제출 가능합니다. · 통장사본은 계좌개설확인서 또는 온라인통장표지로 대체 가능합니다.  · 스마트스토어 심사 시 서류 발급 용도에 대해서는 확인하고 있지 않습니다. \"온라인 판매 제출용\"과 같이 실제 필요한 사유에 맞게 기재하여 주시기 바랍니다.   가입 신청을 했습니다. 심사 결과는 어떻게 확인하나요?》 \n",
            "\n",
            "\n",
            "위 도움말이 도움이 되었나요?\n",
            "\n",
            "\n",
            "별점1점\n",
            "\n",
            "별점2점\n",
            "\n",
            "별점3점\n",
            "\n",
            "별점4점\n",
            "\n",
            "별점5점\n",
            "\n",
            "\n",
            "\n",
            "소중한 의견을 남겨주시면 보완하도록 노력하겠습니다.\n",
            "\n",
            "보내기\n",
            "\n",
            "\n",
            "\n",
            "관련 도움말/키워드\n",
            "\n",
            "[고객확인제도] 고객확인제도(AML) 정보 등록 시 어떤 서류를 제출해야 하나요?\n",
            "\n",
            "\n",
            "\n",
            "도움말 닫기...\n",
            "------------------------------\n",
            "질문: [심사결과] 가입 신청을 했습니다. 심사 결과는 어떻게 확인하나요?\n",
            "답변: 스마트스토어센터에 로그인하시면 \"팝업\" 또는 [판매자 정보 > 심사내역 조회] 메뉴에서 상세한 정보(제출하신 서류, 보류 사유 등)를 확인할 수 있습니다.가입 완료 전 심사 과정은 총 5개로 노출될 수 있으며, 해당하는 팝업 메시지에 따라 해결방법을 확인 해 주세요.           · 심사 중 : 현재 심사가 진행 중입니다. 영업일 기준 3일 이내에 심사가 완료됩니다. · 심사 중 (서류 미제출) : 필수 서류를 모두 제출하지 않아서 심사가 진행되지 않고 있습니다. 서류를 제출하면 바로 심사가 진행됩니다.  · 심사 중 (서류 통과) : 쇼핑윈도 노출심사 시 서류심사 승인된 상태입니다.  ※ 참고. 1차승인(서류통과) 처리가 완료되면 검수기준에 맞는 상품을 등록해 주셔야 검수가 진행되며, 최종 승인까지 진행됩니다.  · 보류 : 제출하신 서류/정보 중에 부족한 점이 발견되어 가입 심사가 보류되었습니다. 보류 사유를 확인하시고 서류 미비로 보류된 경우, 서류를 재등록하시면 심사가 다시 진행됩니다. · 거부 : 스마트스토어센터 가입이 불가능합니다. 판매자 가입이 '보류' 되었습니다. 왜그런가요?》판매자 가입이 '거부' 되었습니다. 왜그런가요?》          ※ 참고. 혹시, \"팝업\" 메시지를 확인하지 못하셨나요?· [판매자 정보 > 심사내역 조회] 메뉴에서 모든 심사 결과를 확인하실 수 있습니다.· 네이버 스마트스토어 고객센터에서는 고객센터 번호(1588-3819) 이외의 번호로는 연락드리지 않습니다. 스마트스토어 관련 내용으로 그 외 번호로 연락을 받으신 경우는 주의 부탁드립니다.  \n",
            "\n",
            "\n",
            "위 도움말이 도움이 되었나요?\n",
            "\n",
            "\n",
            "별점1점\n",
            "\n",
            "별점2점\n",
            "\n",
            "별점3점\n",
            "\n",
            "별점4점\n",
            "\n",
            "별점5점\n",
            "\n",
            "\n",
            "\n",
            "소중한 의견을 남겨주시면 보완하도록 노력하겠습니다.\n",
            "\n",
            "보내기\n",
            "\n",
            "\n",
            "\n",
            "도움말 닫기...\n",
            "------------------------------\n"
          ]
        }
      ],
      "source": [
        "# 2.데이터 구조 및 샘플 확인\n",
        "print(\"\\n--- FAQ 데이터 샘플 ---\")\n",
        "for i, (q, a) in enumerate(raw_faq_data.items()):\n",
        "    if i >= 3: # 상위 3개만 출력\n",
        "        break\n",
        "    print(f\"질문: {q}\")\n",
        "    print(f\"답변: {a}...\")\n",
        "    print(\"-\" * 30)"
      ]
    },
    {
      "cell_type": "code",
      "execution_count": 7,
      "id": "vR9ckGZ_nd1T",
      "metadata": {
        "colab": {
          "base_uri": "https://localhost:8080/"
        },
        "id": "vR9ckGZ_nd1T",
        "outputId": "9dbb68b8-252f-4b5a-f506-05a0cf682b08"
      },
      "outputs": [
        {
          "output_type": "stream",
          "name": "stdout",
          "text": [
            "\n",
            "모든 FAQ 답변이 문자열 형식입니다.\n"
          ]
        }
      ],
      "source": [
        "# 3.데이터 타입 확인 (모든 답변이 문자열인지)\n",
        "non_string_answers = {q: a for q, a in raw_faq_data.items() if not isinstance(a, str)}\n",
        "if non_string_answers:\n",
        "    print(f\"\\n문자열이 아닌 답변 {len(non_string_answers)}개 발견: {list(non_string_answers.keys())[:5]}...\")\n",
        "else:\n",
        "    print(\"\\n모든 FAQ 답변이 문자열 형식입니다.\")"
      ]
    },
    {
      "cell_type": "code",
      "execution_count": 8,
      "id": "GrOK-k1jpNkI",
      "metadata": {
        "colab": {
          "base_uri": "https://localhost:8080/",
          "height": 485
        },
        "id": "GrOK-k1jpNkI",
        "outputId": "88aeccf1-8750-48b7-d6bc-5b3fcc075261"
      },
      "outputs": [
        {
          "output_type": "display_data",
          "data": {
            "text/plain": [
              "<Figure size 1000x500 with 1 Axes>"
            ],
            "image/png": "[encoded data removed]"
          },
          "metadata": {}
        }
      ],
      "source": [
        "# 4.원본 FAQ 답변 길이 분포 시각화\n",
        "original_lengths = [len(a) for a in raw_faq_data.values() if isinstance(a, str)]\n",
        "\n",
        "plt.figure(figsize=(10, 5))\n",
        "sns.histplot(original_lengths, bins=50, kde=True)\n",
        "plt.title(\"원본 FAQ 답변 길이 분포\")\n",
        "plt.xlabel(\"답변 길이 (글자 수)\")\n",
        "plt.ylabel(\"개수\")\n",
        "plt.grid(True)\n",
        "plt.legend()\n",
        "plt.show()"
      ]
    },
    {
      "cell_type": "markdown",
      "id": "AyAwbSpcntzM",
      "metadata": {
        "id": "AyAwbSpcntzM"
      },
      "source": [
        "🔎 인사이트/결과:\n",
        "- raw_faq_data는 질문을 키로, 답변을 값으로 하는 딕셔너리 형태임을 확인\n",
        "- 일부 답변 문자열에 \"위 도움말이 도움이 되었나요?\", \"별점1점\", \"관련 도움말/키워드\" 등과 같은 불필요한 푸터나 평가 문구가 포함되어 있음을 발견\n",
        "- 이들은 실제 답변 내용이 아니므로, LLM의 학습에 방해가 되거나 답변의 불필요한 길이를 늘릴 수 있어 제거가 필요하다고 판단\n",
        "- 간혹 답변이 문자열이 아닌 경우도 있을 수 있음을 확인하고, 이에 대한 예외 처리가 필요함을 인지"
      ]
    },
    {
      "cell_type": "markdown",
      "id": "694d81e0",
      "metadata": {
        "id": "694d81e0"
      },
      "source": [
        "## 🧹 2. Footer 텍스트 전처리\n",
        "- 전처리 대상 패턴 제거\n",
        "  ➡️ FAQ 답변에서 핵심 내용만을 추출, LLM에게 정확하고 간결한 정보를 제공\n",
        "- 전처리 전후 길이 비교"
      ]
    },
    {
      "cell_type": "code",
      "execution_count": 9,
      "id": "9dURQb-goYgC",
      "metadata": {
        "id": "9dURQb-goYgC"
      },
      "outputs": [],
      "source": [
        "# 1.제거할 푸터 리스트 정의 (반복적인 패턴 파악)\n",
        "footers_to_remove = [\n",
        "    \"위 도움말이 도움이 되었나요?\", \"별점1점\", \"별점2점\", \"별점3점\", \"별점4점\", \"별점5점\",\n",
        "    \"소중한 의견을 남겨주시면 보완하도록 노력하겠습니다.\",\n",
        "    \"보내기\", \"관련 도움말/키워드\", \"도움말 닫기\"\n",
        "]"
      ]
    },
    {
      "cell_type": "code",
      "execution_count": 10,
      "id": "BIS8Vq0DoYdS",
      "metadata": {
        "id": "BIS8Vq0DoYdS"
      },
      "outputs": [],
      "source": [
        "cleaned_faq = {}\n",
        "for question, answer in raw_faq_data.items():\n",
        "    if not isinstance(answer, str): # 문자열이 아닌 경우 스킵\n",
        "        print(f\"⚠️ 경고: 질문 '{question}'의 답변이 문자열이 아닙니다. 스킵합니다.\")\n",
        "        continue\n",
        "\n",
        "    processed_answer = answer\n",
        "    # 2.각 푸터에 대해 답변을 분할하여 제거 시도\n",
        "    for footer in footers_to_remove:\n",
        "        if footer in processed_answer:\n",
        "            processed_answer = processed_answer.split(footer, 1)[0] # 첫 번째 발견된 푸터까지만 사용\n",
        "\n",
        "    # 3.추가적인 클리닝 (줄바꿈, 공백 제거)\n",
        "    processed_answer = processed_answer.strip() # 양쪽 공백 제거\n",
        "    processed_answer = processed_answer.replace(\"\\n\\n\\n\", \"\\n\\n\") # 3개 이상 연속된 줄바꿈을 2개로 축소 (가독성 유지)\n",
        "\n",
        "    cleaned_faq[question] = processed_answer"
      ]
    },
    {
      "cell_type": "markdown",
      "id": "1jgJdgdiou6x",
      "metadata": {
        "id": "1jgJdgdiou6x"
      },
      "source": [
        "👀 코드정리\n",
        "\n",
        "❓ processed_answer.split(footer, 1)[0]\n",
        "- 푸터가 답변의 끝 부분에 위치하는 패턴을 고려\n",
        "- 답변 텍스트 내에서 특정 푸터가 발견되면 해당 푸터 이전의 내용만을 유효한 답변으로 간주하고 추출\n",
        "\n",
        "❓ strip()과 replace(\"\\n\\n\\n\", \"\\n\\n\")\n",
        "- 불필요한 공백과 과도한 줄바꿈을 정리\n",
        "- 답변의 가독성을 높이고 임베딩 시 불필요한 노이즈를 줄임"
      ]
    },
    {
      "cell_type": "code",
      "execution_count": 11,
      "id": "c8I1jUP4oYa0",
      "metadata": {
        "colab": {
          "base_uri": "https://localhost:8080/"
        },
        "id": "c8I1jUP4oYa0",
        "outputId": "92bf4c02-1b13-4bfe-fc4d-83306109d3ab"
      },
      "outputs": [
        {
          "output_type": "stream",
          "name": "stdout",
          "text": [
            "\n",
            "--- 푸터 제거 후 FAQ 데이터 샘플 ---\n",
            "질문: [가입절차] 스마트스토어센터 회원가입은 어떻게 하나요? (ID만들기)\n",
            "클린된 답변: 네이버 커머스 ID 하나로 스마트스토어센터와 같은 네이버의 다양한 커머스 서비스를 편리하게 이용하실 수 있습니다.네이버 커머스 ID가 없으시다면 [가입하기] 버튼을 통해 회원가입해 주세요.           1. '네이버ID' 로 네이버 커머스 ID 가입하기1) [네이버 아이디로 가입하기] 버튼을 눌러서 네이버 로그인 해 주세요.2) 연락가능한 휴대폰번호를 입력하시고 인증하신 후 개인정보 수집동의를 체크 하여 [가입] 버튼을 눌러주세요. 3) 네이버 커머스 ID 회원가입이 완료되어 해당 네이버ID 로 스마트스토어센터 서비스 가입을 하실 수 있습니다. 이 후 스마트스토어센터 로그인 시에 [네이버 아이디로 로그인] 버튼을 눌러서 네이버 로그인을 하실 수 있습니다. 2. '이메일 아이디'로 네이버 커머스 ID 가입하기 1) [이메일 아이디로 가입하기] 버튼을 눌러서 사용할 ID를 입력해 주세요.! 중요. 로그인 ID는 \"실 사용중인 이메일주소\"로 기재하셔야 합니다. (예 : abc@naver.com)2) 연락가능한 휴대폰번호와 이메일주소를 입력하시고 인증하신 후 개인정보 수집동의를 체크 하여 [가입] 버튼을 눌러주세요.3) 네이버 커머스 ID 회원가입이 완료되어 해당 이메일 아이디로 스마트스토어센터 서비스 가입을 하실 수 있습니다.이 후 스마트스토어센터 로그인 시에 해당 이메일 아이디와 비밀번호를 입력하여 로그인을 하실 수 있습니다. ※ 참고. 로그인 ID 계정 대표자와 사업자번호 대표자 동일여부는 체크하지 않습니다. (대표자가 상이해도 가입 진행 가능합니다.)...\n",
            "------------------------------\n",
            "질문: [가입서류] 스마트스토어 판매자 유형별 필요한 서류가 어떻게 되나요?\n",
            "클린된 답변: 스마트스토어 판매 회원 분류는 아래와 같으며 반드시 모든 서류를 제출해 주셔야 가입이 가능합니다. 가입 서류는 가입 단계에서 업로드 가능하며, 가입 신청 시 서류 준비가 되지 않은 경우 가입 완료 후 [판매자정보 > 심사내역 조회] 메뉴에서 업로드 가능합니다.사업자 등록증의 경우 고객확인제도(AML)를 위한 최신 사업자의 정보를 확인하기 위해 최근 1년 이내 발급분으로 서류 접수받고 있습니다.   판매회원분류 가입 시 필요 서류 국내 개인일반  서류 불필요법정 미성년자(만 19세 미만) 법정대리인 인감증명서 사본 1부 (최근 3개월 이내 발급 분, 생년월일+성별 구분 제외 마스킹 필요) 가족관계증명서 사본 1부 (또는 법정대리임을 증명할 서류) 스마트스토어 법정대리인 동의서 사본 1부 (판매회원 ID 필수 기재) ※ 참고.   · 법정대리인 인감증명서 제출이 어려울 경우 법정대리인 본인서명사실확인서로 대체 가능 국내 사업자 법정 미성년자(만 19세 미만)  사업자 등록증 사본 1부 (1년 이내 발급분) 대표자(또는 사업자) 명의 통장 사본 1부  대표자 인감증명서 사본 1부 (3개월 이내 발급분, 생년월일+성별 구분 제외 마스킹 필요) 대표자(또는 사업자) 명의 통장 사본 1부 ※ 참고.  · 법정 미성년자 대표자여도 이미 사업자등록증 발급당시 법정대리인 확인 후 발급됨으로    법적대리인의 동의서류는 별도 받지 않음 · 예금주명이 대표자명 또는 사업자등록증의 상호명과 동일할 경우 통장사본 생략 가능 · 공동대표의 경우 대표 대표자가 예금주명에 있는 경우 통장 사본 생략 가능 · 대표자 본인 인감증명서 제출이 필요하며 법적대리인 인감증명서 제출로는 가입 심사 불가능 · 대표자 인감증명서는 '본인서명사실확인서' 사본으로 대체 접수 가능  · 대표자 본인명의 휴대폰 인증시 '대표자 인감증명서'제출 생략 가능 간이/개인사업자 사업자 등록증 사본 1부 (1년 이내 발급분) 대표자 인감증명서 사본 1부 (3개월 이내 발급분, 생년월일+성별 구분 제외 마스킹 필요) 대표자(또는 사업자) 명의 통장 사본 1부 ※ 참고. · 예금주명이 대표자명 또는 사업자등록증의 상호명과 동일할 경우 통장사본 생략 가능 · 공동대표의 경우 대표 대표자가 예금주명에 있는 경우 통장 사본 생략 가능 · 대표자 인감증명서는 '본인서명사실확인서' 사본으로 대체 접수 가능 법인사업자  사업자 등록증 사본 1부 (1년 이내 발급분)   법인 인감증명서 사본 1부 (3개월 이내 발급분, 생년월일+성별 구분 제외 마스킹 필요) 법인 명의 통장 사본 1부 ※ 참고. · 예금주명이 사업자등록증의 법인 명의(상호명)과 동일한 경우 통장 사본 생략 가능 · 비영리 법인인 경우 법인인감증명서 대신 가입 시 기재한 대표자의 개인인감증명서로 대체 가능 법인 지점사업자 지점 사업자 등록증 사본 1부 (1년 이내 발급분)  법인 인감증명서 사본 1부 (3개월 이내 발급분, 생년월일+성별 구분 제외 마스킹 필요) 지점 명의 통장 사본 1부 해외 사업자   대표자 여권 사본 1부  사업자등록증(미국의 경우 IRS 서류) 사본 1부  사업자 또는 법인 명의 통장(해외계좌 인증 서류 가능) 사본 1부  ※ 참고. 비영어권은 영문번역본과 함께 제출 필수  스마트스토어법정대리인 동의서 사본 1부 다운로드 받기》스마트스토어 통신판매업 신고번호 입력 기준1. 직전년도 구매확정 수 50건 이상 또는 당해년도 1월1일부터 누적 구매확정 수 50건 이상인 경우2. 부가가치세법 제2조 제4호의 간이과세자에 해당되지 않을 경우(부가가치세법 제2조 제4호)판매자유형 개인판매자 (개인판매회원)간이사업자개인사업자 (일반사업자)법인사업자  사업자 신고 기준(복수 계정인 경우 총 합) 직전년도 누적 판매금액 4,800만원 이상 또는당해년도 1월1일부터 누적 판매금액 4,400만원 이상 -통신판매업 신고번호 입력기준(복수 계정인 경우 총 합)직전년도 구매확정 수 50건 이상 또는 당해년도 1월1일부터 누적 구매확정 수 50건 이상직전년도 누적 판매 금액 8,000만원 이상 또는 당해년도 1월1일부터 판매 금액 8,000만원 이상  직전 년도 구매확정 수 50건 이상 또는 당해년도 1월1일부터 누적 구매확정 수 50건 이상 기준 초과 시 안내 사업자 전환 안내(로그인 팝업 알림/EMS 발송)통신판매업 미신고 안내(로그인 팝업 알림/EMS 발송) 매월 2일마다 안내 누적 판매금액 집계 기준(판매자등급 기준과 동일)구매확정 건의 상품주문번호 단위 결제금액 - 직권취소된 상품주문번호의 결제금액(조합형 옵션/추가 상품 금액 포함, 배송비는 판매금액에 포함되지 않음) 누적건수 집계 기준(판매자등급 기준과 동일)상품주문번호 단위 구매확정 건 - 직권취소 건 (일반 주문건만 포함되며, 추가상품/배송비는 판매건수에 포함되지 않음)※ 참고.  · 통신판매업 신고번호 입력 기준에 해당할 경우 통신판매업 신고 완료 후 진행 바랍니다. · 통신판매업신고증 발급을 위한 '구매안전서비스 이용확인증' 출력은 [판매자정보 > 판매자 정보] 메뉴 우측 상단 '구매안전서비스 이용확인증'버튼을 통해 진행 가능합니다. · 신규 가입 시 공정거래위원회에서 사업자 정보로 정상 조회가 가능한 경우 통신판매업 신고 번호 기재하여 가입이 진행됩니다.  · 페이지가 여러 장인 서류는 모든 페이지를 접수해 주셔야 하며, 발급일자가 모두 동일해야 합니다. · 사업자등록증과 동일하게 정보가 기재된 사업자등록증명으로 대체가 가능합니다. 다만, 최근 1년 이내 발급한 서류로 제출 바랍니다. · 대표자 인감증명서는 '본인서명사실확인서' 사본으로 대체 접수 가능합니다.  · 대표자 명의로 개통된 휴대전화로 본인인증을 하시면 인감증명서를 제출하지 않으셔도 됩니다.   · 미성년자 관련 서류 내 법정대리인 인감증명서 제출이 어려울 경우 법정대리인 본인서명사실확인서로 대체 가능합니다.  · 미성년자 사업자로 가입 시 본인인증 수단에서 휴대폰 본인인증으로 안했을 시 미성년자(본인)인감증명서 또는 본인서명사실확인서를 제출해야 됩니다.    다만, 미성년자 본인인감증명서 제출이 어려울 경우 사업자 가입심사 건을 취소하고 재 가입 시 '휴대폰 본인인증'으로 진행 바랍니다.  · 모든 서류 제출 후 3영업일 내 심사가 진행되며 결과는 담당자 메일로 발송됩니다.  · 해외 거주자의 서류는 영문번역본으로 제출해 주셔야 합니다.   발급기관에서 영문번역본으로 받을 경우 별도의 공증은 필요치 않으며, 만약 발급기관에서 영문번역본으로 발급이 어려운 경우 영사관 또는 공증번역기관으로부터 공증을 받은 영문번역본으로 제출해 주셔야 합니다. · 공동대표인 경우 가입 신청 시 대표자명을 모두 입력해야 하며, 각 대표자의 개인인감증명서(법인인 경우 법인인감증명서)를 모두 제출해야 합니다. · 각자대표인 경우 사업자등록증 상의 대표자가 다수여도 한 명의 대표자만 가입이 가능하며, 이때 가입서류 중 인감증명서는 가입 시 기재한 대표자의 서류(법인인 경우 법인인감증명서)만 제출 가능합니다. · 통장사본은 계좌개설확인서 또는 온라인통장표지로 대체 가능합니다.  · 스마트스토어 심사 시 서류 발급 용도에 대해서는 확인하고 있지 않습니다. \"온라인 판매 제출용\"과 같이 실제 필요한 사유에 맞게 기재하여 주시기 바랍니다.   가입 신청을 했습니다. 심사 결과는 어떻게 확인하나요?》...\n",
            "------------------------------\n",
            "질문: [심사결과] 가입 신청을 했습니다. 심사 결과는 어떻게 확인하나요?\n",
            "클린된 답변: 스마트스토어센터에 로그인하시면 \"팝업\" 또는 [판매자 정보 > 심사내역 조회] 메뉴에서 상세한 정보(제출하신 서류, 보류 사유 등)를 확인할 수 있습니다.가입 완료 전 심사 과정은 총 5개로 노출될 수 있으며, 해당하는 팝업 메시지에 따라 해결방법을 확인 해 주세요.           · 심사 중 : 현재 심사가 진행 중입니다. 영업일 기준 3일 이내에 심사가 완료됩니다. · 심사 중 (서류 미제출) : 필수 서류를 모두 제출하지 않아서 심사가 진행되지 않고 있습니다. 서류를 제출하면 바로 심사가 진행됩니다.  · 심사 중 (서류 통과) : 쇼핑윈도 노출심사 시 서류심사 승인된 상태입니다.  ※ 참고. 1차승인(서류통과) 처리가 완료되면 검수기준에 맞는 상품을 등록해 주셔야 검수가 진행되며, 최종 승인까지 진행됩니다.  · 보류 : 제출하신 서류/정보 중에 부족한 점이 발견되어 가입 심사가 보류되었습니다. 보류 사유를 확인하시고 서류 미비로 보류된 경우, 서류를 재등록하시면 심사가 다시 진행됩니다. · 거부 : 스마트스토어센터 가입이 불가능합니다. 판매자 가입이 '보류' 되었습니다. 왜그런가요?》판매자 가입이 '거부' 되었습니다. 왜그런가요?》          ※ 참고. 혹시, \"팝업\" 메시지를 확인하지 못하셨나요?· [판매자 정보 > 심사내역 조회] 메뉴에서 모든 심사 결과를 확인하실 수 있습니다.· 네이버 스마트스토어 고객센터에서는 고객센터 번호(1588-3819) 이외의 번호로는 연락드리지 않습니다. 스마트스토어 관련 내용으로 그 외 번호로 연락을 받으신 경우는 주의 부탁드립니다....\n",
            "------------------------------\n"
          ]
        }
      ],
      "source": [
        "# 5.클리닝 결과 샘플 확인\n",
        "print(\"\\n--- 푸터 제거 후 FAQ 데이터 샘플 ---\")\n",
        "for i, (q, a) in enumerate(cleaned_faq.items()):\n",
        "    if i >= 3:\n",
        "        break\n",
        "    print(f\"질문: {q}\")\n",
        "    print(f\"클린된 답변: {a}...\")\n",
        "    print(\"-\" * 30)"
      ]
    },
    {
      "cell_type": "code",
      "execution_count": 12,
      "id": "MZVI8L4Lt2sO",
      "metadata": {
        "id": "MZVI8L4Lt2sO"
      },
      "outputs": [],
      "source": [
        "# 6.푸터 제거 후 FAQ 답변 길이 추출\n",
        "cleaned_lengths = [len(a) for a in cleaned_faq.values() if a] # 비어있는 답변 제외"
      ]
    },
    {
      "cell_type": "code",
      "execution_count": 13,
      "id": "zJa1eMCmt6M5",
      "metadata": {
        "colab": {
          "base_uri": "https://localhost:8080/"
        },
        "id": "zJa1eMCmt6M5",
        "outputId": "bbee3528-9edc-4bdc-ac07-eecbfa914565"
      },
      "outputs": [
        {
          "output_type": "stream",
          "name": "stdout",
          "text": [
            "\n",
            "--- 푸터 제거 후 FAQ 답변 길이 분포 (통계) ---\n",
            "count    2717.000000\n",
            "mean      391.538462\n",
            "std       538.628704\n",
            "min         3.000000\n",
            "25%       141.000000\n",
            "50%       243.000000\n",
            "75%       446.000000\n",
            "95%      1123.600000\n",
            "max      8996.000000\n",
            "dtype: float64\n"
          ]
        }
      ],
      "source": [
        "# 7.길이 분포 통계 확인 (Pandas Series 활용)\n",
        "length_series = pd.Series(cleaned_lengths)\n",
        "print(\"\\n--- 푸터 제거 후 FAQ 답변 길이 분포 (통계) ---\")\n",
        "print(length_series.describe(percentiles=[.25, .5, .75, .95]))"
      ]
    },
    {
      "cell_type": "code",
      "execution_count": 14,
      "id": "1IiOdkuRtiv8",
      "metadata": {
        "colab": {
          "base_uri": "https://localhost:8080/",
          "height": 485
        },
        "id": "1IiOdkuRtiv8",
        "outputId": "83065c02-5564-4d3c-dd9d-985898bc2f04"
      },
      "outputs": [
        {
          "output_type": "display_data",
          "data": {
            "text/plain": [
              "<Figure size 1000x500 with 1 Axes>"
            ],
            "image/png": "[encoded data removed]"
          },
          "metadata": {}
        }
      ],
      "source": [
        "# 8.푸터 제거 후 FAQ 답변 길이 분포 시각화\n",
        "plt.figure(figsize=(10, 5))\n",
        "sns.histplot(cleaned_lengths, bins=50, color='lightblue', edgecolor='black')\n",
        "plt.axvline(length_series.median(), color='red', linestyle='--', label=f'Median: {length_series.median():.0f}자')\n",
        "plt.axvline(length_series.quantile(0.95), color='purple', linestyle=':', label=f'95% 이하: {length_series.quantile(0.95):.0f}자')\n",
        "plt.title(\"푸터 제거 후 FAQ 답변 길이 분포\")\n",
        "plt.xlabel(\"답변 길이 (글자 수)\")\n",
        "plt.ylabel(\"개수\")\n",
        "plt.grid(True)\n",
        "plt.legend()\n",
        "plt.show()"
      ]
    },
    {
      "cell_type": "code",
      "execution_count": 15,
      "id": "PXDeJgBzolq3",
      "metadata": {
        "colab": {
          "base_uri": "https://localhost:8080/"
        },
        "id": "PXDeJgBzolq3",
        "outputId": "d2cdcbd6-01bd-44f1-f5cb-0970cf6a6fad"
      },
      "outputs": [
        {
          "output_type": "stream",
          "name": "stdout",
          "text": [
            "\n",
            "원본 답변 평균 길이: 501.69\n",
            "클린된 답변 평균 길이: 391.54\n"
          ]
        }
      ],
      "source": [
        "# 6. 원본과 클린된 답변 길이 비교\n",
        "original_lengths = [len(a) for a in raw_faq_data.values() if isinstance(a, str)]\n",
        "cleaned_lengths = [len(a) for a in cleaned_faq.values()]\n",
        "print(f\"\\n원본 답변 평균 길이: {sum(original_lengths)/len(original_lengths):.2f}\")\n",
        "print(f\"클린된 답변 평균 길이: {sum(cleaned_lengths)/len(cleaned_lengths):.2f}\")"
      ]
    },
    {
      "cell_type": "markdown",
      "id": "gMmIDz_jHHfm",
      "metadata": {
        "id": "gMmIDz_jHHfm"
      },
      "source": [
        "🔎 인사이트/결과:\n",
        "\n",
        "```\n",
        "--- 푸터 제거 후 FAQ 답변 길이 분포 ---\n",
        "count    2717.000000\n",
        "mean      391.538462\n",
        "std       538.628704\n",
        "min         3.000000\n",
        "25%       141.000000\n",
        "50%       243.000000  # 중앙값 (Median)\n",
        "75%       446.000000\n",
        "95%      1123.600000 # 상위 5%를 제외한 답변의 최대 길이\n",
        "max      8996.000000\n",
        "dtype: float64\n",
        "```\n",
        "📌 통계 결과에서 mean (평균) 값이 합리적인 수준으로 줄었음 (푸터 제거의 효과)\n",
        "- 그러나 std (표준편차) 값이 크고 max (최대) 값이 8996자로 매우 길다\n",
        "- 히스토그램은 대부분의 답변이 짧은 길이(예: 500자 이내)에 집중되어 있으나 1000자를 넘는 답변들도 상당수 존재함\n",
        "\n",
        "➡️ 푸터 제거를 통해 데이터가 정제되었으나 여전히 긴 답변이 존재\n",
        "\n",
        "**📌 청킹이 필요한 이유:**\n",
        "- GPT는 한 번에 많은 정보를 기억하지 못함\n",
        "- 문서를 나누어 효율적으로 처리 가능\n",
        "- 검색 정확도 및 환각 방지에 효과적\n",
        "\n",
        "\n",
        "➡️ 청킹(Chunking) 전략 수립 필요"
      ]
    },
    {
      "cell_type": "markdown",
      "id": "4a94b1b2",
      "metadata": {
        "id": "4a94b1b2"
      },
      "source": [
        "## ✂️ 3. 청킹(Chunking) 전략 결정\n",
        "- 긴 FAQ 답변을 검색 및 LLM 처리에 적합한 크기로 분할하는 청킹 전략을 수립\n",
        "- LLM의 토큰 제한에 맞춰 각 청크의 길이를 제어\n",
        "- 검색 시 하나의 질문과 관련된 모든 정보가 한 청크에 담기지 않더라도, 인접한 청크를 통해 전체 맥락을 이해할 수 있도록\n",
        "- 관련성 높은 청크가 검색될 가능성을 높이기\n",
        "➡️ langchain의 `RecursiveCharacterTextSplitter`를 사용해 답변을 청크로 나누기\n",
        "\n",
        "\n"
      ]
    },
    {
      "cell_type": "code",
      "execution_count": 16,
      "id": "Od9duFPFolob",
      "metadata": {
        "id": "Od9duFPFolob"
      },
      "outputs": [],
      "source": [
        "from langchain.text_splitter import RecursiveCharacterTextSplitter"
      ]
    },
    {
      "cell_type": "code",
      "execution_count": 17,
      "id": "0-_z5p6DufPo",
      "metadata": {
        "id": "0-_z5p6DufPo"
      },
      "outputs": [],
      "source": [
        "# 1.RecursiveCharacterTextSplitter 초기화 및 파라미터 실험\n",
        "splitter = RecursiveCharacterTextSplitter(\n",
        "    chunk_size=500,\n",
        "    chunk_overlap=100,\n",
        "    length_function=len,\n",
        "    add_start_index=True\n",
        ")"
      ]
    },
    {
      "cell_type": "markdown",
      "id": "WEVZI33lvrvt",
      "metadata": {
        "id": "WEVZI33lvrvt"
      },
      "source": [
        "👀 코드정리\n",
        "\n",
        "❓ chunk_size=500\n",
        "- 푸터 제거 후 답변 길이 통계(특히 75%, 95% 지점)를 고려하여 chunk_size를 결정\n",
        "- 75% 답변 길이(446자)를 넘어서는 답변들이 청킹되도록 500자 설정\n",
        "\n",
        "❓ chunk_overlap=100\n",
        "- LLM의 토큰 제한(대략 1토큰 = 4글자)과 검색 효율성을 종합적으로 고려\n",
        "- 청크 경계의 맥락 손실을 방지하기 위한 중복 설정"
      ]
    },
    {
      "cell_type": "code",
      "execution_count": 18,
      "id": "90QgUKgg17gj",
      "metadata": {
        "colab": {
          "base_uri": "https://localhost:8080/"
        },
        "id": "90QgUKgg17gj",
        "outputId": "78ca05d3-d40d-454f-e4ca-2c42e1b3891a"
      },
      "outputs": [
        {
          "output_type": "stream",
          "name": "stdout",
          "text": [
            "총 청크 수: 3875\n"
          ]
        }
      ],
      "source": [
        "chunks, metas, ids = [], [], []\n",
        "idx = 0\n",
        "for q, a in cleaned_faq.items():\n",
        "    pieces = splitter.split_text(a)\n",
        "    for i, p in enumerate(pieces):\n",
        "        chunks.append(p)\n",
        "        metas.append({\"original_question\": q, \"chunk_index\": i + 1})\n",
        "        ids.append(f\"faq_{idx}\")\n",
        "        idx += 1\n",
        "\n",
        "print(f\"총 청크 수: {len(chunks)}\")"
      ]
    },
    {
      "cell_type": "code",
      "execution_count": 19,
      "id": "_wkP-Bx1vZch",
      "metadata": {
        "colab": {
          "base_uri": "https://localhost:8080/"
        },
        "id": "_wkP-Bx1vZch",
        "outputId": "d88155a7-41f5-4a9a-ec99-489fd2ce0568"
      },
      "outputs": [
        {
          "output_type": "stream",
          "name": "stdout",
          "text": [
            "\n",
            "--- 생성된 청크 길이 분포 (통계) ---\n",
            "count    3875.000000\n",
            "mean      300.521548\n",
            "std       157.409335\n",
            "min         3.000000\n",
            "25%       157.000000\n",
            "50%       287.000000\n",
            "75%       491.000000\n",
            "95%       499.000000\n",
            "max       500.000000\n",
            "dtype: float64\n"
          ]
        }
      ],
      "source": [
        "# 2. 생성된 청크 길이 분포 확인\n",
        "chunk_lengths = [len(chunk) for chunk in chunks]\n",
        "chunk_length_series = pd.Series(chunk_lengths)\n",
        "print(\"\\n--- 생성된 청크 길이 분포 (통계) ---\")\n",
        "print(chunk_length_series.describe(percentiles=[.25, .5, .75, .95]))"
      ]
    },
    {
      "cell_type": "code",
      "execution_count": 20,
      "id": "UPAzceVctJAj",
      "metadata": {
        "colab": {
          "base_uri": "https://localhost:8080/",
          "height": 562
        },
        "id": "UPAzceVctJAj",
        "outputId": "21ac9548-4de0-4cd8-cb8a-57c72ef30966"
      },
      "outputs": [
        {
          "output_type": "display_data",
          "data": {
            "text/plain": [
              "<Figure size 1000x600 with 1 Axes>"
            ],
            "image/png": "[encoded data removed]"
          },
          "metadata": {}
        }
      ],
      "source": [
        "# 3. 청크 길이 분포 시각화\n",
        "plt.figure(figsize=(10, 6))\n",
        "sns.histplot(chunk_lengths, bins=50, kde=True, color='green')\n",
        "plt.title(\"생성된 청크 길이 분포\")\n",
        "plt.xlabel(\"청크 길이 (글자 수)\")\n",
        "plt.ylabel(\"개수\")\n",
        "plt.axvline(x=500, color='r', linestyle='--', label='Chunk Size (500)')\n",
        "plt.legend()\n",
        "plt.grid(True)\n",
        "plt.show()"
      ]
    },
    {
      "cell_type": "markdown",
      "id": "pjvxWA2pwMsR",
      "metadata": {
        "id": "pjvxWA2pwMsR"
      },
      "source": [
        "🔎 인사이트/결과:\n",
        "\n",
        "📌 RecursiveCharacterTextSplitter 선택\n",
        "- 이 스플리터는 다양한 구분자를 사용하여 텍스트를 재귀적으로 분할\n",
        "- 의미론적 경계를 최대한 존중하면서 청크를 생성하는 데 효과적이라고 판단\n",
        "\n",
        "📌 chunk_size=500 설정\n",
        "- 푸터 제거 후 답변 길이 통계에서 75%의 답변이 446자 이하\n",
        "- 95%의 답변이 1123자\n",
        "- 대부분의 짧은 답변은 하나의 청크로 유지\n",
        "- 75%의 답변은 500자 이내(맥락 손실 방지)\n",
        "- 긴 답변의 효율적인 분할\n",
        "- 500자를 초과하는 긴 답변들은 여러 청크로 분할 ➡️ LLM의 토큰 제한을 준수, 검색 시 더 세밀한 정보 단위로 접근할 수 있음\n",
        "\n",
        "📌 임베딩 및 검색 성능\n",
        "- 너무 큰 청크는 임베딩 시 비효율적\n",
        "- 관련 없는 정보를 포함할 확률을 높일 수 있음\n",
        "\n",
        "📌 chunk_overlap=100 설정\n",
        "- 각 청크가 이전 청크의 100자 정도를 포함하도록 설정\n",
        "- 정보 손실을 최소화\n",
        "- LLM이 답변을 생성할 때 더 완전한 맥락을 파악하여 전체적인 정보의 연속성을 유지"
      ]
    },
    {
      "cell_type": "markdown",
      "id": "yjdo1KTv9GwT",
      "metadata": {
        "id": "yjdo1KTv9GwT"
      },
      "source": [
        "## 💾 4. 텍스트 임베딩 및 벡터 저장소 생성\n",
        "📌 OpenAI 임베딩 모델 선택 (text-embedding-3-small)\n",
        "- 텍스트 데이터를 고차원 벡터(임베딩)로 변환\n",
        "- OpenAI의 최신 임베딩 모델 중 하나\n",
        "- 효율적인 비용으로 높은 성능을 제공\n",
        "- 대규모 텍스트 데이터를 처리하는 데 적합하다고 판단\n",
        "\n",
        "📌 ChromaDB 클라이언트 설정\n",
        "- 생성된 임베딩 벡터와 해당 텍스트 청크, 메타데이터를 저장하고 관리\n",
        "- 저장된 벡터 데이터베이스에서 가장 유사한 FAQ 청크를 빠르게 검색"
      ]
    },
    {
      "cell_type": "code",
      "execution_count": 21,
      "id": "YH634TF5z8uF",
      "metadata": {
        "colab": {
          "base_uri": "https://localhost:8080/"
        },
        "collapsed": true,
        "id": "YH634TF5z8uF",
        "outputId": "7437e9c4-310c-43be-84e4-8712442770b8"
      },
      "outputs": [
        {
          "output_type": "stream",
          "name": "stdout",
          "text": [
            "Requirement already satisfied: chromadb in /usr/local/lib/python3.11/dist-packages (1.0.12)\n",
            "Requirement already satisfied: openai in /usr/local/lib/python3.11/dist-packages (1.84.0)\n",
            "Requirement already satisfied: langchain in /usr/local/lib/python3.11/dist-packages (0.3.25)\n",
            "Requirement already satisfied: tiktoken in /usr/local/lib/python3.11/dist-packages (0.9.0)\n",
            "Requirement already satisfied: pandas in /usr/local/lib/python3.11/dist-packages (2.2.2)\n",
            "Requirement already satisfied: matplotlib in /usr/local/lib/python3.11/dist-packages (3.10.0)\n",
            "Requirement already satisfied: seaborn in /usr/local/lib/python3.11/dist-packages (0.13.2)\n",
            "Requirement already satisfied: build>=1.0.3 in /usr/local/lib/python3.11/dist-packages (from chromadb) (1.2.2.post1)\n",
            "Requirement already satisfied: pydantic>=1.9 in /usr/local/lib/python3.11/dist-packages (from chromadb) (2.11.5)\n",
            "Requirement already satisfied: fastapi==0.115.9 in /usr/local/lib/python3.11/dist-packages (from chromadb) (0.115.9)\n",
            "Requirement already satisfied: uvicorn>=0.18.3 in /usr/local/lib/python3.11/dist-packages (from uvicorn[standard]>=0.18.3->chromadb) (0.34.3)\n",
            "Requirement already satisfied: numpy>=1.22.5 in /usr/local/lib/python3.11/dist-packages (from chromadb) (2.0.2)\n",
            "Requirement already satisfied: posthog>=2.4.0 in /usr/local/lib/python3.11/dist-packages (from chromadb) (4.7.0)\n",
            "Requirement already satisfied: typing-extensions>=4.5.0 in /usr/local/lib/python3.11/dist-packages (from chromadb) (4.14.0)\n",
            "Requirement already satisfied: onnxruntime>=1.14.1 in /usr/local/lib/python3.11/dist-packages (from chromadb) (1.22.0)\n",
            "Requirement already satisfied: opentelemetry-api>=1.2.0 in /usr/local/lib/python3.11/dist-packages (from chromadb) (1.34.1)\n",
            "Requirement already satisfied: opentelemetry-exporter-otlp-proto-grpc>=1.2.0 in /usr/local/lib/python3.11/dist-packages (from chromadb) (1.34.1)\n",
            "Requirement already satisfied: opentelemetry-instrumentation-fastapi>=0.41b0 in /usr/local/lib/python3.11/dist-packages (from chromadb) (0.55b1)\n",
            "Requirement already satisfied: opentelemetry-sdk>=1.2.0 in /usr/local/lib/python3.11/dist-packages (from chromadb) (1.34.1)\n",
            "Requirement already satisfied: tokenizers>=0.13.2 in /usr/local/lib/python3.11/dist-packages (from chromadb) (0.21.1)\n",
            "Requirement already satisfied: pypika>=0.48.9 in /usr/local/lib/python3.11/dist-packages (from chromadb) (0.48.9)\n",
            "Requirement already satisfied: tqdm>=4.65.0 in /usr/local/lib/python3.11/dist-packages (from chromadb) (4.67.1)\n",
            "Requirement already satisfied: overrides>=7.3.1 in /usr/local/lib/python3.11/dist-packages (from chromadb) (7.7.0)\n",
            "Requirement already satisfied: importlib-resources in /usr/local/lib/python3.11/dist-packages (from chromadb) (6.5.2)\n",
            "Requirement already satisfied: grpcio>=1.58.0 in /usr/local/lib/python3.11/dist-packages (from chromadb) (1.72.1)\n",
            "Requirement already satisfied: bcrypt>=4.0.1 in /usr/local/lib/python3.11/dist-packages (from chromadb) (4.3.0)\n",
            "Requirement already satisfied: typer>=0.9.0 in /usr/local/lib/python3.11/dist-packages (from chromadb) (0.16.0)\n",
            "Requirement already satisfied: kubernetes>=28.1.0 in /usr/local/lib/python3.11/dist-packages (from chromadb) (33.1.0)\n",
            "Requirement already satisfied: tenacity>=8.2.3 in /usr/local/lib/python3.11/dist-packages (from chromadb) (9.1.2)\n",
            "Requirement already satisfied: pyyaml>=6.0.0 in /usr/local/lib/python3.11/dist-packages (from chromadb) (6.0.2)\n",
            "Requirement already satisfied: mmh3>=4.0.1 in /usr/local/lib/python3.11/dist-packages (from chromadb) (5.1.0)\n",
            "Requirement already satisfied: orjson>=3.9.12 in /usr/local/lib/python3.11/dist-packages (from chromadb) (3.10.18)\n",
            "Requirement already satisfied: httpx>=0.27.0 in /usr/local/lib/python3.11/dist-packages (from chromadb) (0.28.1)\n",
            "Requirement already satisfied: rich>=10.11.0 in /usr/local/lib/python3.11/dist-packages (from chromadb) (13.9.4)\n",
            "Requirement already satisfied: jsonschema>=4.19.0 in /usr/local/lib/python3.11/dist-packages (from chromadb) (4.24.0)\n",
            "Requirement already satisfied: starlette<0.46.0,>=0.40.0 in /usr/local/lib/python3.11/dist-packages (from fastapi==0.115.9->chromadb) (0.45.3)\n",
            "Requirement already satisfied: anyio<5,>=3.5.0 in /usr/local/lib/python3.11/dist-packages (from openai) (4.9.0)\n",
            "Requirement already satisfied: distro<2,>=1.7.0 in /usr/local/lib/python3.11/dist-packages (from openai) (1.9.0)\n",
            "Requirement already satisfied: jiter<1,>=0.4.0 in /usr/local/lib/python3.11/dist-packages (from openai) (0.10.0)\n",
            "Requirement already satisfied: sniffio in /usr/local/lib/python3.11/dist-packages (from openai) (1.3.1)\n",
            "Requirement already satisfied: langchain-core<1.0.0,>=0.3.58 in /usr/local/lib/python3.11/dist-packages (from langchain) (0.3.63)\n",
            "Requirement already satisfied: langchain-text-splitters<1.0.0,>=0.3.8 in /usr/local/lib/python3.11/dist-packages (from langchain) (0.3.8)\n",
            "Requirement already satisfied: langsmith<0.4,>=0.1.17 in /usr/local/lib/python3.11/dist-packages (from langchain) (0.3.44)\n",
            "Requirement already satisfied: SQLAlchemy<3,>=1.4 in /usr/local/lib/python3.11/dist-packages (from langchain) (2.0.41)\n",
            "Requirement already satisfied: requests<3,>=2 in /usr/local/lib/python3.11/dist-packages (from langchain) (2.32.3)\n",
            "Requirement already satisfied: regex>=2022.1.18 in /usr/local/lib/python3.11/dist-packages (from tiktoken) (2024.11.6)\n",
            "Requirement already satisfied: python-dateutil>=2.8.2 in /usr/local/lib/python3.11/dist-packages (from pandas) (2.9.0.post0)\n",
            "Requirement already satisfied: pytz>=2020.1 in /usr/local/lib/python3.11/dist-packages (from pandas) (2025.2)\n",
            "Requirement already satisfied: tzdata>=2022.7 in /usr/local/lib/python3.11/dist-packages (from pandas) (2025.2)\n",
            "Requirement already satisfied: contourpy>=1.0.1 in /usr/local/lib/python3.11/dist-packages (from matplotlib) (1.3.2)\n",
            "Requirement already satisfied: cycler>=0.10 in /usr/local/lib/python3.11/dist-packages (from matplotlib) (0.12.1)\n",
            "Requirement already satisfied: fonttools>=4.22.0 in /usr/local/lib/python3.11/dist-packages (from matplotlib) (4.58.1)\n",
            "Requirement already satisfied: kiwisolver>=1.3.1 in /usr/local/lib/python3.11/dist-packages (from matplotlib) (1.4.8)\n",
            "Requirement already satisfied: packaging>=20.0 in /usr/local/lib/python3.11/dist-packages (from matplotlib) (24.2)\n",
            "Requirement already satisfied: pillow>=8 in /usr/local/lib/python3.11/dist-packages (from matplotlib) (11.2.1)\n",
            "Requirement already satisfied: pyparsing>=2.3.1 in /usr/local/lib/python3.11/dist-packages (from matplotlib) (3.2.3)\n",
            "Requirement already satisfied: idna>=2.8 in /usr/local/lib/python3.11/dist-packages (from anyio<5,>=3.5.0->openai) (3.10)\n",
            "Requirement already satisfied: pyproject_hooks in /usr/local/lib/python3.11/dist-packages (from build>=1.0.3->chromadb) (1.2.0)\n",
            "Requirement already satisfied: certifi in /usr/local/lib/python3.11/dist-packages (from httpx>=0.27.0->chromadb) (2025.4.26)\n",
            "Requirement already satisfied: httpcore==1.* in /usr/local/lib/python3.11/dist-packages (from httpx>=0.27.0->chromadb) (1.0.9)\n",
            "Requirement already satisfied: h11>=0.16 in /usr/local/lib/python3.11/dist-packages (from httpcore==1.*->httpx>=0.27.0->chromadb) (0.16.0)\n",
            "Requirement already satisfied: attrs>=22.2.0 in /usr/local/lib/python3.11/dist-packages (from jsonschema>=4.19.0->chromadb) (25.3.0)\n",
            "Requirement already satisfied: jsonschema-specifications>=2023.03.6 in /usr/local/lib/python3.11/dist-packages (from jsonschema>=4.19.0->chromadb) (2025.4.1)\n",
            "Requirement already satisfied: referencing>=0.28.4 in /usr/local/lib/python3.11/dist-packages (from jsonschema>=4.19.0->chromadb) (0.36.2)\n",
            "Requirement already satisfied: rpds-py>=0.7.1 in /usr/local/lib/python3.11/dist-packages (from jsonschema>=4.19.0->chromadb) (0.25.1)\n",
            "Requirement already satisfied: six>=1.9.0 in /usr/local/lib/python3.11/dist-packages (from kubernetes>=28.1.0->chromadb) (1.17.0)\n",
            "Requirement already satisfied: google-auth>=1.0.1 in /usr/local/lib/python3.11/dist-packages (from kubernetes>=28.1.0->chromadb) (2.38.0)\n",
            "Requirement already satisfied: websocket-client!=0.40.0,!=0.41.*,!=0.42.*,>=0.32.0 in /usr/local/lib/python3.11/dist-packages (from kubernetes>=28.1.0->chromadb) (1.8.0)\n",
            "Requirement already satisfied: requests-oauthlib in /usr/local/lib/python3.11/dist-packages (from kubernetes>=28.1.0->chromadb) (2.0.0)\n",
            "Requirement already satisfied: oauthlib>=3.2.2 in /usr/local/lib/python3.11/dist-packages (from kubernetes>=28.1.0->chromadb) (3.2.2)\n",
            "Requirement already satisfied: urllib3>=1.24.2 in /usr/local/lib/python3.11/dist-packages (from kubernetes>=28.1.0->chromadb) (2.4.0)\n",
            "Requirement already satisfied: durationpy>=0.7 in /usr/local/lib/python3.11/dist-packages (from kubernetes>=28.1.0->chromadb) (0.10)\n",
            "Requirement already satisfied: jsonpatch<2.0,>=1.33 in /usr/local/lib/python3.11/dist-packages (from langchain-core<1.0.0,>=0.3.58->langchain) (1.33)\n",
            "Requirement already satisfied: requests-toolbelt<2.0.0,>=1.0.0 in /usr/local/lib/python3.11/dist-packages (from langsmith<0.4,>=0.1.17->langchain) (1.0.0)\n",
            "Requirement already satisfied: zstandard<0.24.0,>=0.23.0 in /usr/local/lib/python3.11/dist-packages (from langsmith<0.4,>=0.1.17->langchain) (0.23.0)\n",
            "Requirement already satisfied: coloredlogs in /usr/local/lib/python3.11/dist-packages (from onnxruntime>=1.14.1->chromadb) (15.0.1)\n",
            "Requirement already satisfied: flatbuffers in /usr/local/lib/python3.11/dist-packages (from onnxruntime>=1.14.1->chromadb) (25.2.10)\n",
            "Requirement already satisfied: protobuf in /usr/local/lib/python3.11/dist-packages (from onnxruntime>=1.14.1->chromadb) (5.29.5)\n",
            "Requirement already satisfied: sympy in /usr/local/lib/python3.11/dist-packages (from onnxruntime>=1.14.1->chromadb) (1.13.1)\n",
            "Requirement already satisfied: importlib-metadata<8.8.0,>=6.0 in /usr/local/lib/python3.11/dist-packages (from opentelemetry-api>=1.2.0->chromadb) (8.7.0)\n",
            "Requirement already satisfied: googleapis-common-protos~=1.52 in /usr/local/lib/python3.11/dist-packages (from opentelemetry-exporter-otlp-proto-grpc>=1.2.0->chromadb) (1.70.0)\n",
            "Requirement already satisfied: opentelemetry-exporter-otlp-proto-common==1.34.1 in /usr/local/lib/python3.11/dist-packages (from opentelemetry-exporter-otlp-proto-grpc>=1.2.0->chromadb) (1.34.1)\n",
            "Requirement already satisfied: opentelemetry-proto==1.34.1 in /usr/local/lib/python3.11/dist-packages (from opentelemetry-exporter-otlp-proto-grpc>=1.2.0->chromadb) (1.34.1)\n",
            "Requirement already satisfied: opentelemetry-instrumentation-asgi==0.55b1 in /usr/local/lib/python3.11/dist-packages (from opentelemetry-instrumentation-fastapi>=0.41b0->chromadb) (0.55b1)\n",
            "Requirement already satisfied: opentelemetry-instrumentation==0.55b1 in /usr/local/lib/python3.11/dist-packages (from opentelemetry-instrumentation-fastapi>=0.41b0->chromadb) (0.55b1)\n",
            "Requirement already satisfied: opentelemetry-semantic-conventions==0.55b1 in /usr/local/lib/python3.11/dist-packages (from opentelemetry-instrumentation-fastapi>=0.41b0->chromadb) (0.55b1)\n",
            "Requirement already satisfied: opentelemetry-util-http==0.55b1 in /usr/local/lib/python3.11/dist-packages (from opentelemetry-instrumentation-fastapi>=0.41b0->chromadb) (0.55b1)\n",
            "Requirement already satisfied: wrapt<2.0.0,>=1.0.0 in /usr/local/lib/python3.11/dist-packages (from opentelemetry-instrumentation==0.55b1->opentelemetry-instrumentation-fastapi>=0.41b0->chromadb) (1.17.2)\n",
            "Requirement already satisfied: asgiref~=3.0 in /usr/local/lib/python3.11/dist-packages (from opentelemetry-instrumentation-asgi==0.55b1->opentelemetry-instrumentation-fastapi>=0.41b0->chromadb) (3.8.1)\n",
            "Requirement already satisfied: backoff>=1.10.0 in /usr/local/lib/python3.11/dist-packages (from posthog>=2.4.0->chromadb) (2.2.1)\n",
            "Requirement already satisfied: annotated-types>=0.6.0 in /usr/local/lib/python3.11/dist-packages (from pydantic>=1.9->chromadb) (0.7.0)\n",
            "Requirement already satisfied: pydantic-core==2.33.2 in /usr/local/lib/python3.11/dist-packages (from pydantic>=1.9->chromadb) (2.33.2)\n",
            "Requirement already satisfied: typing-inspection>=0.4.0 in /usr/local/lib/python3.11/dist-packages (from pydantic>=1.9->chromadb) (0.4.1)\n",
            "Requirement already satisfied: charset-normalizer<4,>=2 in /usr/local/lib/python3.11/dist-packages (from requests<3,>=2->langchain) (3.4.2)\n",
            "Requirement already satisfied: markdown-it-py>=2.2.0 in /usr/local/lib/python3.11/dist-packages (from rich>=10.11.0->chromadb) (3.0.0)\n",
            "Requirement already satisfied: pygments<3.0.0,>=2.13.0 in /usr/local/lib/python3.11/dist-packages (from rich>=10.11.0->chromadb) (2.19.1)\n",
            "Requirement already satisfied: greenlet>=1 in /usr/local/lib/python3.11/dist-packages (from SQLAlchemy<3,>=1.4->langchain) (3.2.2)\n",
            "Requirement already satisfied: huggingface-hub<1.0,>=0.16.4 in /usr/local/lib/python3.11/dist-packages (from tokenizers>=0.13.2->chromadb) (0.32.4)\n",
            "Requirement already satisfied: click>=8.0.0 in /usr/local/lib/python3.11/dist-packages (from typer>=0.9.0->chromadb) (8.2.1)\n",
            "Requirement already satisfied: shellingham>=1.3.0 in /usr/local/lib/python3.11/dist-packages (from typer>=0.9.0->chromadb) (1.5.4)\n",
            "Requirement already satisfied: httptools>=0.6.3 in /usr/local/lib/python3.11/dist-packages (from uvicorn[standard]>=0.18.3->chromadb) (0.6.4)\n",
            "Requirement already satisfied: python-dotenv>=0.13 in /usr/local/lib/python3.11/dist-packages (from uvicorn[standard]>=0.18.3->chromadb) (1.1.0)\n",
            "Requirement already satisfied: uvloop>=0.15.1 in /usr/local/lib/python3.11/dist-packages (from uvicorn[standard]>=0.18.3->chromadb) (0.21.0)\n",
            "Requirement already satisfied: watchfiles>=0.13 in /usr/local/lib/python3.11/dist-packages (from uvicorn[standard]>=0.18.3->chromadb) (1.0.5)\n",
            "Requirement already satisfied: websockets>=10.4 in /usr/local/lib/python3.11/dist-packages (from uvicorn[standard]>=0.18.3->chromadb) (15.0.1)\n",
            "Requirement already satisfied: cachetools<6.0,>=2.0.0 in /usr/local/lib/python3.11/dist-packages (from google-auth>=1.0.1->kubernetes>=28.1.0->chromadb) (5.5.2)\n",
            "Requirement already satisfied: pyasn1-modules>=0.2.1 in /usr/local/lib/python3.11/dist-packages (from google-auth>=1.0.1->kubernetes>=28.1.0->chromadb) (0.4.2)\n",
            "Requirement already satisfied: rsa<5,>=3.1.4 in /usr/local/lib/python3.11/dist-packages (from google-auth>=1.0.1->kubernetes>=28.1.0->chromadb) (4.9.1)\n",
            "Requirement already satisfied: filelock in /usr/local/lib/python3.11/dist-packages (from huggingface-hub<1.0,>=0.16.4->tokenizers>=0.13.2->chromadb) (3.18.0)\n",
            "Requirement already satisfied: fsspec>=2023.5.0 in /usr/local/lib/python3.11/dist-packages (from huggingface-hub<1.0,>=0.16.4->tokenizers>=0.13.2->chromadb) (2025.3.2)\n",
            "Requirement already satisfied: hf-xet<2.0.0,>=1.1.2 in /usr/local/lib/python3.11/dist-packages (from huggingface-hub<1.0,>=0.16.4->tokenizers>=0.13.2->chromadb) (1.1.2)\n",
            "Requirement already satisfied: zipp>=3.20 in /usr/local/lib/python3.11/dist-packages (from importlib-metadata<8.8.0,>=6.0->opentelemetry-api>=1.2.0->chromadb) (3.22.0)\n",
            "Requirement already satisfied: jsonpointer>=1.9 in /usr/local/lib/python3.11/dist-packages (from jsonpatch<2.0,>=1.33->langchain-core<1.0.0,>=0.3.58->langchain) (3.0.0)\n",
            "Requirement already satisfied: mdurl~=0.1 in /usr/local/lib/python3.11/dist-packages (from markdown-it-py>=2.2.0->rich>=10.11.0->chromadb) (0.1.2)\n",
            "Requirement already satisfied: humanfriendly>=9.1 in /usr/local/lib/python3.11/dist-packages (from coloredlogs->onnxruntime>=1.14.1->chromadb) (10.0)\n",
            "Requirement already satisfied: mpmath<1.4,>=1.1.0 in /usr/local/lib/python3.11/dist-packages (from sympy->onnxruntime>=1.14.1->chromadb) (1.3.0)\n",
            "Requirement already satisfied: pyasn1<0.7.0,>=0.6.1 in /usr/local/lib/python3.11/dist-packages (from pyasn1-modules>=0.2.1->google-auth>=1.0.1->kubernetes>=28.1.0->chromadb) (0.6.1)\n"
          ]
        }
      ],
      "source": [
        "!pip install chromadb openai langchain tiktoken pandas matplotlib seaborn"
      ]
    },
    {
      "cell_type": "code",
      "execution_count": 22,
      "id": "G5YJAHbxCHin",
      "metadata": {
        "id": "G5YJAHbxCHin"
      },
      "outputs": [],
      "source": [
        "from google.colab import userdata\n",
        "import chromadb\n",
        "from openai import OpenAI\n",
        "import os\n",
        "import matplotlib.pyplot as plt\n",
        "import seaborn as sns\n",
        "import numpy as np"
      ]
    },
    {
      "cell_type": "code",
      "execution_count": 23,
      "id": "9hJUTH_Sx6Kz",
      "metadata": {
        "id": "9hJUTH_Sx6Kz"
      },
      "outputs": [],
      "source": [
        "# 1.OpenAI 클라이언트 설정\n",
        "api_key = userdata.get(\"OPENAI_API_KEY\")\n",
        "client = OpenAI(api_key=api_key)"
      ]
    },
    {
      "cell_type": "code",
      "execution_count": 24,
      "id": "N6BVOyqpy8gg",
      "metadata": {
        "id": "N6BVOyqpy8gg"
      },
      "outputs": [],
      "source": [
        "# 2. ChromaDB 설정 (Google Drive 경로에 영구 저장)\n",
        "chroma = chromadb.PersistentClient(path=\"/content/drive/MyDrive/FAQ_Project/chroma_db\")"
      ]
    },
    {
      "cell_type": "code",
      "execution_count": 25,
      "id": "VHekerjFEySp",
      "metadata": {
        "colab": {
          "base_uri": "https://localhost:8080/"
        },
        "id": "VHekerjFEySp",
        "outputId": "86794da3-04d9-4bae-93d3-00c4860d38f4"
      },
      "outputs": [
        {
          "output_type": "stream",
          "name": "stdout",
          "text": [
            "기존 컬렉션 지웠어요.\n",
            "ChromaDB 컬렉션 생성 완료.\n"
          ]
        }
      ],
      "source": [
        "COLLECTION = \"smartstore_faq_collection\"\n",
        "\n",
        "try:\n",
        "    # 기존 컬렉션 삭제 후 생성 (populate_chroma.py의 목적과 동일)\n",
        "    try:\n",
        "        chroma.delete_collection(name=COLLECTION)\n",
        "        print(\"기존 컬렉션 지웠어요.\")\n",
        "    except Exception as e:\n",
        "        # 컬렉션이 없어서 삭제 실패하는 경우는 무시 (처음 실행 시 발생)\n",
        "        print(f\"기존 컬렉션이 없거나 삭제할 수 없습니다 (오류: {e}). 새로 생성합니다.\")\n",
        "\n",
        "    # 컬렉션을 생성하고 'col' 변수에 할당 (데이터 적재에 사용)\n",
        "    col = chroma.create_collection(name=COLLECTION)\n",
        "    print(\"ChromaDB 컬렉션 생성 완료.\")\n",
        "except Exception as e:\n",
        "    print(f\"ChromaDB 컬렉션 생성 실패: {e}\")\n",
        "    # exit() 대신 print만 하고 다음 셀로 넘어갈 수 있도록 수정\n",
        "    print(\"ChromaDB 컬렉션이 없어 다음 단계 진행에 문제가 있을 수 있습니다.\")\n",
        "    col = None # 컬렉션 생성 실패 시 col을 None으로 설정"
      ]
    },
    {
      "cell_type": "code",
      "execution_count": 26,
      "id": "T-VqsDDrz8re",
      "metadata": {
        "id": "T-VqsDDrz8re"
      },
      "outputs": [],
      "source": [
        "# 3. 텍스트 임베딩을 위한 모델 및 배치 처리 설정\n",
        "model = \"text-embedding-3-small\"\n",
        "embeddings = []\n",
        "batch_size = 50"
      ]
    },
    {
      "cell_type": "markdown",
      "id": "MjAj4Qg68lV_",
      "metadata": {
        "id": "MjAj4Qg68lV_"
      },
      "source": [
        "👀 코드정리\n",
        "\n",
        "❓ text-embedding-3-small\n",
        "- OpenAI의 효율적인 임베딩 모델\n",
        "- 텍스트를 고차원 벡터로 변환\n",
        "\n",
        "❓ batch_size\n",
        "- API 호출 효율성을 위해 한 번에 처리할 청크의 개수를 지정"
      ]
    },
    {
      "cell_type": "code",
      "execution_count": 27,
      "id": "sVMGEz7Ez8m6",
      "metadata": {
        "colab": {
          "base_uri": "https://localhost:8080/"
        },
        "collapsed": true,
        "id": "sVMGEz7Ez8m6",
        "outputId": "6660e0ad-3584-4db7-e9ea-a0748df0b4cc"
      },
      "outputs": [
        {
          "output_type": "stream",
          "name": "stdout",
          "text": [
            "50개 임베딩 생성함!\n",
            "100개 임베딩 생성함!\n",
            "150개 임베딩 생성함!\n",
            "200개 임베딩 생성함!\n",
            "250개 임베딩 생성함!\n",
            "300개 임베딩 생성함!\n",
            "350개 임베딩 생성함!\n",
            "400개 임베딩 생성함!\n",
            "450개 임베딩 생성함!\n",
            "500개 임베딩 생성함!\n",
            "550개 임베딩 생성함!\n",
            "600개 임베딩 생성함!\n",
            "650개 임베딩 생성함!\n",
            "700개 임베딩 생성함!\n",
            "750개 임베딩 생성함!\n",
            "800개 임베딩 생성함!\n",
            "850개 임베딩 생성함!\n",
            "900개 임베딩 생성함!\n",
            "950개 임베딩 생성함!\n",
            "1000개 임베딩 생성함!\n",
            "1050개 임베딩 생성함!\n",
            "1100개 임베딩 생성함!\n",
            "1150개 임베딩 생성함!\n",
            "1200개 임베딩 생성함!\n",
            "1250개 임베딩 생성함!\n",
            "1300개 임베딩 생성함!\n",
            "1350개 임베딩 생성함!\n",
            "1400개 임베딩 생성함!\n",
            "1450개 임베딩 생성함!\n",
            "1500개 임베딩 생성함!\n",
            "1550개 임베딩 생성함!\n",
            "1600개 임베딩 생성함!\n",
            "1650개 임베딩 생성함!\n",
            "1700개 임베딩 생성함!\n",
            "1750개 임베딩 생성함!\n",
            "1800개 임베딩 생성함!\n",
            "1850개 임베딩 생성함!\n",
            "1900개 임베딩 생성함!\n",
            "1950개 임베딩 생성함!\n",
            "2000개 임베딩 생성함!\n",
            "2050개 임베딩 생성함!\n",
            "2100개 임베딩 생성함!\n",
            "2150개 임베딩 생성함!\n",
            "2200개 임베딩 생성함!\n",
            "2250개 임베딩 생성함!\n",
            "2300개 임베딩 생성함!\n",
            "2350개 임베딩 생성함!\n",
            "2400개 임베딩 생성함!\n",
            "2450개 임베딩 생성함!\n",
            "2500개 임베딩 생성함!\n",
            "2550개 임베딩 생성함!\n",
            "2600개 임베딩 생성함!\n",
            "2650개 임베딩 생성함!\n",
            "2700개 임베딩 생성함!\n",
            "2750개 임베딩 생성함!\n",
            "2800개 임베딩 생성함!\n",
            "2850개 임베딩 생성함!\n",
            "2900개 임베딩 생성함!\n",
            "2950개 임베딩 생성함!\n",
            "3000개 임베딩 생성함!\n",
            "3050개 임베딩 생성함!\n",
            "3100개 임베딩 생성함!\n",
            "3150개 임베딩 생성함!\n",
            "3200개 임베딩 생성함!\n",
            "3250개 임베딩 생성함!\n",
            "3300개 임베딩 생성함!\n",
            "3350개 임베딩 생성함!\n",
            "3400개 임베딩 생성함!\n",
            "3450개 임베딩 생성함!\n",
            "3500개 임베딩 생성함!\n",
            "3550개 임베딩 생성함!\n",
            "3600개 임베딩 생성함!\n",
            "3650개 임베딩 생성함!\n",
            "3700개 임베딩 생성함!\n",
            "3750개 임베딩 생성함!\n",
            "3800개 임베딩 생성함!\n",
            "3850개 임베딩 생성함!\n",
            "3875개 임베딩 생성함!\n",
            "ChromaDB에 청크 저장 중...\n",
            "50개 저장됨!\n",
            "100개 저장됨!\n",
            "150개 저장됨!\n",
            "200개 저장됨!\n",
            "250개 저장됨!\n",
            "300개 저장됨!\n",
            "350개 저장됨!\n",
            "400개 저장됨!\n",
            "450개 저장됨!\n",
            "500개 저장됨!\n",
            "550개 저장됨!\n",
            "600개 저장됨!\n",
            "650개 저장됨!\n",
            "700개 저장됨!\n",
            "750개 저장됨!\n",
            "800개 저장됨!\n",
            "850개 저장됨!\n",
            "900개 저장됨!\n",
            "950개 저장됨!\n",
            "1000개 저장됨!\n",
            "1050개 저장됨!\n",
            "1100개 저장됨!\n",
            "1150개 저장됨!\n",
            "1200개 저장됨!\n",
            "1250개 저장됨!\n",
            "1300개 저장됨!\n",
            "1350개 저장됨!\n",
            "1400개 저장됨!\n",
            "1450개 저장됨!\n",
            "1500개 저장됨!\n",
            "1550개 저장됨!\n",
            "1600개 저장됨!\n",
            "1650개 저장됨!\n",
            "1700개 저장됨!\n",
            "1750개 저장됨!\n",
            "1800개 저장됨!\n",
            "1850개 저장됨!\n",
            "1900개 저장됨!\n",
            "1950개 저장됨!\n",
            "2000개 저장됨!\n",
            "2050개 저장됨!\n",
            "2100개 저장됨!\n",
            "2150개 저장됨!\n",
            "2200개 저장됨!\n",
            "2250개 저장됨!\n",
            "2300개 저장됨!\n",
            "2350개 저장됨!\n",
            "2400개 저장됨!\n",
            "2450개 저장됨!\n",
            "2500개 저장됨!\n",
            "2550개 저장됨!\n",
            "2600개 저장됨!\n",
            "2650개 저장됨!\n",
            "2700개 저장됨!\n",
            "2750개 저장됨!\n",
            "2800개 저장됨!\n",
            "2850개 저장됨!\n",
            "2900개 저장됨!\n",
            "2950개 저장됨!\n",
            "3000개 저장됨!\n",
            "3050개 저장됨!\n",
            "3100개 저장됨!\n",
            "3150개 저장됨!\n",
            "3200개 저장됨!\n",
            "3250개 저장됨!\n",
            "3300개 저장됨!\n",
            "3350개 저장됨!\n",
            "3400개 저장됨!\n",
            "3450개 저장됨!\n",
            "3500개 저장됨!\n",
            "3550개 저장됨!\n",
            "3600개 저장됨!\n",
            "3650개 저장됨!\n",
            "3700개 저장됨!\n",
            "3750개 저장됨!\n",
            "3800개 저장됨!\n",
            "3850개 저장됨!\n",
            "3900개 저장됨!\n",
            "\n",
            "ChromaDB 데이터 적재 완료!\n"
          ]
        }
      ],
      "source": [
        "# 4. 임베딩 생성 및 ChromaDB에 청크 저장\n",
        "for i in range(0, len(chunks), batch_size):\n",
        "    try:\n",
        "        batch = chunks[i:i + batch_size]\n",
        "        res = client.embeddings.create(input=batch, model=model)\n",
        "        embs = [x.embedding for x in res.data]\n",
        "        embeddings.extend(embs)\n",
        "        print(f\"{i + len(embs)}개 임베딩 생성함!\")\n",
        "    except Exception as e:\n",
        "        print(f\"임베딩 실패: {e}\")\n",
        "        # 임베딩 실패 시 모든 진행을 멈추는 대신, 에러 메시지 출력 후 continue (다음 배치 시도)\n",
        "        # 또는 'exit()'를 사용하여 강제 종료 가능 (디버깅 목적에 따라 선택)\n",
        "        # exit()\n",
        "        print(\"임베딩 생성 중 오류 발생, 다음 단계 진행에 문제가 있을 수 있습니다.\")\n",
        "        break # 임베딩 실패 시 루프 중단\n",
        "\n",
        "if len(embeddings) != len(chunks):\n",
        "    print(\"WARNING: 임베딩 수와 청크 수가 일치하지 않습니다. 뭔가 이상합니다.\")\n",
        "    # exit() # 문제 발견 시 종료 가능\n",
        "\n",
        "print(\"ChromaDB에 청크 저장 중...\")\n",
        "# ChromaDB에 청크 저장\n",
        "for i in range(0, len(chunks), batch_size):\n",
        "    try:\n",
        "        col.add( # 'col' 변수 사용\n",
        "            documents=chunks[i:i + batch_size],\n",
        "            embeddings=embeddings[i:i + batch_size],\n",
        "            metadatas=metas[i:i + batch_size],\n",
        "            ids=ids[i:i + batch_size]\n",
        "        )\n",
        "        print(f\"{i + batch_size}개 저장됨!\")\n",
        "    except Exception as e:\n",
        "        print(f\"ChromaDB 저장 실패: {e}\")\n",
        "        # exit() # 문제 발견 시 종료 가능\n",
        "        print(\"ChromaDB 저장 중 오류 발생, 데이터가 부분적으로 저장되었을 수 있습니다.\")\n",
        "        break # 저장 실패 시 루프 중단\n",
        "\n",
        "print(\"\\nChromaDB 데이터 적재 완료!\")"
      ]
    },
    {
      "cell_type": "markdown",
      "id": "1YdwQQOT-lZC",
      "metadata": {
        "id": "1YdwQQOT-lZC"
      },
      "source": [
        "## 🧪 5. RAG 검색 시스템 성능 평가 및 SIMILARITY_THRESHOLD 최적화"
      ]
    },
    {
      "cell_type": "code",
      "execution_count": 28,
      "id": "C1wDMcxmz8kb",
      "metadata": {
        "colab": {
          "base_uri": "https://localhost:8080/"
        },
        "id": "C1wDMcxmz8kb",
        "outputId": "402318e9-27ac-4c84-939f-af5d1e26712f"
      },
      "outputs": [
        {
          "output_type": "stream",
          "name": "stdout",
          "text": [
            "ChromaDB 컬렉션 'smartstore_faq_collection' 연결 완료 (검색용).\n"
          ]
        }
      ],
      "source": [
        "# 1.검색 테스트 및 거리 값 분석\n",
        "chroma_client_for_test = chromadb.PersistentClient(path=\"/content/drive/MyDrive/FAQ_Project/chroma_db\")\n",
        "\n",
        "try:\n",
        "    faq_collection_for_test = chroma_client_for_test.get_collection(name=COLLECTION)\n",
        "    print(f\"ChromaDB 컬렉션 '{COLLECTION}' 연결 완료 (검색용).\")\n",
        "except Exception as e:\n",
        "    print(f\"ERROR: ChromaDB 컬렉션 '{COLLECTION}'을 찾을 수 없습니다. 이전 셀에서 데이터가 제대로 적재되었는지 확인하세요.\")\n",
        "    faq_collection_for_test = None"
      ]
    },
    {
      "cell_type": "code",
      "execution_count": 29,
      "id": "EHlrqHeV0uje",
      "metadata": {
        "id": "EHlrqHeV0uje"
      },
      "outputs": [],
      "source": [
        "# 2. 테스트할 사용자 질문 리스트\n",
        "test_queries = [\n",
        "    \"주문 취소는 어떻게 하나요?\",\n",
        "    \"배송비가 얼마인가요?\",\n",
        "    \"교환 및 반품 절차 알려주세요.\",\n",
        "    \"스마트스토어 판매 수수료는 어떻게 되나요?\",\n",
        "    \"제주도 특산품에 대해 알려주세요.\", # 관련 없는 질문 예시\n",
        "    \"오늘 날씨 어때?\", # 관련 없는 질문 예시\n",
        "    \"스마트스토어 계정 정지는 왜 되나요?\",\n",
        "    \"상품 등록 방법 가이드 주세요\"\n",
        "]"
      ]
    },
    {
      "cell_type": "code",
      "execution_count": 30,
      "id": "VqcnMbq30ug3",
      "metadata": {
        "colab": {
          "base_uri": "https://localhost:8080/"
        },
        "collapsed": true,
        "id": "VqcnMbq30ug3",
        "outputId": "0cb68198-629f-4a56-a894-41a576b90594"
      },
      "outputs": [
        {
          "output_type": "stream",
          "name": "stdout",
          "text": [
            "\n",
            "--- ChromaDB 검색 거리(Distance) 값 분석 ---\n",
            "\n",
            "[질문 1: '주문 취소는 어떻게 하나요?']\n",
            "  - 거리: 0.6240, 원본 질문: '주문한 상품 중 일부만 취소할 수 있나요?...', 내용: '[판매관리 > 발주(주문)확인/발송관리]에서 상품별(상품주문번호)로 취소 가능합니다.단, ...'\n",
            "  - 거리: 0.6256, 원본 질문: '취소 접수하였으나, 정상적으로 배송하고자 합니다 (온라...', 내용: '﻿구매자가 취소접수를 철회하면 이전 주문상태로 변경됩니다.구매자가 직접 취소를 철회하는 방...'\n",
            "  - 거리: 0.6268, 원본 질문: '취소해야 하는데 구매자와 연락이 되지 않습니다. 어떻게...', 내용: '주문 취소 처리 시 \"구매자에게 전할 말씀\" 항목에 취소 사유를 기재해 주시면 구매자가 직...'\n",
            "  - 거리: 0.6497, 원본 질문: '상품이 발송된 후 취소가 접수되면 어떻게 하나요? (온...', 내용: '취소요청된 주문이 이미 발송되어 취소 불가능한 상태라면 [판매관리 > 취소관리] 메뉴에서 ...'\n",
            "  - 거리: 0.6571, 원본 질문: '취소 접수된 건 발송처리는 어떻게 하나요?...', 내용: '발송전 취소요청은 발주확인 후 발송처리 전에 구매자가 '주문 취소'를 요청한 건 입니다. ...'\n",
            "  - 거리: 0.6584, 원본 질문: ''굿스플로 송장출력' 후 취소가 접수되면 어떻게 해야 ...', 내용: '굿스플로 송장출력한 경우 택배사에서 '집화'처리하면 '배송중' 상태로 변경됩니다.굿스플로 ...'\n",
            "  - 거리: 0.6658, 원본 질문: '취소 접수는 어떻게 하나요? (온라인 교육 제공)...', 내용: '판매자가 [판매관리 > 발주(주문)확인/발송관리] 메뉴에서 취소처리하면 즉시 취소완료됩니다...'\n",
            "  - 거리: 0.6680, 원본 질문: ''발송전 취소요청' 은 어떻게 해야 하나요?...', 내용: '발송전 취소요청은 발주확인 후 발송처리 전에 구매자가 '주문 취소'를 요청한 건 입니다. ...'\n",
            "  - 거리: 0.6778, 원본 질문: '★ 구매확정 내역 활용 방법...', 내용: '클릭해 주세요.3. '구매확정 후 취소처리'  팝업창에서 취소사유 및 재결제가 필요한 주문...'\n",
            "  - 거리: 0.6809, 원본 질문: '구매확정(교환완료) 후 반품을 원할 경우 어떻게 해야 ...', 내용: '후 취소처리'를 클릭해 주세요.3. '구매확정 후 취소처리'  팝업창에서 취소사유 및 재결...'\n",
            "\n",
            "[질문 2: '배송비가 얼마인가요?']\n",
            "  - 거리: 0.7362, 원본 질문: '배송비는 최대 얼마까지 입력 가능한가요?...', 내용: '배송비는 최대 10만원까지 입력 가능합니다.10만원 이상 배송비가 발생 할 경우 구매자와 ...'\n",
            "  - 거리: 0.8705, 원본 질문: '상품의 '배송' 정보는 어떻게 등록하나요?...', 내용: '배송비/지역별추가배송비 설정 가능※ 참고. 묶음그룹 상품 중에 배송비 부과상품과 무료배송상...'\n",
            "  - 거리: 0.8802, 원본 질문: '주문을 취소했는데 '취소중(취소 진행중 건 존재)' 상...', 내용: '배송비가 자동 청구됩니다.구매자로부터 반품배송비를 별도로 받았을 경우(상품에 동봉 or 송...'\n",
            "  - 거리: 0.9074, 원본 질문: '배송통계 보고서...', 내용: '배송기간 48시간 내건수\n",
            "선택된 기간에 배송이 완료된 건수 중 배송소요시간이 48시간 내인...'\n",
            "  - 거리: 0.9279, 원본 질문: '배송통계 보고서...', 내용: '배송완료건수\n",
            "선택된 기간 중 배송이 완료된 건 수 입니다.\n",
            "\n",
            " 배송완료일 준수 건수선택된 ...'\n",
            "  - 거리: 0.9378, 원본 질문: '배송상품을 다수의 친구에게 선물한 경우, 배송비는 어떻...', 내용: '배송상품을 다수의 친구에게 선물하는 경우, 선물 받는 친구 수 만큼 배송비가 부과됩니다.동...'\n",
            "  - 거리: 0.9438, 원본 질문: '초기배송비에도 수수료가 부과되나요?...', 내용: '초기배송비 OX  반품/교환배송비\n",
            " O\n",
            "X \n",
            "\n",
            "배송비 정산내역은 [정산관리 > 정산 내역 ...'\n",
            "  - 거리: 0.9494, 원본 질문: '[마케팅 이력] 타겟팅 예상수와 실제 전송대상수가 상이...', 내용: '가능 수 50건 만큼만 랜덤발송되어 '실제 전송대상자 수'는 50건으로 발송됩니다.    ...'\n",
            "  - 거리: 0.9597, 원본 질문: '배송통계 보고서...', 내용: '배송건의 경우 위 [결제/발송/배송완료]가 일어난 날짜는 각각 다를 수 있으므로,  선택된...'\n",
            "  - 거리: 0.9643, 원본 질문: '[네이버도착보장] 여러 상품을 묶어서 주문한 경우 보상...', 내용: '배송지연 보상의 기준단위는 상품 주문건으로, 상품 주문건 당 1,000원의 네이버 포인트가...'\n",
            "\n",
            "[질문 3: '교환 및 반품 절차 알려주세요.']\n",
            "  - 거리: 0.7535, 원본 질문: '교환재배송중 상태에서 반품으로 변경이 가능한가요?...', 내용: '교환재배송중 상태에서는 반품으로 변경이 불가능 합니다. 구매자 요청으로 환불(반품)이 필요...'\n",
            "  - 거리: 0.7752, 원본 질문: '★ 교환요청 건 처리 방법...', 내용: '구매자가 접수한 교환 건을 처리하는 메뉴입니다.교환 재배송처리 전, 주문 건이 교환 수거완...'\n",
            "  - 거리: 0.8225, 원본 질문: '교환 접수된 주문을 반품으로 변경하고 싶어요....', 내용: '교환으로 접수된 주문은 [판매관리 > 교환관리] 메뉴에서 해당 주문 건 선택 후 '반품으로...'\n",
            "  - 거리: 0.8296, 원본 질문: '교환할 상품을 어떻게 재배송 처리하나요? (온라인 교육...', 내용: '교환 재배송처리는 수거완료된 상태에서 [판매관리 > ​교환관리] 메뉴에서 가능합니다.※ 참...'\n",
            "  - 거리: 0.8298, 원본 질문: '교환 수거 후 기한 내 재배송 처리가 불가하면 어떻게 ...', 내용: '교환 수거완료일 3영업일 이내 '교환 재배송 처리'를 진행해 주셔야 페널티가 부과되지 않습...'\n",
            "  - 거리: 0.8365, 원본 질문: '구매자가 교환을 원할 경우, 어떻게 접수 하나요?...', 내용: ''교환재배송중' 또는 '교환완료'로 변경된 경우 교환 재접수가 불가하오니, 구매자와 협의하...'\n",
            "  - 거리: 0.8519, 원본 질문: '교환 비용은 어떻게 처리하나요?...', 내용: '먼저, 교환 접수된 주문에 교환배송비 청구된 내역이 있는지 확인해 주세요. 현재 교환배송비...'\n",
            "  - 거리: 0.8557, 원본 질문: '일별공제/환급에서 환급과 공제는 무엇인가요?...', 내용: '통해 반품/교환 상품 수거 후 차감된 배송비 내역 (수거완료일 + 1영업일째) 환급구분· ...'\n",
            "  - 거리: 0.8589, 원본 질문: '교환 비용은 어떻게 처리하나요?...', 내용: '구매자에게 전하실 말씀을 기재하고 '교환보류 설정' 버튼을 클릭해 주세요.         ...'\n",
            "  - 거리: 0.8652, 원본 질문: '★ 교환요청 건 처리 방법...', 내용: '주문 건 선택 후, 교환거부 상세사유 기재하여 거부(철회)처리 진행합니다.         ...'\n",
            "\n",
            "[질문 4: '스마트스토어 판매 수수료는 어떻게 되나요?']\n",
            "  - 거리: 0.8477, 원본 질문: '수수료는 어떤 금액 기준으로 적용 되나요?...', 내용: '스마트스토어를 통한 상품 판매로 인해 과금되는 수수료는 결제금액(상품주문번호단위) 기준으로...'\n",
            "  - 거리: 0.8511, 원본 질문: '수수료의 종류를 알고 싶어요....', 내용: '스마트스토어를 통한 상품 판매로 인해 부과되는 수수료는 2가지 종류가 있으며, 유형에 따라...'\n",
            "  - 거리: 0.8968, 원본 질문: '[원쁠딜] 어떤 상품을 제안할 수 있나요?...', 내용: '스마트스토어를 통해 네이버 쇼핑에서 판매 중인 정상 상품이면 신청 접수가 가능합니다.(수수...'\n",
            "  - 거리: 0.9175, 원본 질문: '구매자 만족도는 무엇인가요?...', 내용: '스마트스토어에서는 실제 상품을 구매한 구매자들의 평가에 의해 이루어지는 \"구매자 만족도\"를...'\n",
            "  - 거리: 0.9186, 원본 질문: '[사업자 전용] 스마트스토어 계정 추가(스토어 추가)는...', 내용: '스마트스토어 추가 개설을 원할 경우 [판매자정보 > 정보변경 신청] 메뉴 우측 '스마트스토...'\n",
            "  - 거리: 0.9255, 원본 질문: '[국내 사업자 전용] 빠른정산을 받을 경우 신용도에 영...', 내용: '스마트스토어에서 제공하는 전용 서비스로, 판매자님의 신용도에는 영향이 없습니다....'\n",
            "  - 거리: 0.9336, 원본 질문: '스마트스토어 가입 후 대행사로부터 홍보 연락을 받았습니...', 내용: '스마트스토어는 가입, 스토어 개설 시 판매자님의 정보를 임의로 외부에 제공하지 않습니다. ...'\n",
            "  - 거리: 0.9817, 원본 질문: '부가세신고할 때 매출계산은 어떻게 하나요?...', 내용: '스마트스토어 매출계산은 건별 결제금액 + 쿠폰 정산금액(네이버부담 쿠폰) + 일별 공제/환...'\n",
            "  - 거리: 0.9821, 원본 질문: '부가세신고는 어떻게 하나요?...', 내용: '수수료, 배송비를 포함하여 작성된 자료입니다.· 스마트스토어에서 발생된 모든 매출(신용카드...'\n",
            "  - 거리: 0.9862, 원본 질문: '통신판매업 폐업 신고를 했다면 어떻게 되나요?...', 내용: '스마트스토어는 정상 운영 여부를 지속적으로 모니터링하고 있습니다.만약 통신판매업이 폐업으로...'\n",
            "\n",
            "[질문 5: '제주도 특산품에 대해 알려주세요.']\n",
            "  - 거리: 1.0678, 원본 질문: '제주/도서산간지역 추가 배송비 설정은 어떻게 하나요?...', 내용: '제주/도서산간지역의 추가 배송비는 [상품관리 > 배송정보 관리] 메뉴에서 '배송비 묶음그룹...'\n",
            "  - 거리: 1.0967, 원본 질문: '전통주 판매를 하고 싶은데 위탁판매가 가능한가요?...', 내용: '전통주는 위탁판매가 불가하며, 주류 통신판매 승인서, 주류 제조 면허증을 가지고 있는 판매...'\n",
            "  - 거리: 1.1049, 원본 질문: '배송지가 제주/도서산간 지역으로 변경될 경우 배송비는 ...', 내용: '제주/도서산간 지역별 배송비는 최초 주문 시에만 부과 및 결제 가능합니다. 구매자가 일반 ...'\n",
            "  - 거리: 1.1274, 원본 질문: '제주/도서산간지역 추가 배송비 설정은 어떻게 하나요?...', 내용: '경우    3권역 : 제주/도서산간지역의 추가배송비가 상이할 경우    ※ 참고. 2,3권...'\n",
            "  - 거리: 1.1390, 원본 질문: '반품접수 시 제주/도서산간 지역별 배송비도 자동으로 청...', 내용: '반품 접수 시 제주/도서산간 지역별 배송비는 자동 청구되지 않으므로, 기타반품비용으로 추가...'\n",
            "  - 거리: 1.1401, 원본 질문: '[고객확인제도] 소액주주가 여러명일 경우 어떻게 기재하...', 내용: '주주명부에 전부 기재가 아닌 '기타주주 또는 소액주주'로 표기 및 지분율을 적어주시면 됩니...'\n",
            "  - 거리: 1.1482, 원본 질문: '선물 주문의 지역별 추가 배송비가 발생하였습니다. 어떻...', 내용: '기본 배송비 및 제주/도서산간지역 배송비는 결제시점의 배송지를 반영하여 적용되고 있습니다....'\n",
            "  - 거리: 1.1796, 원본 질문: '[네이버도착보장] 도서산간의 경우 네이버도착보장 상품은...', 내용: '네이버도착보장 상품이어도 기본 배송비 및 제주/도서산간 추가배송비 모두 자유롭게 설정 가능...'\n",
            "  - 거리: 1.1897, 원본 질문: '지역별 추가 배송비의 2권역, 3권역이 무엇인가요?...', 내용: '지역별 추가 배송비를 설정하는 경우 배송권역을 2권역, 3권역 중 선택할 수 있습니다.  ...'\n",
            "  - 거리: 1.1933, 원본 질문: '원산지 등록 기준이 어떻게 되나요?...', 내용: '상품 등록/수정 페이지 내에 [상품 주요정보 > 원산지] 등록 시에는 '원재료 원산지'를 ...'\n",
            "\n",
            "(테스트 질문이 5개를 초과하여 중단합니다.)\n"
          ]
        }
      ],
      "source": [
        "# 3. ChromaDB 검색 실행 및 거리 값 수집\n",
        "all_retrieved_distances = []\n",
        "\n",
        "print(\"\\n--- ChromaDB 검색 거리(Distance) 값 분석 ---\")\n",
        "\n",
        "if faq_collection_for_test: # 컬렉션이 제대로 연결된 경우에만 실행\n",
        "    for i, query in enumerate(test_queries):\n",
        "        # 너무 많은 쿼리로 인해 시간이 오래 걸릴 수 있으므로 5개만 테스트하도록 제한\n",
        "        if i >= 5:\n",
        "            print(f\"\\n(테스트 질문이 5개를 초과하여 중단합니다.)\")\n",
        "            break\n",
        "\n",
        "        print(f\"\\n[질문 {i+1}: '{query}']\")\n",
        "        try:\n",
        "            # 사용자 질문 임베딩 생성\n",
        "            query_embed = client.embeddings.create(input=[query], model=\"text-embedding-3-small\").data[0].embedding\n",
        "\n",
        "            # ChromaDB 쿼리 실행: 가장 유사한 10개의 청크를 가져옴\n",
        "            result = faq_collection_for_test.query(\n",
        "                query_embeddings=[query_embed],\n",
        "                n_results=10, # 충분한 결과를 보기 위해 10개로 설정\n",
        "                include=[\"documents\", \"metadatas\", \"distances\"]\n",
        "            )\n",
        "\n",
        "            # 검색 결과에서 거리, 문서, 메타데이터를 추출\n",
        "            current_query_distances = result[\"distances\"][0]\n",
        "            current_query_docs = result[\"documents\"][0]\n",
        "            current_query_metas = result[\"metadatas\"][0]\n",
        "\n",
        "            # 각 검색 결과의 상세 정보를 출력하고 거리 값을 수집\n",
        "            for j in range(len(current_query_distances)):\n",
        "                dist = current_query_distances[j]\n",
        "                doc = current_query_docs[j]\n",
        "                meta = current_query_metas[j]\n",
        "                original_question = meta.get('original_question', 'N/A')\n",
        "                print(f\"  - 거리: {dist:.4f}, 원본 질문: '{original_question[:30]}...', 내용: '{doc[:50]}...'\")\n",
        "                all_retrieved_distances.append(dist)\n",
        "\n",
        "        except Exception as e:\n",
        "            print(f\"  오류 발생: {e}. 다음 질문으로 넘어갑니다.\")\n",
        "            continue # 하나의 쿼리 실패해도 다음 쿼리 진행\n",
        "\n",
        "else:\n",
        "    print(\"FAQ 컬렉션이 연결되지 않아 검색 테스트를 PASS합니다.\")"
      ]
    },
    {
      "cell_type": "code",
      "execution_count": 31,
      "id": "f1MKlN0J7lDe",
      "metadata": {
        "colab": {
          "base_uri": "https://localhost:8080/"
        },
        "id": "f1MKlN0J7lDe",
        "outputId": "f8d53a57-cdc4-49be-c902-7a48ad2835a0"
      },
      "outputs": [
        {
          "output_type": "stream",
          "name": "stdout",
          "text": [
            "\n",
            "--- 검색된 거리 값 통계 ---\n",
            "count    50.000000\n",
            "mean      0.890358\n",
            "std       0.164602\n",
            "min       0.624038\n",
            "10%       0.658303\n",
            "25%       0.786987\n",
            "50%       0.888497\n",
            "75%       0.977385\n",
            "90%       1.139141\n",
            "95%       1.165514\n",
            "max       1.193311\n",
            "dtype: float64\n"
          ]
        }
      ],
      "source": [
        "# 4. 거리 값 통계 분석\n",
        "distances_series = pd.Series(all_retrieved_distances)\n",
        "print(\"\\n--- 검색된 거리 값 통계 ---\")\n",
        "print(distances_series.describe(percentiles=[.1, .25, .5, .75, .9, .95]))"
      ]
    },
    {
      "cell_type": "code",
      "execution_count": 32,
      "id": "F5_l1HFG7lF_",
      "metadata": {
        "colab": {
          "base_uri": "https://localhost:8080/",
          "height": 563
        },
        "id": "F5_l1HFG7lF_",
        "outputId": "5b82c232-7e29-4f03-88a5-38bc46c655fd"
      },
      "outputs": [
        {
          "output_type": "display_data",
          "data": {
            "text/plain": [
              "<Figure size 1000x600 with 1 Axes>"
            ],
            "image/png": "[encoded data removed]"
          },
          "metadata": {}
        }
      ],
      "source": [
        "# 5. 모든 검색된 거리 값의 분포 시각화\n",
        "plt.figure(figsize=(10, 6))\n",
        "sns.histplot(all_retrieved_distances, bins=30, kde=True, color='purple', edgecolor='black')\n",
        "plt.title(\"사용자 질문에 대한 검색된 청크 거리(Distance) 분포\")\n",
        "plt.xlabel(\"거리 값 (낮을수록 유사)\")\n",
        "plt.ylabel(\"개수\")\n",
        "plt.grid(True)\n",
        "plt.show()"
      ]
    },
    {
      "cell_type": "markdown",
      "id": "zG55nVCv_0YP",
      "metadata": {
        "id": "zG55nVCv_0YP"
      },
      "source": [
        "🔎 인사이트/결과:\n",
        "```\n",
        "--- 검색된 거리 값 통계 ---\n",
        "count    50.000000\n",
        "mean      0.890020\n",
        "std       0.163749\n",
        "min       0.624038\n",
        "10%       0.658225\n",
        "25%       0.786519\n",
        "50%       0.888514\n",
        "75%       0.977147\n",
        "90%       1.128881\n",
        "95%       1.164577\n",
        "max       1.193862\n",
        "dtype: float64\n",
        "```\n",
        "📌 거리 값의 의미 확인\n",
        "- ChromaDB에서 반환하는 distances 값은 **코사인 거리(Cosine Distance)**\n",
        "- 즉, 0에 가까울수록 의미론적으로 매우 유사\n",
        "- 값이 커질수록 유사도가 낮아져 2에 가까워질수록 완전히 비유사함을 의미\n",
        "\n",
        "📌 평균 및 중앙값\n",
        "- 검색된 거리의 평균(mean)이 약 0.89이고 중앙값(50%)이 약 0.88\n",
        "- 대부분의 검색 결과가 1.0 미만의 값을 가짐\n",
        "➡️ 해당 청크들이 질문과 높은 유사성을 가지고 있다\n",
        "\n",
        "📌 상위 90% 이상의 분포\n",
        "- 상위 10%에 해당하는 거리 값은 1.1을 넘어섬\n",
        "➡️ 해당 청크들이 질문과 의미론적으로 거리가 멀다\n",
        "\n",
        "📌 임계값이 너무 낮은 경우(예: 0.8 미만) ➡️ 챗봇의 **커버리지(Coverage)**를 저하\n",
        "- 평균보다 훨씬 낮은 값을 설정하면 매우 유사한 정보만 포함\n",
        "- LLM이 답변할 수 있는 범위가 좁아지거나\n",
        "- 애매모호하게 다른 질문에는 답변하지 못할 위험이 있음\n",
        "\n",
        "📌 임계값이 너무 높은 경우(예: 1.2 이상) ➡️ 챗봇의 **정확도(Accuracy)** 저하\n",
        "- 관련성이 낮은 청크까지 LLM에 전달함\n",
        "- LLM이 잘못된 정보를 기반으로 답변을 생성하거나 (환각, Hallucination)\n",
        "- '해당 내용은 FAQ에서 찾을 수 없습니다.'와 같은 적절한 안내를 제공하지 못할 위험"
      ]
    },
    {
      "cell_type": "markdown",
      "id": "US2IKvU6EXPF",
      "metadata": {
        "id": "US2IKvU6EXPF"
      },
      "source": [
        "## ✅ 6.최종 SIMILARITY_THRESHOLD를 1.1로 결정\n",
        "📌 **90% 지점(1.128881)과 95% 지점(1.164577)**을 고려\n",
        "- 1.1이라는 임계값은 대부분의 유효하고 관련성 높은 청크를 포함하면서도\n",
        "- 질문과 **유사성이 현저히 떨어지는 청크들(상위 약 10% 내외)**을 효과적으로 필터링할 수 있는 경계선으로 판단\n",
        "\n",
        "📌 검색 정확도와 답변 커버리지 사이의 합리적인 균형점을 찾는 데 1.1이 최적이라고 결론\n",
        "- 이 임계값은 챗봇이 다양한 사용자 질문에 대해 적절한 수준의 커버리지를 유지, 불필요하거나 오해의 소지가 있는 정보의 유입을 최소화"
      ]
    },
    {
      "cell_type": "markdown",
      "id": "404ed005",
      "metadata": {
        "id": "404ed005"
      },
      "source": [
        "## 📝 다음 단계에서 고려할 개선 방향\n",
        "- Top-K 앙상블 검색 실험 예정\n",
        "- GPT prompt 구성 및 응답 튜닝 전략 적용\n",
        "- 다양한 도메인 FAQ 데이터셋 대응 실험 예정"
      ]
    },
    {
      "cell_type": "markdown",
      "id": "oPI6196BIpDv",
      "metadata": {
        "id": "oPI6196BIpDv"
      },
      "source": [
        "### 📚 참고자료\n",
        "- OpenAI Embedding API 문서: https://platform.openai.com/docs/guides/embeddings\n",
        "- ChromaDB 공식: https://docs.trychroma.com/docs\n",
        "- Retrieval-Augmented Generation for Knowledge-Intensive NLP Tasks(RAG 논문 (Lewis et al., 2020): https://velog.io/@tobigs-nlp/Retrieval-Augmented-Generation-for-Knowledge-Intensive-NLP-Tasks\n",
        "- RAG가 적용된 나만의 챗봇 만들기(langchain, FastAPI, streamlit)\n",
        "출처: https://issul.tistory.com/448: https://issul.tistory.com/448\n",
        "- 챗봇 구축을 위한 RAG 시스템 구성 및 ChatGPT 연동 가이드: https://mori29.tistory.com/22#4.%20%ED%95%98%EC%9D%B4%ED%8D%BC%ED%8C%8C%EB%9D%BC%EB%AF%B8%ED%84%B0%20%ED%8A%9C%EB%8B%9D-1-21\n",
        "- RAG+LangChain : https://health-coding.tistory.com/93"
      ]
    }
  ],
  "metadata": {
    "colab": {
      "provenance": []
    },
    "kernelspec": {
      "display_name": "Python 3",
      "name": "python3"
    },
    "language_info": {
      "name": "python"
    }
  },
  "nbformat": 4,
  "nbformat_minor": 5
}